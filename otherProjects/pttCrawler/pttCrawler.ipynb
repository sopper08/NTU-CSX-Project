{
 "cells": [
  {
   "cell_type": "code",
   "execution_count": 4,
   "metadata": {
    "scrolled": true
   },
   "outputs": [
    {
     "name": "stderr",
     "output_type": "stream",
     "text": [
      "/home/sopper/anaconda3/lib/python3.6/site-packages/urllib3/connectionpool.py:858: InsecureRequestWarning: Unverified HTTPS request is being made. Adding certificate verification is strongly advised. See: https://urllib3.readthedocs.io/en/latest/advanced-usage.html#ssl-warnings\n",
      "  InsecureRequestWarning)\n",
      "/home/sopper/anaconda3/lib/python3.6/site-packages/urllib3/connectionpool.py:858: InsecureRequestWarning: Unverified HTTPS request is being made. Adding certificate verification is strongly advised. See: https://urllib3.readthedocs.io/en/latest/advanced-usage.html#ssl-warnings\n",
      "  InsecureRequestWarning)\n",
      "/home/sopper/anaconda3/lib/python3.6/site-packages/urllib3/connectionpool.py:858: InsecureRequestWarning: Unverified HTTPS request is being made. Adding certificate verification is strongly advised. See: https://urllib3.readthedocs.io/en/latest/advanced-usage.html#ssl-warnings\n",
      "  InsecureRequestWarning)\n",
      "/home/sopper/anaconda3/lib/python3.6/site-packages/urllib3/connectionpool.py:858: InsecureRequestWarning: Unverified HTTPS request is being made. Adding certificate verification is strongly advised. See: https://urllib3.readthedocs.io/en/latest/advanced-usage.html#ssl-warnings\n",
      "  InsecureRequestWarning)\n"
     ]
    },
    {
     "name": "stdout",
     "output_type": "stream",
     "text": [
      "---第1篇文章爬蟲完成！---\n"
     ]
    },
    {
     "name": "stderr",
     "output_type": "stream",
     "text": [
      "/home/sopper/anaconda3/lib/python3.6/site-packages/urllib3/connectionpool.py:858: InsecureRequestWarning: Unverified HTTPS request is being made. Adding certificate verification is strongly advised. See: https://urllib3.readthedocs.io/en/latest/advanced-usage.html#ssl-warnings\n",
      "  InsecureRequestWarning)\n"
     ]
    },
    {
     "name": "stdout",
     "output_type": "stream",
     "text": [
      "---第2篇文章爬蟲完成！---\n"
     ]
    },
    {
     "name": "stderr",
     "output_type": "stream",
     "text": [
      "/home/sopper/anaconda3/lib/python3.6/site-packages/urllib3/connectionpool.py:858: InsecureRequestWarning: Unverified HTTPS request is being made. Adding certificate verification is strongly advised. See: https://urllib3.readthedocs.io/en/latest/advanced-usage.html#ssl-warnings\n",
      "  InsecureRequestWarning)\n"
     ]
    },
    {
     "name": "stdout",
     "output_type": "stream",
     "text": [
      "---第3篇文章爬蟲完成！---\n"
     ]
    },
    {
     "name": "stderr",
     "output_type": "stream",
     "text": [
      "/home/sopper/anaconda3/lib/python3.6/site-packages/urllib3/connectionpool.py:858: InsecureRequestWarning: Unverified HTTPS request is being made. Adding certificate verification is strongly advised. See: https://urllib3.readthedocs.io/en/latest/advanced-usage.html#ssl-warnings\n",
      "  InsecureRequestWarning)\n"
     ]
    },
    {
     "name": "stdout",
     "output_type": "stream",
     "text": [
      "---第4篇文章爬蟲完成！---\n"
     ]
    },
    {
     "name": "stderr",
     "output_type": "stream",
     "text": [
      "/home/sopper/anaconda3/lib/python3.6/site-packages/urllib3/connectionpool.py:858: InsecureRequestWarning: Unverified HTTPS request is being made. Adding certificate verification is strongly advised. See: https://urllib3.readthedocs.io/en/latest/advanced-usage.html#ssl-warnings\n",
      "  InsecureRequestWarning)\n"
     ]
    },
    {
     "name": "stdout",
     "output_type": "stream",
     "text": [
      "---第5篇文章爬蟲完成！---\n"
     ]
    },
    {
     "name": "stderr",
     "output_type": "stream",
     "text": [
      "/home/sopper/anaconda3/lib/python3.6/site-packages/urllib3/connectionpool.py:858: InsecureRequestWarning: Unverified HTTPS request is being made. Adding certificate verification is strongly advised. See: https://urllib3.readthedocs.io/en/latest/advanced-usage.html#ssl-warnings\n",
      "  InsecureRequestWarning)\n"
     ]
    },
    {
     "name": "stdout",
     "output_type": "stream",
     "text": [
      "---第6篇文章爬蟲完成！---\n"
     ]
    },
    {
     "name": "stderr",
     "output_type": "stream",
     "text": [
      "/home/sopper/anaconda3/lib/python3.6/site-packages/urllib3/connectionpool.py:858: InsecureRequestWarning: Unverified HTTPS request is being made. Adding certificate verification is strongly advised. See: https://urllib3.readthedocs.io/en/latest/advanced-usage.html#ssl-warnings\n",
      "  InsecureRequestWarning)\n"
     ]
    },
    {
     "name": "stdout",
     "output_type": "stream",
     "text": [
      "---第7篇文章爬蟲完成！---\n"
     ]
    },
    {
     "name": "stderr",
     "output_type": "stream",
     "text": [
      "/home/sopper/anaconda3/lib/python3.6/site-packages/urllib3/connectionpool.py:858: InsecureRequestWarning: Unverified HTTPS request is being made. Adding certificate verification is strongly advised. See: https://urllib3.readthedocs.io/en/latest/advanced-usage.html#ssl-warnings\n",
      "  InsecureRequestWarning)\n"
     ]
    },
    {
     "name": "stdout",
     "output_type": "stream",
     "text": [
      "---第8篇文章爬蟲完成！---\n"
     ]
    },
    {
     "name": "stderr",
     "output_type": "stream",
     "text": [
      "/home/sopper/anaconda3/lib/python3.6/site-packages/urllib3/connectionpool.py:858: InsecureRequestWarning: Unverified HTTPS request is being made. Adding certificate verification is strongly advised. See: https://urllib3.readthedocs.io/en/latest/advanced-usage.html#ssl-warnings\n",
      "  InsecureRequestWarning)\n"
     ]
    },
    {
     "name": "stdout",
     "output_type": "stream",
     "text": [
      "---第9篇文章爬蟲完成！---\n"
     ]
    },
    {
     "name": "stderr",
     "output_type": "stream",
     "text": [
      "/home/sopper/anaconda3/lib/python3.6/site-packages/urllib3/connectionpool.py:858: InsecureRequestWarning: Unverified HTTPS request is being made. Adding certificate verification is strongly advised. See: https://urllib3.readthedocs.io/en/latest/advanced-usage.html#ssl-warnings\n",
      "  InsecureRequestWarning)\n"
     ]
    },
    {
     "name": "stdout",
     "output_type": "stream",
     "text": [
      "---第10篇文章爬蟲完成！---\n"
     ]
    },
    {
     "name": "stderr",
     "output_type": "stream",
     "text": [
      "/home/sopper/anaconda3/lib/python3.6/site-packages/urllib3/connectionpool.py:858: InsecureRequestWarning: Unverified HTTPS request is being made. Adding certificate verification is strongly advised. See: https://urllib3.readthedocs.io/en/latest/advanced-usage.html#ssl-warnings\n",
      "  InsecureRequestWarning)\n"
     ]
    },
    {
     "name": "stdout",
     "output_type": "stream",
     "text": [
      "---第11篇文章爬蟲完成！---\n"
     ]
    },
    {
     "name": "stderr",
     "output_type": "stream",
     "text": [
      "/home/sopper/anaconda3/lib/python3.6/site-packages/urllib3/connectionpool.py:858: InsecureRequestWarning: Unverified HTTPS request is being made. Adding certificate verification is strongly advised. See: https://urllib3.readthedocs.io/en/latest/advanced-usage.html#ssl-warnings\n",
      "  InsecureRequestWarning)\n"
     ]
    },
    {
     "name": "stdout",
     "output_type": "stream",
     "text": [
      "---第12篇文章爬蟲完成！---\n"
     ]
    },
    {
     "name": "stderr",
     "output_type": "stream",
     "text": [
      "/home/sopper/anaconda3/lib/python3.6/site-packages/urllib3/connectionpool.py:858: InsecureRequestWarning: Unverified HTTPS request is being made. Adding certificate verification is strongly advised. See: https://urllib3.readthedocs.io/en/latest/advanced-usage.html#ssl-warnings\n",
      "  InsecureRequestWarning)\n"
     ]
    },
    {
     "name": "stdout",
     "output_type": "stream",
     "text": [
      "---第13篇文章爬蟲完成！---\n"
     ]
    },
    {
     "name": "stderr",
     "output_type": "stream",
     "text": [
      "/home/sopper/anaconda3/lib/python3.6/site-packages/urllib3/connectionpool.py:858: InsecureRequestWarning: Unverified HTTPS request is being made. Adding certificate verification is strongly advised. See: https://urllib3.readthedocs.io/en/latest/advanced-usage.html#ssl-warnings\n",
      "  InsecureRequestWarning)\n"
     ]
    },
    {
     "name": "stdout",
     "output_type": "stream",
     "text": [
      "---第14篇文章爬蟲完成！---\n"
     ]
    },
    {
     "name": "stderr",
     "output_type": "stream",
     "text": [
      "/home/sopper/anaconda3/lib/python3.6/site-packages/urllib3/connectionpool.py:858: InsecureRequestWarning: Unverified HTTPS request is being made. Adding certificate verification is strongly advised. See: https://urllib3.readthedocs.io/en/latest/advanced-usage.html#ssl-warnings\n",
      "  InsecureRequestWarning)\n"
     ]
    },
    {
     "name": "stdout",
     "output_type": "stream",
     "text": [
      "---第15篇文章爬蟲完成！---\n"
     ]
    },
    {
     "data": {
      "text/plain": [
       "'{\"https://www.ptt.cc/bbs/Gossiping/M.1525247245.A.E75.html\": {\"a_連結\": \"https://www.ptt.cc/bbs/Gossiping/M.1525247245.A.E75.html\", \"b_作者\": \"L1ON\", \"c_標題\": \"Re: [新聞] 民進黨決定不禮讓柯文哲？ 周玉蔻爆\", \"d_日期\": \"Wed May  2 15:47:22 2018\", \"e_ip\": \"110.50.145.99\", \"f_內文\": \" ※ 引述《generally (小樓昨夜又東風)》之銘言： : 看不懂柯粉在崩潰什麼?? : 人家要不要禮讓關柯粉屁事 : 不是不屑dpp的票嗎?? : 那就不要管dpp要不要禮讓 : 罵個pi?也不用攻擊姚文智,票源又不一樣 : 人家不靠柯粉的啦 : 柯粉還是集中精神去支持你們的主子啦, : 不要在這邊吠別人的場子, : 不是號稱靠自己的票就能讓柯p當選嗎 : 怎麼，現在說個不禮讓以後就個個崩潰大叫 : 是有多沒信心啦?? : ※ 引述《catwalk456 (巴黎草莓)》之銘言： : : 定調你老木啦！怎麼人家跟我講的和跟你講的不一樣？ : : 「民進黨今天中午召開選對會，選對會召集人陳明文表示，會先向有意參選的參選人，徵 : : 詢意願，並且會跟台北市長柯文哲接觸，預計五月中旬前會有具體方案出來。 : : 陳明文表示，今天是大家希望越早決定越好，預計五月中旬前會有具體方案出來。」 : : 人家國民黨今天都推丁守中了，你民進黨還要再拖、再喬，再跟柯文哲談，啊不是很秋很 : : 嗆？啊不是民進民進得第一？ : : 給人看衰小看沒有就是你冥進洞。  本篇廢文 賺P用的。  安安你好  認真算來，我除了2014台北市長票投給柯文哲之外  其他不論市長 立委 市議員，都是投給民進黨的。  這裡要跟你說，崩潰的人，其實不是柯粉。  打從和樁腳女兒開房間的王世堅打柯開始，到今年姚立明倒戈。  最近一個小英期未考，特地從鄉下包車北上還不到3000人的柯黑大遊行的姚文智。   難道你看不出來，崩潰的一直是民進黨和柯黑嗎？   為了打柯，民進黨這次不顧小英安撫，不停地丟人現眼。  這下好了，你就看看柯文哲不幫忙站台，轉為姚文智去支援會是什麼下場。  還記得那經典推文嗎?再半年就知道沒穿褲子。  這次就是國民黨柯文哲55波，姚第三。   這次如果民進黨慘敗，不只是總統大位有危險，立委搞不好還被國民黨搶成不過半。  柯柯 ~     -- \", \"g_推文\": {\"1\": {\"push_state\": \"推\", \"push_content\": \"這次如果輸了 那就是主席小英負責 換賴清德上台當主席\", \"push_time\": \"05/02 15:48\", \"push_messenger\": \"yuxds\"}, \"2\": {\"push_state\": \"噓\", \"push_content\": \"這樣?\", \"push_time\": \"05/02 15:49\", \"push_messenger\": \"Manzini\"}, \"3\": {\"push_state\": \"推\", \"push_content\": \"市議員先挫賽給你們看\", \"push_time\": \"05/02 15:49\", \"push_messenger\": \"addycat\"}, \"4\": {\"push_state\": \"→\", \"push_content\": \"你要不要出來道歉\", \"push_time\": \"05/02 15:49\", \"push_messenger\": \"nixon\"}, \"5\": {\"push_state\": \"噓\", \"push_content\": \"怎麼看都柯粉在急，平時罵綠的跟罵狗一樣，現在會擔心了\", \"push_time\": \"05/02 15:50\", \"push_messenger\": \"mnhyuiop\"}, \"6\": {\"push_state\": \"噓\", \"push_content\": \"我看你專業柯粉吧\", \"push_time\": \"05/02 15:51\", \"push_messenger\": \"generally\"}, \"7\": {\"push_state\": \"→\", \"push_content\": \"我是說擔心柯選輸丁丁，姚一樣旁邊吃土\", \"push_time\": \"05/02 15:51\", \"push_messenger\": \"mnhyuiop\"}, \"8\": {\"push_state\": \"→\", \"push_content\": \"呵呵 好急 好急喔 快派人出來選啊 不要只會放話好嗎\", \"push_time\": \"05/02 15:51\", \"push_messenger\": \"NinJa\"}, \"9\": {\"push_state\": \"→\", \"push_content\": \"選輸下個選舉才有同情牌可以催 不一定是損失\", \"push_time\": \"05/02 15:52\", \"push_messenger\": \"alco7\"}, \"10\": {\"push_state\": \"→\", \"push_content\": \"沒啥好說 綠粉去護航你家首都母雞姚文智阿\", \"push_time\": \"05/02 15:54\", \"push_messenger\": \"taikonkimo\"}}, \"h_推文\": {\"all\": 10, \"b\": 2, \"g\": 3, \"n\": 5}}, \"https://www.ptt.cc/bbs/Gossiping/M.1525247267.A.BAF.html\": {\"a_連結\": \"https://www.ptt.cc/bbs/Gossiping/M.1525247267.A.BAF.html\", \"b_作者\": \"kaan888\", \"c_標題\": \"Re: [問卦] 邦交國歸零 會發生什麼事?\", \"d_日期\": \"Wed May  2 15:47:42 2018\", \"e_ip\": \"97.64.121.144\", \"f_內文\": \" 本帥哥估計，正常大概會這樣： 1）母豬沒借口過境美國，無法給爸爸舔屌。 2）國際會議沒有尼哥提台灣，徹底邊緣。  但覺青認為會這樣： 1）覺青的台灣國將自動成立，各國來朝。 2）聯合國邀請台灣國加入，並給予常任理事國 3）台妹喜迎各國洋屌，隨便挑，舔滿舔好。 4）非洲尼妹來台供肥宅洗血統，鬼島籃球變厲害 5）中國爸爸主動與台灣國建交，並獻上100億鎂 6）陳菊會變成林志玲，肥宅排隊跪舔。  暫時就想到這麽多。  ※ 引述《andy199113 (Andy)》之銘言： : 一個國家需要友邦邦交國，當好朋友彼此交流， : 若一個國家什麼邦交國都沒有了， : 會發生什麼事阿? : 出國免簽證全數作廢? 簽證費貴到哭? : 進出口貿易直接作廢? : 邦交國歸零 會發生什麼事? 有沒有八卦阿???  -- \", \"g_推文\": {\"1\": {\"push_state\": \"→\", \"push_content\": \"你的想法太弱了 砍掉重練\", \"push_time\": \"05/02 15:51\", \"push_messenger\": \"Automatic620\"}, \"2\": {\"push_state\": \"推\", \"push_content\": \" 覺青真的就是這個水準\", \"push_time\": \"05/02 15:52\", \"push_messenger\": \"koei888\"}, \"3\": {\"push_state\": \"→\", \"push_content\": \"吱障又沒腦子 想什麼\", \"push_time\": \"05/02 15:53\", \"push_messenger\": \"shineline\"}, \"4\": {\"push_state\": \"→\", \"push_content\": \"psn跑出白金獎杯：中華民國GG\", \"push_time\": \"05/02 15:54\", \"push_messenger\": \"mikepopkimo\"}}, \"h_推文\": {\"all\": 4, \"b\": 1, \"g\": 0, \"n\": 3}}, \"https://www.ptt.cc/bbs/Gossiping/M.1525247269.A.1D3.html\": {\"a_連結\": \"https://www.ptt.cc/bbs/Gossiping/M.1525247269.A.1D3.html\", \"b_作者\": \"kinple\", \"c_標題\": \"[新聞] 6小時大逆轉！96歲老母打槍\\u3000高國華棄選\", \"d_日期\": \"Wed May  2 15:47:45 2018\", \"e_ip\": \"59.124.17.242\", \"f_內文\": \" 1.媒體來源: 蘋果日報   2.完整新聞標題: 6小時大逆轉！96歲老母打槍\\u3000高國華棄選北市長  3.完整新聞內文: 補教名師高國華近年來較為低調，除了在2010年因國道喇舌現任妻子陳子璇，之後與前任 妻子蔡郁璇打離婚官司，近年來在深圳從事補教業，似已遠離台北生活，但他今凌晨突傳 訊息，宣布要參選台北市長，訴求是「找回台北乾淨的天空」。今天早上九點宣布之後， 不料6小時之後大逆轉，「因96歲老母堅決反對我碰政治，母命難違......」他改全力支 持丁守中。  高國華認為他會用人唯才，但反觀柯P所有局處首長都走光，軍公教原本是最忠於國家， 現在離心離德，認為應該還給軍公教所有他們應該有的。他並透露本來是妻子陳子璇說想 出來選台北市議員，「但我昨晚告訴她選市長決定，她非常支持我，我要從基層教育做起 ，我在師大研究所發現，德國最高薪老師是幼稚園導師，從小就注重教育，才會這麼強盛 。  他說他不會去插旗幟，不會花大錢，會靠社群軟體打選戰，要走出康莊大道唯有讀書，把 自己知識武裝起來，他舉例，「當年前新北市副市長侯友宜的女兒到我這裡補習，雖然是 填鴨教育，但我把她從前三志願考不上，到把她送進北一女。」認為教育可以改變一個人 。  他也提到從前教育放牛班的例子，「當時帶放牛班，我鼓勵他們不要放棄自己，最後他們 的英文，竟然考得比升學班還要好，這些學生還被其他老師質疑作弊，但我們再考一次， 證明了他們的清白。我認為現在藍的不爭氣，綠的吃相難看，只要我出來，我可以凝聚淺 藍、泛藍、深藍的力量打贏選戰。」  至於他從2010年開始鬧出的喇舌、離婚等負面風波，他認為誰能無過，「我就是道歉，先 檢討我自己，人都是從錯誤中開始學習。」先為過去的種種道歉，認為自己是選舉中的清 流。（葉文正／台北報導）   4.完整新聞連結 (或短網址): https://tw.entertainment.appledaily.com/realtime/20180502/1345481/  5.備註: 丁丁都撐20年了，你高國華只撐6小時?  -- \", \"g_推文\": {\"1\": {\"push_state\": \"→\", \"push_content\": \"看大家太嚴肅了出來搞個笑  不過媽媽是對的\", \"push_time\": \"05/02 15:48\", \"push_messenger\": \"milk250\"}, \"2\": {\"push_state\": \"噓\", \"push_content\": \"乾我屁事 滾\", \"push_time\": \"05/02 15:48\", \"push_messenger\": \"zxc2331189\"}, \"3\": {\"push_state\": \"推\", \"push_content\": \"XDDDDDDDDDDDDDDDDDDDDDDDDDDDDDDDDDDDD 笑惹\", \"push_time\": \"05/02 15:48\", \"push_messenger\": \"bire\"}, \"4\": {\"push_state\": \"→\", \"push_content\": \"作秀小丑\", \"push_time\": \"05/02 15:48\", \"push_messenger\": \"l2l\"}, \"5\": {\"push_state\": \"噓\", \"push_content\": \"廣告膩\", \"push_time\": \"05/02 15:48\", \"push_messenger\": \"shoujay\"}, \"6\": {\"push_state\": \"→\", \"push_content\": \"媽媽不給更生人一個機會？\", \"push_time\": \"05/02 15:48\", \"push_messenger\": \"david75610\"}, \"7\": {\"push_state\": \"噓\", \"push_content\": \"............\", \"push_time\": \"05/02 15:49\", \"push_messenger\": \"rejo\"}, \"8\": {\"push_state\": \"噓\", \"push_content\": \"沒人在乎好嗎  滾一邊\", \"push_time\": \"05/02 15:49\", \"push_messenger\": \"g8330330\"}, \"9\": {\"push_state\": \"推\", \"push_content\": \"搞笑喔\", \"push_time\": \"05/02 15:49\", \"push_messenger\": \"eddisontw\"}, \"10\": {\"push_state\": \"推\", \"push_content\": \"反正廣告都打好了\", \"push_time\": \"05/02 15:49\", \"push_messenger\": \"gh34163\"}, \"11\": {\"push_state\": \"推\", \"push_content\": \"這啥小啦 有淡水阿嬤叫出來選 也有96阿母勸退的\", \"push_time\": \"05/02 15:49\", \"push_messenger\": \"ahw12000\"}, \"12\": {\"push_state\": \"→\", \"push_content\": \"多C多健康\", \"push_time\": \"05/02 15:49\", \"push_messenger\": \"ken1325\"}, \"13\": {\"push_state\": \"噓\", \"push_content\": \"媽寶喔，還要拿媽媽救援\", \"push_time\": \"05/02 15:49\", \"push_messenger\": \"dnek\"}, \"14\": {\"push_state\": \"推\", \"push_content\": \"本來就出來秀的\", \"push_time\": \"05/02 15:49\", \"push_messenger\": \"sharb\"}, \"15\": {\"push_state\": \"推\", \"push_content\": \"現在都找爸媽出來哭？\", \"push_time\": \"05/02 15:50\", \"push_messenger\": \"nimama000\"}, \"16\": {\"push_state\": \"推\", \"push_content\": \"96歲老母打槍這味口之重\", \"push_time\": \"05/02 15:50\", \"push_messenger\": \"vilevirgin\"}, \"17\": {\"push_state\": \"→\", \"push_content\": \"台灣整個島都他媽的媽寶島 不是阿嬤就是老母\", \"push_time\": \"05/02 15:50\", \"push_messenger\": \"aggressorX\"}, \"18\": {\"push_state\": \"推\", \"push_content\": \"XDDD\", \"push_time\": \"05/02 15:50\", \"push_messenger\": \"kevin70\"}, \"19\": {\"push_state\": \"推\", \"push_content\": \"6小時\", \"push_time\": \"05/02 15:50\", \"push_messenger\": \"moon01490\"}, \"20\": {\"push_state\": \"→\", \"push_content\": \"回去煮牛肉麵吧\", \"push_time\": \"05/02 15:51\", \"push_messenger\": \"gameguy\"}, \"21\": {\"push_state\": \"→\", \"push_content\": \"過氣咖 出來炒新聞 招生嗎\", \"push_time\": \"05/02 15:51\", \"push_messenger\": \"HiSop\"}, \"22\": {\"push_state\": \"→\", \"push_content\": \"現在都流行九十歲老母來決定就是了\", \"push_time\": \"05/02 15:51\", \"push_messenger\": \"scores\"}, \"23\": {\"push_state\": \"推\", \"push_content\": \"瓦哥 近親打手槍\", \"push_time\": \"05/02 15:51\", \"push_messenger\": \"s820912gmail\"}, \"24\": {\"push_state\": \"推\", \"push_content\": \"我媽說很危險\", \"push_time\": \"05/02 15:51\", \"push_messenger\": \"kutkin\"}, \"25\": {\"push_state\": \"推\", \"push_content\": \"雜魚別鬧了 幾歲了智商比不上媽媽?\", \"push_time\": \"05/02 15:51\", \"push_messenger\": \"storyo11413\"}, \"26\": {\"push_state\": \"噓\", \"push_content\": \"這是幫丁做廣告吧\", \"push_time\": \"05/02 15:51\", \"push_messenger\": \"zombiechen\"}, \"27\": {\"push_state\": \"推\", \"push_content\": \"可惡 學管爺的\", \"push_time\": \"05/02 15:51\", \"push_messenger\": \"KEYSOLIDER\"}, \"28\": {\"push_state\": \"→\", \"push_content\": \"你偷吃的時候怎沒問你媽\", \"push_time\": \"05/02 15:51\", \"push_messenger\": \"kutkin\"}, \"29\": {\"push_state\": \"推\", \"push_content\": \"笑死XDDD\", \"push_time\": \"05/02 15:51\", \"push_messenger\": \"YaLingYin\"}, \"30\": {\"push_state\": \"噓\", \"push_content\": \"..............工三小\", \"push_time\": \"05/02 15:51\", \"push_messenger\": \"CLV518\"}, \"31\": {\"push_state\": \"推\", \"push_content\": \"免費廣告,有笑果就收XDDDD\", \"push_time\": \"05/02 15:51\", \"push_messenger\": \"gfneo\"}, \"32\": {\"push_state\": \"→\", \"push_content\": \"母湯\", \"push_time\": \"05/02 15:52\", \"push_messenger\": \"cattgirl\"}, \"33\": {\"push_state\": \"推\", \"push_content\": \"幾歲了還給老母打槍~~~\", \"push_time\": \"05/02 15:52\", \"push_messenger\": \"yniori\"}, \"34\": {\"push_state\": \"噓\", \"push_content\": \"快放棄不要害北市府的廁所被聽到下去C\", \"push_time\": \"05/02 15:52\", \"push_messenger\": \"shineline\"}, \"35\": {\"push_state\": \"推\", \"push_content\": \"又是老母 母親節快到了齁\", \"push_time\": \"05/02 15:52\", \"push_messenger\": \"Aggro\"}, \"36\": {\"push_state\": \"推\", \"push_content\": \"回家乖乖演A片就好 何必出來搞笑呢?? =.=\", \"push_time\": \"05/02 15:52\", \"push_messenger\": \"Pet\"}, \"37\": {\"push_state\": \"推\", \"push_content\": \"好啦...可以講台上想當年了~~\", \"push_time\": \"05/02 15:52\", \"push_messenger\": \"wailman\"}, \"38\": {\"push_state\": \"→\", \"push_content\": \"92歲母淚勸別當校長了\", \"push_time\": \"05/02 15:52\", \"push_messenger\": \"KEYSOLIDER\"}, \"39\": {\"push_state\": \"→\", \"push_content\": \"搏新聞版面，六小時就改變心意，那想選花？\", \"push_time\": \"05/02 15:53\", \"push_messenger\": \"jslsy\"}, \"40\": {\"push_state\": \"噓\", \"push_content\": \"搞笑6小時\", \"push_time\": \"05/02 15:53\", \"push_messenger\": \"Maffia\"}, \"41\": {\"push_state\": \"噓\", \"push_content\": \"媽說的都對\", \"push_time\": \"05/02 15:53\", \"push_messenger\": \"ShitHome\"}, \"42\": {\"push_state\": \"→\", \"push_content\": \"因為老母是9.2吧\", \"push_time\": \"05/02 15:53\", \"push_messenger\": \"EvoLancer\"}, \"43\": {\"push_state\": \"噓\", \"push_content\": \"我媽叫我回家啦\", \"push_time\": \"05/02 15:53\", \"push_messenger\": \"runa2\"}, \"44\": {\"push_state\": \"噓\", \"push_content\": \"哄堂大笑\", \"push_time\": \"05/02 15:53\", \"push_messenger\": \"kevinacc084\"}, \"45\": {\"push_state\": \"→\", \"push_content\": \"國庫：少賺200萬\", \"push_time\": \"05/02 15:54\", \"push_messenger\": \"agong\"}, \"46\": {\"push_state\": \"→\", \"push_content\": \"喇舌\", \"push_time\": \"05/02 15:54\", \"push_messenger\": \"rttlac\"}, \"47\": {\"push_state\": \"推\", \"push_content\": \"媽媽：乖，下去c\", \"push_time\": \"05/02 15:54\", \"push_messenger\": \"cattgirl\"}}, \"h_推文\": {\"all\": 47, \"b\": 20, \"g\": 12, \"n\": 15}}, \"https://www.ptt.cc/bbs/Gossiping/M.1525247279.A.492.html\": {\"a_連結\": \"https://www.ptt.cc/bbs/Gossiping/M.1525247279.A.492.html\", \"b_作者\": \"lesnaree2\", \"c_標題\": \"[新聞] 連2神隱！吳茂昆今又缺席公民教師研習 \", \"d_日期\": \"Wed May  2 15:47:55 2018\", \"e_ip\": \"101.13.211.226\", \"f_內文\": \" Udn   連2神隱！吳茂昆今又缺席公民教師研習 百師枯等  繼昨天取消台大演講後，教育部長吳茂昆今天又取消出席公開研習活動，百位公民老師 等無人。  吳茂昆原訂今上午出席「科技與永續之旅」座談會，2大師對話公民與大師有約研習活 動，會場中上百位公民老師們卻等不到他現身，成為繼昨天取消台大演講後，第二場取 消的公開行程。  研習指導單位新北市政府教育局轉述，主辦單位昨晚接到訊息，告知吳茂昆今 天將無法出席。至於原因是什麼？不得而知。有老師揣測，應該和連日引發的台大 校長遴選風波不斷有關，研習照常舉行。  由新北市安康高中與新北市公民與社會課程發展中心主辦的「公民與大師有約」研習， 今天一早百位公民老師就齊聚新北市安康高中閱讀教學中心，準備參加研習。研習安排 兩場大師對話，其中包括工研院董事長李世光等人出席，唯獨教育部長吳茂昆缺席。  https://udn.com/news/story/6656/3119232  備註  嘿嘿 有台灣價值 請個假又怎樣  ---- Sent from BePTT  -- \", \"g_推文\": {\"1\": {\"push_state\": \"噓\", \"push_content\": \"可以告瀆職嗎？\", \"push_time\": \"5/02 15:48\", \"push_messenger\": \"tenka92417\"}, \"2\": {\"push_state\": \"推\", \"push_content\": \"吳音寧把神隱功傳授給吳茂昆？！\", \"push_time\": \"5/02 15:49\", \"push_messenger\": \"freewash\"}, \"3\": {\"push_state\": \"推\", \"push_content\": \"要選新北市長了\", \"push_time\": \"5/02 15:49\", \"push_messenger\": \"AllenHuang\"}, \"4\": {\"push_state\": \"→\", \"push_content\": \"60%正常發揮\", \"push_time\": \"5/02 15:49\", \"push_messenger\": \"The5F\"}, \"5\": {\"push_state\": \"噓\", \"push_content\": \"過街鼠\", \"push_time\": \"5/02 15:49\", \"push_messenger\": \"ChangWufei\"}, \"6\": {\"push_state\": \"→\", \"push_content\": \"專利小偷請假王 請個假 臭了嗎？\", \"push_time\": \"5/02 15:49\", \"push_messenger\": \"kusowan\"}, \"7\": {\"push_state\": \"推\", \"push_content\": \"https://i.imgur.com/Dc6RlMC.jpg\", \"push_time\": \"5/02 15:49\", \"push_messenger\": \"nttc\"}, \"8\": {\"push_state\": \"推\", \"push_content\": \"請假王\", \"push_time\": \"5/02 15:50\", \"push_messenger\": \"holyhelm\"}, \"9\": {\"push_state\": \"推\", \"push_content\": \"是不是又偷偷請假去支那當國防顧問了 教育部快查查\", \"push_time\": \"5/02 15:50\", \"push_messenger\": \"pokyhoyo\"}, \"10\": {\"push_state\": \"→\", \"push_content\": \"比音寧戰車還強的人出現了\", \"push_time\": \"05/02 15:51\", \"push_messenger\": \"EvoLancer\"}, \"11\": {\"push_state\": \"→\", \"push_content\": \"不要學小英好嗎?你沒那個勘暫\", \"push_time\": \"05/02 15:51\", \"push_messenger\": \"sheepxo\"}, \"12\": {\"push_state\": \"推\", \"push_content\": \"正常發揮 在東華請習慣了\", \"push_time\": \"05/02 15:52\", \"push_messenger\": \"deep5566\"}, \"13\": {\"push_state\": \"噓\", \"push_content\": \"阿不是問心無愧 在怕什麼？XDDD\", \"push_time\": \"05/02 15:53\", \"push_messenger\": \"huangjyuan\"}, \"14\": {\"push_state\": \"推\", \"push_content\": \"這等級.......\", \"push_time\": \"05/02 15:53\", \"push_messenger\": \"whiteflora6\"}}, \"h_推文\": {\"all\": 14, \"b\": 7, \"g\": 3, \"n\": 4}}, \"https://www.ptt.cc/bbs/Gossiping/M.1525247286.A.B57.html\": {\"a_連結\": \"https://www.ptt.cc/bbs/Gossiping/M.1525247286.A.B57.html\", \"b_作者\": \"umiubagwa\", \"c_標題\": \"[問卦] 肥宅穿潮T有加分?\", \"d_日期\": \"Wed May  2 15:48:03 2018\", \"e_ip\": \"27.247.104.176\", \"f_內文\": \" 如題  天氣開始變熱了  又到了短袖的日子  如果肥宅買了潮踢  穿著傻噴出門走跳  雖然可能汗流浹背  又激凸的  但是一穿上就是尊爵不凡  應該可以吸引到辣妹的眼光吧？  -- \", \"g_推文\": {\"1\": {\"push_state\": \"噓\", \"push_content\": \"你要先穿得下\", \"push_time\": \"05/02 15:48\", \"push_messenger\": \"FlynnZhang\"}, \"2\": {\"push_state\": \"推\", \"push_content\": \"龍妹穿朝T有加分?\", \"push_time\": \"05/02 15:48\", \"push_messenger\": \"MurMur\"}, \"3\": {\"push_state\": \"噓\", \"push_content\": \"唯一信癢算嗎\", \"push_time\": \"05/02 15:48\", \"push_messenger\": \"OhMyHair\"}, \"4\": {\"push_state\": \"推\", \"push_content\": \"豬肉換包裝會變貴嗎? 不會\", \"push_time\": \"05/02 15:49\", \"push_messenger\": \"bee12\"}, \"5\": {\"push_state\": \"噓\", \"push_content\": \"問題在人 不在穿著\", \"push_time\": \"05/02 15:49\", \"push_messenger\": \"fjtc12\"}, \"6\": {\"push_state\": \"噓\", \"push_content\": \"如果你是從法拉利下來的話\", \"push_time\": \"05/02 15:49\", \"push_messenger\": \"jjop5761571\"}, \"7\": {\"push_state\": \"噓\", \"push_content\": \"噓激凸\", \"push_time\": \"05/02 15:49\", \"push_messenger\": \"Iakane\"}, \"8\": {\"push_state\": \"→\", \"push_content\": \"穿的人才是關鍵好嗎\", \"push_time\": \"05/02 15:50\", \"push_messenger\": \"jupto\"}, \"9\": {\"push_state\": \"噓\", \"push_content\": \"看到肥宅先噓 還加分?\", \"push_time\": \"05/02 15:51\", \"push_messenger\": \"kanmeiihate\"}, \"10\": {\"push_state\": \"→\", \"push_content\": \"找館長買\", \"push_time\": \"05/02 15:54\", \"push_messenger\": \"ShitHome\"}}, \"h_推文\": {\"all\": 10, \"b\": 2, \"g\": 6, \"n\": 2}}, \"https://www.ptt.cc/bbs/Gossiping/M.1525247301.A.2B6.html\": {\"a_連結\": \"https://www.ptt.cc/bbs/Gossiping/M.1525247301.A.2B6.html\", \"b_作者\": \"Reichelle\", \"c_標題\": \"[新聞]狠甩4.5公斤！哈利為了婚禮淨食瘦身 還戒菸拚生育\", \"d_日期\": \"Wed May  2 15:48:16 2018\", \"e_ip\": \"122.121.190.54\", \"f_內文\": \" 聯合新聞網 https://tinyurl.com/y7oj33nk  狠甩4.5公斤！哈利為了婚禮淨食瘦身 還戒菸拚生育  聯合新聞網 聯合線上  2018年5月2日 上午6:41  英國哈利王子為了即將到來19日王室婚禮，正緊鑼密鼓改變以往單身漢時養成的壞習慣 。英國《每日郵報》報導，受到熱愛烹飪、素食主義的未婚妻梅根．馬克爾影響，哈利 王子的生活習慣出現了戲劇性改變，除了戒菸戒酒外，哈利還健身狠甩了10磅（約4.5公 斤）肥肉。  https://tinyurl.com/yb58umj4 英國哈利王子（左）4月25日偕未婚妻梅根在倫敦出席活動，身材英挺，瘦身有成。 法新社  遇見馬克爾之前，單身王老五的哈利王子常出現在肯辛頓宮附近速食店。不是出現在一 個漢堡熱量超過700大卡的拜倫漢堡店（Byron Burger），就是出現在倫敦連鎖比薩店邦 加邦加（Bunga Bunga）。哈利軍中同僚也透露，這位王子離不開肯德基、麥當勞，而且 超愛喝啤酒。  但隨著哈利將在19日婚禮告別單身，這位王子也受到馬克爾影響，開始過著健康的「淨 食」（Clean Eating）生活，停止攝取肉類和過度加工食品，改吃有機食物。《紐約每 日新聞》報導，哈利王子用了以下幾種方法成功甩肉，找回好氣色。  首先，哈利請了倫敦頂尖營養師凱碧瑞拉．皮卡克（Gabriela Peacock）替他調整飲食 。皮卡克曾在2013年被女王御用醫師請來改善王室飲食，她還生產了自有品牌營養食品 。哈利在減肥期間會吃皮卡克旗下的營養食品來增強免疫力、提神、減重。  除了營養食品外，皮卡克還要哈利攝取少糖、高蛋白質、不含奶製品的食物。她的抗氧 化健康料理食譜，幫助許多客戶成功甩肉。同時馬克爾也藉助杜肯減肥法（Dukan Diet ）維持身材苗條，這種減肥法也在2011年被受到威廉王子、凱特王妃青睞。  為了婚禮，哈利除了已暫時戒酒，也聽取了馬克爾的建議戒菸。報導提到，有消息指出 馬克爾接下來有生小孩計畫，馬克爾要哈利戒菸的原因，可能是吸菸會影響精子品質。  此外，哈利王子也為了婚禮加強健身。馬克爾常被目擊出現在KX健身房，要成為這間健 身房會員，每月得繳1000美元（約台幣3萬元）會費。馬克爾說服哈利一同加入健身房。 為了接下來王室婚禮，哈利現在已經每天向健身私人教練報到。  有哈利友人表示，馬克爾對他產生了深遠影響，除了健康方面，他也變得更樂於助人， 「他生活得更認真，也更專注於自己的工作，沒那麼愛玩。他變得跟馬克爾很像，相信 他有能力改變這個世界。」    還好現實裡的哈利沒那麼廢...  -- \", \"g_推文\": {\"1\": {\"push_state\": \"推\", \"push_content\": \"身材比例真好\", \"push_time\": \"05/02 15:49\", \"push_messenger\": \"pokiman\"}, \"2\": {\"push_state\": \"推\", \"push_content\": \"有錢真好\", \"push_time\": \"05/02 15:49\", \"push_messenger\": \"sjclivelo\"}, \"3\": {\"push_state\": \"推\", \"push_content\": \"會魔法了不起喔\", \"push_time\": \"05/02 15:50\", \"push_messenger\": \"XDDDDXDDXDXD\"}, \"4\": {\"push_state\": \"→\", \"push_content\": \"頭髮還在欸\", \"push_time\": \"05/02 15:50\", \"push_messenger\": \"Iakane\"}, \"5\": {\"push_state\": \"噓\", \"push_content\": \"血統正確 出身在皇家  全民養\", \"push_time\": \"05/02 15:51\", \"push_messenger\": \"Automatic620\"}, \"6\": {\"push_state\": \"→\", \"push_content\": \"這樣也好，之前真的很廢。\", \"push_time\": \"05/02 15:51\", \"push_messenger\": \"tkucuh\"}, \"7\": {\"push_state\": \"推\", \"push_content\": \"肥油頭髮去去走！\", \"push_time\": \"05/02 15:52\", \"push_messenger\": \"LanPha\"}, \"8\": {\"push_state\": \"→\", \"push_content\": \"禿\", \"push_time\": \"05/02 15:52\", \"push_messenger\": \"ev331\"}, \"9\": {\"push_state\": \"→\", \"push_content\": \"皇室基因擺脫不了禿頭命運\", \"push_time\": \"05/02 15:52\", \"push_messenger\": \"DudeFromMars\"}, \"10\": {\"push_state\": \"推\", \"push_content\": \"腿好長，可惜禿頭的詛咒太強大\", \"push_time\": \"05/02 15:52\", \"push_messenger\": \"apprentice08\"}, \"11\": {\"push_state\": \"推\", \"push_content\": \"王子也在搞回收...\", \"push_time\": \"05/02 15:54\", \"push_messenger\": \"DICB\"}}, \"h_推文\": {\"all\": 11, \"b\": 6, \"g\": 1, \"n\": 4}}, \"https://www.ptt.cc/bbs/Gossiping/M.1525247302.A.753.html\": {\"a_連結\": \"https://www.ptt.cc/bbs/Gossiping/M.1525247302.A.753.html\", \"b_作者\": \"a125g\", \"c_標題\": \"[問卦] 現在土耳其人是怎麼看凱末爾?\", \"d_日期\": \"Wed May  2 15:48:18 2018\", \"e_ip\": \"114.137.226.56\", \"f_內文\": \" 各位好，凱末爾土耳其的第一任總統，  曾經左打英國右扁法國，且帶領土耳其走向世俗化，  但近幾年土耳其走回伊斯蘭老路，  請問現在土耳其人是怎麼看待凱末爾的?  -- \", \"g_推文\": {\"1\": {\"push_state\": \"推\", \"push_content\": \"那要看是君堡人還是鄉下人了。。。\", \"push_time\": \"05/02 15:48\", \"push_messenger\": \"kusowan\"}, \"2\": {\"push_state\": \"噓\", \"push_content\": \"我覺得五樓是垃圾\", \"push_time\": \"05/02 15:49\", \"push_messenger\": \"thegreatlcx\"}, \"3\": {\"push_state\": \"→\", \"push_content\": \"樓下帕卡鼠\", \"push_time\": \"05/02 15:49\", \"push_messenger\": \"david75610\"}, \"4\": {\"push_state\": \"推\", \"push_content\": \"蓋\", \"push_time\": \"05/02 15:50\", \"push_messenger\": \"zy116pj\"}, \"5\": {\"push_state\": \"→\", \"push_content\": \"土耳其建國，在被瓜分領土的情況下擊退各方強權重新訂約\", \"push_time\": \"05/02 15:50\", \"push_messenger\": \"gameguy\"}, \"6\": {\"push_state\": \"→\", \"push_content\": \"，強逼了\", \"push_time\": \"05/02 15:50\", \"push_messenger\": \"gameguy\"}}, \"h_推文\": {\"all\": 6, \"b\": 2, \"g\": 1, \"n\": 3}}, \"https://www.ptt.cc/bbs/Gossiping/M.1525247319.A.6A2.html\": {\"a_連結\": \"https://www.ptt.cc/bbs/Gossiping/M.1525247319.A.6A2.html\", \"b_作者\": \"kc0059\", \"c_標題\": \"[問卦] 為什麼台電要藏電??\", \"d_日期\": \"Wed May  2 15:48:35 2018\", \"e_ip\": \"114.46.89.13\", \"f_內文\": \"  不懂欸  明明就還有電 怎麼就是有新聞媒體在那傳沒電 用電量吃緊  啊明明就是台電藏電啊 為什麼要這樣嚇我們?  有沒有這些人到底在想什麼的八卦?  -- Ich weiß nichts von dem, was man \\\\\"Liebe\\\\\"nennt..    ◣       thePainter Wenn \\\\\"Liebe\\\\\" heißt,dieses Versprechen bis zum Tode ▎◥ ◥ ◣    nicht zu brechen...dann verspreche ich:            ◣    ▍ ▁▃▄▅▄▃◥  dich immer zu lieben,und keinen Mann außer dir,   ◥◥ ▌ ▇▌ ◥▆▅◢◥ solange ich lebe.Alles an mir...von Kopf bis Fuß,  ◥▋   ▋\\\\\"▅ ▁       sogar jedes Haar auf meinem Kopf gehört dir.       ◥  ‵▆▆▇   -- \", \"g_推文\": {\"1\": {\"push_state\": \"噓\", \"push_content\": \"蓋蓋蓋\", \"push_time\": \"05/02 15:49\", \"push_messenger\": \"KagamiRaito\"}, \"2\": {\"push_state\": \"→\", \"push_content\": \"https://i.imgur.com/f5Bthwv.jpg\", \"push_time\": \"05/02 15:49\", \"push_messenger\": \"k44754\"}, \"3\": {\"push_state\": \"→\", \"push_content\": \"找藉口漲電費啊\", \"push_time\": \"05/02 15:49\", \"push_messenger\": \"GRUAVAer\"}, \"4\": {\"push_state\": \"推\", \"push_content\": \"蓋蓋蓋 五樓被肛\", \"push_time\": \"05/02 15:49\", \"push_messenger\": \"Wolverin5566\"}, \"5\": {\"push_state\": \"噓\", \"push_content\": \"大家以為五樓藏懶叫，但其實是他奈米屌\", \"push_time\": \"05/02 15:49\", \"push_messenger\": \"Sougetu\"}, \"6\": {\"push_state\": \"→\", \"push_content\": \"五樓誠實\", \"push_time\": \"05/02 15:50\", \"push_messenger\": \"GRUAVAer\"}, \"7\": {\"push_state\": \"噓\", \"push_content\": \"備轉電量被講成藏電，垃圾記者不意外\", \"push_time\": \"05/02 15:50\", \"push_messenger\": \"bibico0206\"}, \"8\": {\"push_state\": \"→\", \"push_content\": \"5樓厲害了\", \"push_time\": \"05/02 15:50\", \"push_messenger\": \"preisner\"}, \"9\": {\"push_state\": \"→\", \"push_content\": \"五樓大家都知道好嗎\", \"push_time\": \"05/02 15:50\", \"push_messenger\": \"thegreatlcx\"}, \"10\": {\"push_state\": \"推\", \"push_content\": \"五樓乖\", \"push_time\": \"05/02 15:50\", \"push_messenger\": \"bookstar07\"}, \"11\": {\"push_state\": \"推\", \"push_content\": \"問在裡面的皮卡丘\", \"push_time\": \"05/02 15:50\", \"push_messenger\": \"irumina\"}, \"12\": {\"push_state\": \"→\", \"push_content\": \"理由就跟喊衛生紙要漲一樣啊 削盤子\", \"push_time\": \"05/02 15:50\", \"push_messenger\": \"david1230\"}, \"13\": {\"push_state\": \"推\", \"push_content\": \"戰備用啊 又沒打仗\", \"push_time\": \"05/02 15:50\", \"push_messenger\": \"cattgirl\"}, \"14\": {\"push_state\": \"推\", \"push_content\": \"是小精靈在幫忙啦\", \"push_time\": \"05/02 15:50\", \"push_messenger\": \"toomtoom\"}, \"15\": {\"push_state\": \"→\", \"push_content\": \"沒看這麼多盤子屯了一堆高價衛生紙\", \"push_time\": \"05/02 15:51\", \"push_messenger\": \"david1230\"}, \"16\": {\"push_state\": \"噓\", \"push_content\": \"年終領更多\", \"push_time\": \"05/02 15:52\", \"push_messenger\": \"qqq87112\"}, \"17\": {\"push_state\": \"→\", \"push_content\": \"廠長：我的特斯拉時光機很耗電的！\", \"push_time\": \"05/02 15:52\", \"push_messenger\": \"mikepopkimo\"}, \"18\": {\"push_state\": \"→\", \"push_content\": \"都藏到外國了\", \"push_time\": \"05/02 15:52\", \"push_messenger\": \"scores\"}, \"19\": {\"push_state\": \"→\", \"push_content\": \"藏在五樓 ??\", \"push_time\": \"05/02 15:52\", \"push_messenger\": \"nixon\"}}, \"h_推文\": {\"all\": 19, \"b\": 5, \"g\": 4, \"n\": 10}}, \"https://www.ptt.cc/bbs/Gossiping/M.1525247328.A.2F6.html\": {\"a_連結\": \"https://www.ptt.cc/bbs/Gossiping/M.1525247328.A.2F6.html\", \"b_作者\": \"lotudi\", \"c_標題\": \"Re: [新聞] 民進黨決定不禮讓柯文哲？ 周玉蔻爆\", \"d_日期\": \"Wed May  2 15:48:45 2018\", \"e_ip\": \"59.115.208.125\", \"f_內文\": \" 話說  民進黨要推的  是那位民調很低的那位嗎?  話說月票開通那一陣子  還查了一下新聞  發現自己漏了一則笑話  我看到真的一直狂笑  什麼0元月票!!!~~~   真的是大型智力測驗RRRRRR   個人認為 應該是柯>丁>姚啦  身邊年輕的藍的朋友都說要投柯  大GUY4這樣  -- \", \"g_推文\": {\"1\": {\"push_state\": \"→\", \"push_content\": \"柯文哲自已講，越年輕支持度越高，小學生支持度到80%\", \"push_time\": \"05/02 15:50\", \"push_messenger\": \"addycat\"}, \"2\": {\"push_state\": \"→\", \"push_content\": \"綠粉快來護航阿 這是你dpp要推出來的母雞ㄟ\", \"push_time\": \"05/02 15:53\", \"push_messenger\": \"taikonkimo\"}, \"3\": {\"push_state\": \"→\", \"push_content\": \"所以年底 台北市選委會要被解散了嗎？？\", \"push_time\": \"05/02 15:53\", \"push_messenger\": \"frank01\"}, \"4\": {\"push_state\": \"→\", \"push_content\": \"柯自己出來選 可能都比合作來的高.沒必要和那些咖合作\", \"push_time\": \"05/02 15:54\", \"push_messenger\": \"autoimmune\"}}, \"h_推文\": {\"all\": 4, \"b\": 0, \"g\": 0, \"n\": 4}}, \"https://www.ptt.cc/bbs/Gossiping/M.1525247370.A.D09.html\": {\"a_連結\": \"https://www.ptt.cc/bbs/Gossiping/M.1525247370.A.D09.html\", \"b_作者\": \"LABOYS\", \"c_標題\": \"Re: [新聞] 民進黨決定不禮讓柯文哲？ 周玉蔻爆\", \"d_日期\": \"Wed May  2 15:49:21 2018\", \"e_ip\": \"114.45.107.178\", \"f_內文\": \" ※ 引述《cheinshin (那就這樣吧)》之銘言： : LTN : 民進黨決定不禮讓柯文哲？ 周玉蔻爆選對會「定調了」     恭喜各位，如果周奶奶的爆料難得準一次，  我們將可以看到難得一見的盛況，台灣最大線上智力測驗要上線啦。     大家準備好看藍綠政論節目，名嘴，媒體，各式政客一起爭奇鬥艷，  一起夾殺柯文哲了嗎？     2014的羅淑蕾 http://i.imgur.com/ZSyN3qy.jpg 柯文哲不會開刀  http://i.imgur.com/wfoXRMc.jpg 柯文哲不會裝葉克膜  http://i.imgur.com/TIsiPjC.jpg 柯文哲私下收受紅包  http://i.imgur.com/30tPJ7H.jpg 柯文哲介入器官捐贈買賣  http://i.imgur.com/WIkMHkt.jpg 柯文哲霸凌欺壓小護士  http://i.imgur.com/5rZqMYg.jpg 柯文哲私下收受廠商款項  http://i.imgur.com/HkRjidN.jpg 柯文哲台大內私設小金庫  http://i.imgur.com/tMNC8Ld.jpg 柯文哲 MGI49 帶頭洗錢，白色巨塔內黑色力量  http://i.imgur.com/V8x0nvT.jpg 柯文哲專戶洗錢涉貪，逃稅  http://i.imgur.com/gOB3hRg.jpg 柯文哲有小三，為了小三剃光頭  我們將可以看到羅淑蕾，意氣風發，再次粉墨登場去完成她四年前未竟的任務。 https://i.imgur.com/WXmK9YJ.jpg https://i.imgur.com/K4nSF0h.jpg https://i.imgur.com/3ErH7Id.jpg  姚立明、鄭弘儀指稱柯文哲五百萬文宣收據 https://i.imgur.com/LnVBS8H.jpg  姚立明：周子瑜幫助柯文哲選上北市長，柯文哲從來沒幫她說過一句話。 https://i.imgur.com/XUB4Bgq.jpg  姚立明：見張志軍穿西裝打領帶的去，國慶典禮就不打，你看這態度 https://i.imgur.com/atqtIfL.jpg  蕭亞譚指柯文哲政治獻金帳目不符，有錢無帳 https://i.imgur.com/C5CZxQG.jpg  蕭亞譚指柯文哲私送50萬給某行政院政務官 https://i.imgur.com/CT1vfYP.jpg  皺皺姊：掌握柯文哲200個PTT網軍帳號 https://i.imgur.com/GjlhfUU.jpg  王世堅：柯文哲捐款餐會風暴，金融業每人７位數起跳 https://i.imgur.com/xRqqI6B.jpg  王世堅：南北菜蟲串聯 https://i.imgur.com/5w3CrUa.jpg https://i.imgur.com/EZG2x9J.jpg  爆！ 2013年柯P就計畫見辛旗？ https://i.imgur.com/GTLq6K6.jpg https://i.imgur.com/PCgAKy5.jpg https://i.imgur.com/QJWn8dm.jpg https://i.imgur.com/h0aoPNN.jpg  是誰洩漏 Line 資料？ 彭文正：正是柯文哲 https://i.imgur.com/VQsIM2V.jpg  鍾年晃：網路高手替柯文哲寫傳送門，臉書才會有48萬按讚 https://i.imgur.com/3vrzTxU.jpg  呂秀蓮爆料胡錦濤文膽招待柯P「我覺得他背後好像有紅光」 https://i.imgur.com/NUWOScb.jpg https://i.imgur.com/EnA6ZWi.jpg  呂秀蓮稱握有柯P黑資料 「公布這個對他非常傷害，我不忍心」 https://i.imgur.com/qZFKojD.jpg  高金素梅施壓台大？ 北市文化局充當門神！？ 中國統戰入侵台大！立委、文化局裡應外合？ https://i.imgur.com/k7PURlc.jpg  聯開案依法處理？ 犧牲市民正義，輸送北市府利益？ https://i.imgur.com/aurWP8R.jpg  當白色變成一種顏色？ 柯文哲成進化的政客？ 我們將可以看到當年臭罵羅淑蕾，沾柯文哲光的人和她比鄰而坐，一起攻擊柯文哲。 這齣現代官場現形記難道還不有趣嗎？ 我們有機會看到，可能是史上頭一遭， 藍綠兩黨傾全黨之力攻擊同一個候選人，而非互相攻訐的選舉。 https://i.imgur.com/cHPOzAw.jpg    大家這次準備好了嗎？      -- 姚乙己一到黨部，所有黨中央的人便都看着他笑「姚乙己，你又選不了市長了！」他不回 答，對櫃檯說「幫我傳達，我想見蔡總統。」他們又故意的高聲嚷道「你一定又死纏爛打 了！」姚乙己睜大眼睛說「你怎麼這樣憑空汚人清白……」「什麼清白？我親眼目睹遊行 現場就幾百人，輸了了。」姚乙己便漲紅了臉，額上的青筋條條綻出，爭辯道，「五六百 人不能算輸……人少！……台灣價值的事，能算輸麼？」接連便是難懂的話，什麼「胎灣 胎配」，什麼「社會氣氛清楚」之類，引得衆人都鬨笑起來：黨部內外充滿了快活的空氣  -- \", \"g_推文\": {\"1\": {\"push_state\": \"推\", \"push_content\": \"話說羅淑雷去哪了\", \"push_time\": \"05/02 15:50\", \"push_messenger\": \"danorken\"}, \"2\": {\"push_state\": \"推\", \"push_content\": \"第一句話就給推了 請大家稱她 周玉蔻婆婆\", \"push_time\": \"05/02 15:51\", \"push_messenger\": \"zxciop741\"}, \"3\": {\"push_state\": \"推\", \"push_content\": \"一堆為了通告費什麼都敢說 為了利益什麼都敢亂扯\", \"push_time\": \"05/02 15:51\", \"push_messenger\": \"shengyeh\"}, \"4\": {\"push_state\": \"→\", \"push_content\": \"不會的，他們年底會直接解散台北市選委會...1\", \"push_time\": \"05/02 15:52\", \"push_messenger\": \"frank01\"}, \"5\": {\"push_state\": \"推\", \"push_content\": \"真希望柯P自己出來選 完全不需要和一堆X咖合作\", \"push_time\": \"05/02 15:52\", \"push_messenger\": \"autoimmune\"}, \"6\": {\"push_state\": \"推\", \"push_content\": \"讚\", \"push_time\": \"05/02 15:52\", \"push_messenger\": \"M19gogo\"}, \"7\": {\"push_state\": \"→\", \"push_content\": \"周玉蔻婆婆什麼惡毒的話都不怕 最怕別人說他醜 說他老\", \"push_time\": \"05/02 15:52\", \"push_messenger\": \"zxciop741\"}, \"8\": {\"push_state\": \"→\", \"push_content\": \"和DPP合作  只會讓柯更扣分\", \"push_time\": \"05/02 15:52\", \"push_messenger\": \"autoimmune\"}, \"9\": {\"push_state\": \"推\", \"push_content\": \"羅淑蕾會上政經阿 早就藍綠一家親了\", \"push_time\": \"05/02 15:52\", \"push_messenger\": \"taikonkimo\"}, \"10\": {\"push_state\": \"→\", \"push_content\": \"汁波密，最近還有出現在年代\", \"push_time\": \"05/02 15:52\", \"push_messenger\": \"addycat\"}, \"11\": {\"push_state\": \"推\", \"push_content\": \"笑死XDDD\", \"push_time\": \"05/02 15:52\", \"push_messenger\": \"walkdog0603\"}, \"12\": {\"push_state\": \"推\", \"push_content\": \"玉寇的凱宴不知道有沒有選配\", \"push_time\": \"05/02 15:52\", \"push_messenger\": \"TradePau\"}, \"13\": {\"push_state\": \"推\", \"push_content\": \"哈哈哈哈哈哈哈\", \"push_time\": \"05/02 15:53\", \"push_messenger\": \"mazii\"}, \"14\": {\"push_state\": \"推\", \"push_content\": \"\\\\\\\\三咖督/\\\\\\\\三咖督/\\\\\\\\三咖督/\", \"push_time\": \"05/02 15:53\", \"push_messenger\": \"kiki2125\"}, \"15\": {\"push_state\": \"推\", \"push_content\": \"羅之前還在弘儀節目打MG149阿\", \"push_time\": \"05/02 15:53\", \"push_messenger\": \"kootiger\"}, \"16\": {\"push_state\": \"推\", \"push_content\": \"https://i.imgur.com/tkt0en4.jpg\", \"push_time\": \"05/02 15:53\", \"push_messenger\": \"k44754\"}, \"17\": {\"push_state\": \"推\", \"push_content\": \"這次我決定支持阿罵了\", \"push_time\": \"05/02 15:53\", \"push_messenger\": \"elle\"}, \"18\": {\"push_state\": \"推\", \"push_content\": \"期待\", \"push_time\": \"05/02 15:54\", \"push_messenger\": \"dinel7821967\"}}, \"h_推文\": {\"all\": 18, \"b\": 14, \"g\": 0, \"n\": 4}}, \"https://www.ptt.cc/bbs/Gossiping/M.1525247462.A.848.html\": {\"a_連結\": \"https://www.ptt.cc/bbs/Gossiping/M.1525247462.A.848.html\", \"b_作者\": \"Win7\", \"c_標題\": \"[問卦] 有沒有⇧⇧⇩⇩⇦⇨⇦⇨ⒷⒶ的八卦?\", \"d_日期\": \"Wed May  2 15:50:58 2018\", \"e_ip\": \"220.135.224.21\", \"f_內文\": \"   如題   大叔還記得30年前小時候玩魂斗羅老是命不夠死,都要在遊戲開始時輸入密技  那時候資訊不像現在這樣流通,很多秘技都是靠同學口耳相傳才流傳下來  最有名的當屬這個konami 密碼  ⇧⇧⇩⇩⇦⇨⇦⇨ⒷⒶ  只要是科拿米出品的遊戲,幾乎都可以用這組密技  後來很家公司作品或是網站也開始致敬konami密碼   然而想問的是,這些密碼到底是玩家锲而不舍,日以繼夜試出來的?  或者是開發者故意釋放出來?   大叔只記得每次問同學倒底如何得知密技,他們都說聽來的  有沒有八卦阿?   -- \", \"g_推文\": {\"1\": {\"push_state\": \"→\", \"push_content\": \"自爆指令\", \"push_time\": \"05/02 15:51\", \"push_messenger\": \"alex01\"}, \"2\": {\"push_state\": \"→\", \"push_content\": \"蓋\", \"push_time\": \"05/02 15:51\", \"push_messenger\": \"socotia\"}, \"3\": {\"push_state\": \"→\", \"push_content\": \"五樓拿自己老二當遙感屁眼當按鈕尻密技\", \"push_time\": \"05/02 15:51\", \"push_messenger\": \"thegreatlcx\"}, \"4\": {\"push_state\": \"推\", \"push_content\": \"還沒出生啦\", \"push_time\": \"05/02 15:51\", \"push_messenger\": \"a27588679\"}, \"5\": {\"push_state\": \"推\", \"push_content\": \"ABAB啦幹 你的密技怎麼跟別人不一樣\", \"push_time\": \"05/02 15:51\", \"push_messenger\": \"Chia2323\"}, \"6\": {\"push_state\": \"推\", \"push_content\": \"遊戲商有釋出啊\", \"push_time\": \"05/02 15:51\", \"push_messenger\": \"brunomarsfan\"}, \"7\": {\"push_state\": \"推\", \"push_content\": \"敵人控制器\", \"push_time\": \"05/02 15:51\", \"push_messenger\": \"qk3380888\"}, \"8\": {\"push_state\": \"推\", \"push_content\": \"www.lf2.net\", \"push_time\": \"05/02 15:52\", \"push_messenger\": \"andrew5106\"}, \"9\": {\"push_state\": \"→\", \"push_content\": \"紅白雞  三十五歲以上\", \"push_time\": \"05/02 15:52\", \"push_messenger\": \"scores\"}, \"10\": {\"push_state\": \"→\", \"push_content\": \"不是沙羅曼蛇嗎\", \"push_time\": \"05/02 15:52\", \"push_messenger\": \"HiSop\"}, \"11\": {\"push_state\": \"→\", \"push_content\": \"魔法卡\", \"push_time\": \"05/02 15:52\", \"push_messenger\": \"yorkyoung\"}, \"12\": {\"push_state\": \"→\", \"push_content\": \"科拿米萬用秘碼\", \"push_time\": \"05/02 15:53\", \"push_messenger\": \"addycat\"}, \"13\": {\"push_state\": \"→\", \"push_content\": \"聽說紅白機魂斗羅有選關的指令是嗎?\", \"push_time\": \"05/02 15:53\", \"push_messenger\": \"purin3333\"}, \"14\": {\"push_state\": \"推\", \"push_content\": \"當年有很多遊戲雜誌  這種密技都廠商故意放給雜誌的\", \"push_time\": \"05/02 15:53\", \"push_messenger\": \"LaplaceDemon\"}, \"15\": {\"push_state\": \"→\", \"push_content\": \"SFC早期也有這個指令  就是1F說的\", \"push_time\": \"05/02 15:53\", \"push_messenger\": \"lisoukou\"}}, \"h_推文\": {\"all\": 15, \"b\": 6, \"g\": 0, \"n\": 9}}, \"https://www.ptt.cc/bbs/Gossiping/M.1525247509.A.473.html\": {\"a_連結\": \"https://www.ptt.cc/bbs/Gossiping/M.1525247509.A.473.html\", \"b_作者\": \"ALEXP\", \"c_標題\": \"[新聞] 嚇歪！男肛門鑽進30公分條狀物 醫護拉出\", \"d_日期\": \"Wed May  2 15:51:45 2018\", \"e_ip\": \"220.138.181.204\", \"f_內文\": \" 1.媒體來源: YAHOO  2.完整新聞標題:  嚇歪！男肛門鑽進30公分條狀物 醫護拉出驚：好大一隻  3.完整新聞內文:  到底怎麼跑進去的？近來網路瘋傳一段驚悚的影片，一名男子的肛門跑進一隻黃鱔，怎麼 都拔不出來，只好跑到醫院就醫。結果醫師從男子肛門中拉出黃鱔，目測約有30公分，現 場醫護見狀驚聲連連。  一名網友在「高雄五甲柴山山友會」臉書分享影片，一名男子脫下褲子，側身躺在病床上 ，手上還吊著點滴，看似相當虛弱，醫護人員戴上手套，用手慢慢將露在男子肛門外的黃 鱔拉出來，小心翼翼深怕傷到男子，直到將整條黃鱔拉出來。  「黃鱔！真的是黃鱔，好大一隻」一旁的女護理師見狀驚呼連連，難以想像目測約30公分 的黃鱔竟會鑽入男子的肛門，被拉出黃鱔一動也不動，疑似已經死去，而黃鱔為何會鑽進 男子體內，原因仍不明，影片PO出後瞬間引發討論。  有網友表示，「太恐怖了！吃個鰻魚飯壓壓驚」、「不要笑！說不定人家是掉到池塘內剛 好插進入，哈哈」、「誰敢吃這條魚阿」、「這不夠刺激，下次來條電鰻」、「誰還敢吃 這條魚」、「黃鱔：不要這樣！幹嘛把人拉出來」、「這不夠刺激，下次來條電鰻」。  影片內容恐引發不適，請慎入  4.完整新聞連結 (或短網址):  https://goo.gl/HEqhM6  5.備註:  杰哥! 不要阿~~~~~  >.^  --     ˍˍ            話若欲講透基～目屎豆掰未離～～～    ▕效舜▏ ▕無月▏ ￣￣  -- \", \"g_推文\": {\"1\": {\"push_state\": \"噓\", \"push_content\": \"5f也鑽過\", \"push_time\": \"05/02 15:52\", \"push_messenger\": \"rriver\"}, \"2\": {\"push_state\": \"→\", \"push_content\": \"五樓肛門拉出60公分棒狀物\", \"push_time\": \"05/02 15:52\", \"push_messenger\": \"NYPD319198\"}, \"3\": {\"push_state\": \"推\", \"push_content\": \"蓋\", \"push_time\": \"05/02 15:52\", \"push_messenger\": \"ttbfuckme\"}, \"4\": {\"push_state\": \"噓\", \"push_content\": \"五樓也有\", \"push_time\": \"05/02 15:52\", \"push_messenger\": \"zxc2331189\"}, \"5\": {\"push_state\": \"推\", \"push_content\": \"蓋\", \"push_time\": \"05/02 15:52\", \"push_messenger\": \"kaito1209\"}, \"6\": {\"push_state\": \"推\", \"push_content\": \"甲爆\", \"push_time\": \"05/02 15:52\", \"push_messenger\": \"paulowl123\"}, \"7\": {\"push_state\": \"推\", \"push_content\": \"哈哈五樓哈哈\", \"push_time\": \"05/02 15:53\", \"push_messenger\": \"s820912gmail\"}, \"8\": {\"push_state\": \"→\", \"push_content\": \"肛\", \"push_time\": \"05/02 15:53\", \"push_messenger\": \"rttlac\"}, \"9\": {\"push_state\": \"噓\", \"push_content\": \"臭\", \"push_time\": \"05/02 15:53\", \"push_messenger\": \"TyuzuChou\"}, \"10\": {\"push_state\": \"推\", \"push_content\": \"某族群不意外\", \"push_time\": \"05/02 15:53\", \"push_messenger\": \"nimama000\"}, \"11\": {\"push_state\": \"→\", \"push_content\": \"原來黃鱔也跟金針菇一樣不消化 直接整條拉出來\", \"push_time\": \"05/02 15:53\", \"push_messenger\": \"scores\"}, \"12\": {\"push_state\": \"推\", \"push_content\": \"五樓\", \"push_time\": \"05/02 15:53\", \"push_messenger\": \"p25488148\"}, \"13\": {\"push_state\": \"→\", \"push_content\": \"SOD都是真的  異種系列\", \"push_time\": \"05/02 15:54\", \"push_messenger\": \"scores\"}, \"14\": {\"push_state\": \"推\", \"push_content\": \"某族群 連動物也不放過\", \"push_time\": \"05/02 15:54\", \"push_messenger\": \"bicedb\"}, \"15\": {\"push_state\": \"推\", \"push_content\": \"五甲 黑陶\", \"push_time\": \"05/02 15:54\", \"push_messenger\": \"danorken\"}}, \"h_推文\": {\"all\": 15, \"b\": 8, \"g\": 3, \"n\": 4}}, \"https://www.ptt.cc/bbs/Gossiping/M.1525247517.A.CEB.html\": {\"a_連結\": \"https://www.ptt.cc/bbs/Gossiping/M.1525247517.A.CEB.html\", \"b_作者\": \"DustToDust\", \"c_標題\": \"[問卦] OX服務好價格便宜 兩大超商龍頭被擊倒?\", \"d_日期\": \"Wed May  2 15:51:52 2018\", \"e_ip\": \"36.233.236.50\", \"f_內文\": \" 本肥宅今天路過OX 想說進去買菸  價格都有清楚標示 為什麼兩大超商 菸價都不標出來?  門口放了很陽春的標示 美式拿鐵 買一送一  買嘎逼回來喝 跟兩大超商也沒有不同啊  奇怪 怎麼OX生意還是很差 感覺都被擠出市區了   最近去兩大超商 不知道是不是直營店的關係 每個都給我擺臭臉戲三小   有沒有台灣第三勢力超商 完全被邊緣化 被兩大夾殺的八卦?  -- \", \"g_推文\": {\"1\": {\"push_state\": \"噓\", \"push_content\": \"買菸就是廢物該死\", \"push_time\": \"05/02 15:52\", \"push_messenger\": \"nekoten\"}, \"2\": {\"push_state\": \"推\", \"push_content\": \"樓下路過抽插\", \"push_time\": \"05/02 15:53\", \"push_messenger\": \"koebel0521\"}, \"3\": {\"push_state\": \"噓\", \"push_content\": \"你怎麼沒被撞死，好可惜\", \"push_time\": \"05/02 15:53\", \"push_messenger\": \"alex01\"}, \"4\": {\"push_state\": \"噓\", \"push_content\": \"買菸該死 吸毒是人權 覺青邏輯 懂？？\", \"push_time\": \"05/02 15:53\", \"push_messenger\": \"SungHyun\"}, \"5\": {\"push_state\": \"推\", \"push_content\": \"ok點太偏\", \"push_time\": \"05/02 15:53\", \"push_messenger\": \"kutkin\"}, \"6\": {\"push_state\": \"→\", \"push_content\": \"遇過有的店好像不希望你買太多特價品 @@\", \"push_time\": \"05/02 15:53\", \"push_messenger\": \"Pet\"}, \"7\": {\"push_state\": \"→\", \"push_content\": \"OK 都有一股怪味\", \"push_time\": \"05/02 15:54\", \"push_messenger\": \"addycat\"}, \"8\": {\"push_state\": \"推\", \"push_content\": \"其實1樓跟3樓都可以吉看看\", \"push_time\": \"05/02 15:54\", \"push_messenger\": \"ninggo\"}, \"9\": {\"push_state\": \"噓\", \"push_content\": \"你為什麼不要說ok就好了?  有什麼毛病?\", \"push_time\": \"05/02 15:54\", \"push_messenger\": \"k1400\"}}, \"h_推文\": {\"all\": 9, \"b\": 3, \"g\": 4, \"n\": 2}}, \"https://www.ptt.cc/bbs/Gossiping/M.1525247542.A.5A9.html\": {\"a_連結\": \"https://www.ptt.cc/bbs/Gossiping/M.1525247542.A.5A9.html\", \"b_作者\": \"WindAragon\", \"c_標題\": \"[新聞] 臉書網購奶粉75折？ 50餘人被騙走上百萬\", \"d_日期\": \"Wed May  2 15:52:16 2018\", \"e_ip\": \"36.229.220.42\", \"f_內文\": \" 1.媒體來源:聯合新聞網  2.完整新聞標題:臉書網購奶粉75折？ 50餘人被騙走上百萬  3.完整新聞內文:  李姓單親媽媽成立「小屁孩嬰兒用品奶粉雜貨舖」臉書社團，用市價75折的價格販 售知名品牌奶粉，剛開始都會出貨，等到越來越多人訂購，有人一次購買4、50罐奶 粉，李女漸漸找藉口拖延，最後更人間蒸發、失去聯繫；新北市刑大科技犯罪偵查隊 與刑事局偵9隊查出被害人超過50人，將李女逮捕，昨天依詐欺罪移送法辦。  新北市刑大科技犯罪偵查隊接獲報案指出，去年12月開始，臉書上出現「小屁孩嬰兒 用品奶粉雜貨舖」社團，版主李姓女子（30多歲）均以市價75折的價格販售知名品牌 奶粉，許多媽媽認為相當好康，訂購後也真的收到貨品，開始放心下訂；其中劉姓 女子認為相當優惠，一次匯款3萬5200元，購買48罐，預計今年4月初到貨。  結果劉女在3月跟李女確認到貨時間，李女卻以各種理由拖延，劉女覺得奇怪，跟其 他團購網友討論後，才發現許多人面臨相同情況；還有人一次匯款8萬，遲遲沒收 到貨，成立購買奶粉、未收到商品被害人群組。劉女驚覺自己也變成被害人，再跟 李女詢問時，李女便已讀不回，隨後社團也關閉，再也找不到人。  警方接獲報案，調查本案被害人超過50名，詐騙款項高達上百萬元，經清查詐騙款 項金流，循線鎖定住在新北市的李姓女子，前天到她住處將人逮捕，查扣存摺、手 機、訂購明細等物品。  偵訊時，李女供稱自己離婚、單親撫養二個幼兒，才想用這個方式賺點生活費，並 非蓄意詐騙，原本都有正常出貨；因奶粉價格暴漲，她沒有辦法再拿到原本的優惠 價格，只能用東牆補西牆，財務漏洞越滾越大，導致不可收拾，才避不見面，警方 訊後依詐欺罪送辦。  刑大大隊長黃建榮提醒，網路購物便利，應慎選信用良好且具有安全交易機制的 網購平臺，避免私下以通訊軟體與賣家交易，購買前多方查證，以保障自身權益。   4.完整新聞連結 (或短網址): https://udn.com/news/story/7315/3118841   5.備註: 網路購物風險高...  -- \", \"g_推文\": {\"1\": {\"push_state\": \"→\", \"push_content\": \"會去用FB上面買的被騙也是日常\", \"push_time\": \"05/02 15:53\", \"push_messenger\": \"zxc2331189\"}, \"2\": {\"push_state\": \"推\", \"push_content\": \"台女\", \"push_time\": \"05/02 15:53\", \"push_messenger\": \"meredith001\"}, \"3\": {\"push_state\": \"推\", \"push_content\": \"FB購物不意外\", \"push_time\": \"05/02 15:53\", \"push_messenger\": \"Sougetu\"}, \"4\": {\"push_state\": \"推\", \"push_content\": \"為什麼不去賣場買奶粉？\", \"push_time\": \"05/02 15:53\", \"push_messenger\": \"FrancisHuang\"}, \"5\": {\"push_state\": \"推\", \"push_content\": \"一直覺得敢在臉書買東西的人很有種\", \"push_time\": \"05/02 15:53\", \"push_messenger\": \"Iakane\"}, \"6\": {\"push_state\": \"噓\", \"push_content\": \"五樓從小喝牛洨 沒影響\", \"push_time\": \"05/02 15:53\", \"push_messenger\": \"thegreatlcx\"}, \"7\": {\"push_state\": \"→\", \"push_content\": \"賣場還有發票\", \"push_time\": \"05/02 15:53\", \"push_messenger\": \"FrancisHuang\"}, \"8\": {\"push_state\": \"→\", \"push_content\": \"好險\", \"push_time\": \"05/02 15:54\", \"push_messenger\": \"thegreatlcx\"}, \"9\": {\"push_state\": \"推\", \"push_content\": \"風險高的不是網路購物 是不會挑通路又愛貪小便宜==\", \"push_time\": \"05/02 15:54\", \"push_messenger\": \"markmao\"}}, \"h_推文\": {\"all\": 9, \"b\": 5, \"g\": 1, \"n\": 3}}, \"https://www.ptt.cc/bbs/Gossiping/M.1525247584.A.577.html\": {\"a_連結\": \"https://www.ptt.cc/bbs/Gossiping/M.1525247584.A.577.html\", \"b_作者\": \"destiny1895\", \"c_標題\": \"Re: [新聞] 吳茂昆瞞學校以公司名義申請專利 東華毫\", \"d_日期\": \"Wed May  2 15:53:01 2018\", \"e_ip\": \"39.12.101.15\", \"f_內文\": \" 大家冷靜點不要罵新的教育部長  我猜他只是dpp用來的卡管而已  然後剛好又有點台灣價值所以提拔  等到卡管事件告一段落後  就會辭職避風頭，之後dpp再找職位給他  不要問我為什麼這樣猜  因為之前dpp太多這樣的劇本惹  還有吳部長在dpp當政下絕對不會違法  要相信他的人格  各位沒有台灣價值的懂嗎？  不懂要學台灣價值阿，通通給我去選修  然後辦張dpp黨證保證比kmt的好用一百倍  上至總統行政院長，下至覺青台獨都挺你  黑的也可以幫你說成白的，不去辦證嗎？   -- \", \"g_推文\": {\"1\": {\"push_state\": \"推\", \"push_content\": \"這樣也好  至少掌過權\", \"push_time\": \"05/02 15:53\", \"push_messenger\": \"rr78\"}, \"2\": {\"push_state\": \"推\", \"push_content\": \"現在申請黨證已經排到2025年了\", \"push_time\": \"05/02 15:53\", \"push_messenger\": \"lesnaree2\"}, \"3\": {\"push_state\": \"→\", \"push_content\": \"咱dpp有黨證就有價值\", \"push_time\": \"05/02 15:54\", \"push_messenger\": \"taikonkimo\"}, \"4\": {\"push_state\": \"推\", \"push_content\": \"他本來就是棋子阿，棄子一顆\", \"push_time\": \"05/02 15:54\", \"push_messenger\": \"ilw4e\"}}, \"h_推文\": {\"all\": 4, \"b\": 3, \"g\": 0, \"n\": 1}}}'"
      ]
     },
     "execution_count": 4,
     "metadata": {},
     "output_type": "execute_result"
    }
   ],
   "source": [
    "import requests\n",
    "import re\n",
    "import json\n",
    "from bs4 import BeautifulSoup\n",
    "\n",
    "# 以dict儲存所有爬下來的文章項目\n",
    "pttArticledict = {}\n",
    "\n",
    "# ptt的path，因為爬下來的網址需加進此path才能link\n",
    "pttpath = \"https://www.ptt.cc\"\n",
    "\n",
    "# post的payload\n",
    "payload = {\n",
    "    'from': '/bbs/Gossiping/index.html',\n",
    "    'yes': 'yes'\n",
    "}\n",
    "\n",
    "# 進入文章列表\n",
    "req = requests.session()\n",
    "\n",
    "# 先post解決18禁按鈕問題\n",
    "res = req.post('https://www.ptt.cc/ask/over18', verify=False, data=payload)\n",
    "res = req.get('https://www.ptt.cc/bbs/Gossiping/index.html', verify=False)\n",
    "soup = BeautifulSoup(res.text, \"lxml\")\n",
    "\n",
    "index = 0\n",
    "for entry in soup.select('.r-ent')[:-5]:\n",
    "    index = index + 1\n",
    "    \n",
    "    # 以tempdict暫存資料，再加入pttArticledict\n",
    "    tempdict = {}\n",
    "    # path\n",
    "    try:\n",
    "        path = pttpath + entry.select('a')[0]['href']\n",
    "        # author\n",
    "        author = entry.select('.author')[0].text\n",
    "        # title\n",
    "        title = entry.select('.title')[0].text[1:-1]\n",
    "\n",
    "        tempdict['a_連結'] = path\n",
    "        tempdict['b_作者'] = author\n",
    "        tempdict['c_標題'] = title\n",
    "\n",
    "        # 進入文章頁面\n",
    "        res1 = req.get(path, verify=False)\n",
    "        soup1 = BeautifulSoup(res1.text, \"lxml\")\n",
    "        # ip\n",
    "        ip =  soup1.find_all(text=re.compile('發信站: 批踢踢實業坊'))[0].split(':')[-1][1:-1]\n",
    "        # date\n",
    "        date = soup1.select('#main-container #main-content div.article-metaline .article-meta-value')[2].text\n",
    "        # content\n",
    "        content = soup1.find(id=\"main-content\").text.split('※ 發信站: 批踢踢實業坊(ptt.cc)')\n",
    "        content = content[0].split(date)[1].replace('\\n',' ')\n",
    "        tempdict['d_日期'] = date\n",
    "        tempdict['e_ip'] = ip\n",
    "        tempdict['f_內文'] = content\n",
    "        # push state\n",
    "        num, b, g, n, messageSet = 0, 0, 0, 0, {}\n",
    "        for entry in soup1.select('.push'):\n",
    "            push_messenger = entry.select('span')[1].text\n",
    "            push_content = entry.select('span')[2].text[2:]\n",
    "            push_time = entry.select('span')[3].text[1:-1]\n",
    "            \n",
    "            message = {}\n",
    "            pushstateStat = {}\n",
    "            num += 1\n",
    "            push_state = entry.select('span')[0].text[:-1]\n",
    "            if push_state==u'推':\n",
    "                b += 1\n",
    "            elif push_state==u'噓':\n",
    "                g += 1\n",
    "            else:\n",
    "                n += 1\n",
    "            \n",
    "            message['push_state'] = push_state\n",
    "            message['push_content'] = push_content\n",
    "            message['push_time'] = push_time\n",
    "            message['push_messenger'] = push_messenger\n",
    "            messageSet[num] = message\n",
    "        tempdict['g_推文'] = messageSet\n",
    "        pushstateStat['all'] = b+g+n\n",
    "        pushstateStat['b'] = b\n",
    "        pushstateStat['g'] = g\n",
    "        pushstateStat['n'] = n\n",
    "        tempdict['h_推文'] = pushstateStat\n",
    "        \n",
    "    except:\n",
    "        path = 'deleted_article'\n",
    "    \n",
    "    pttArticledict[path] = tempdict\n",
    "\n",
    "    print(\"---第{0}篇文章爬蟲完成！---\".format(index))\n",
    "\n",
    "outputJson = json.dumps(pttArticledict,ensure_ascii=False)"
   ]
  }
 ],
 "metadata": {
  "kernelspec": {
   "display_name": "Python 3",
   "language": "python",
   "name": "python3"
  },
  "language_info": {
   "codemirror_mode": {
    "name": "ipython",
    "version": 3
   },
   "file_extension": ".py",
   "mimetype": "text/x-python",
   "name": "python",
   "nbconvert_exporter": "python",
   "pygments_lexer": "ipython3",
   "version": "3.6.4"
  }
 },
 "nbformat": 4,
 "nbformat_minor": 2
}
