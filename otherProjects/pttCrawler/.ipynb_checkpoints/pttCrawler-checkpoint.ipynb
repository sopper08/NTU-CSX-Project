{
 "cells": [
  {
   "cell_type": "code",
   "execution_count": 3,
   "metadata": {
    "scrolled": false
   },
   "outputs": [
    {
     "name": "stderr",
     "output_type": "stream",
     "text": [
      "/home/sopper/anaconda3/lib/python3.6/site-packages/urllib3/connectionpool.py:858: InsecureRequestWarning: Unverified HTTPS request is being made. Adding certificate verification is strongly advised. See: https://urllib3.readthedocs.io/en/latest/advanced-usage.html#ssl-warnings\n",
      "  InsecureRequestWarning)\n",
      "/home/sopper/anaconda3/lib/python3.6/site-packages/urllib3/connectionpool.py:858: InsecureRequestWarning: Unverified HTTPS request is being made. Adding certificate verification is strongly advised. See: https://urllib3.readthedocs.io/en/latest/advanced-usage.html#ssl-warnings\n",
      "  InsecureRequestWarning)\n",
      "/home/sopper/anaconda3/lib/python3.6/site-packages/urllib3/connectionpool.py:858: InsecureRequestWarning: Unverified HTTPS request is being made. Adding certificate verification is strongly advised. See: https://urllib3.readthedocs.io/en/latest/advanced-usage.html#ssl-warnings\n",
      "  InsecureRequestWarning)\n"
     ]
    }
   ],
   "source": [
    "import requests\n",
    "import re\n",
    "from bs4 import BeautifulSoup\n",
    "\n",
    "# 以dict儲存所有爬下來的文章項目\n",
    "pttArticledict = {}\n",
    "\n",
    "# ptt的path，因為爬下來的網址需加進此path才能link\n",
    "pttpath = \"https://www.ptt.cc\"\n",
    "\n",
    "# post的payload\n",
    "payload = {\n",
    "    'from': '/bbs/Gossiping/index.html',\n",
    "    'yes': 'yes'\n",
    "}\n",
    "\n",
    "# 進入文章列表\n",
    "req = requests.session()\n",
    "\n",
    "# 先post解決18禁按鈕問題\n",
    "res = req.post('https://www.ptt.cc/ask/over18', verify=False, data=payload)\n",
    "res = req.get('https://www.ptt.cc/bbs/Gossiping/index.html', verify=False)\n",
    "soup = BeautifulSoup(res.text, \"lxml\")"
   ]
  },
  {
   "cell_type": "code",
   "execution_count": 4,
   "metadata": {},
   "outputs": [
    {
     "name": "stdout",
     "output_type": "stream",
     "text": [
      "<div class=\"r-ent\">\n",
      "<div class=\"nrec\"></div>\n",
      "<div class=\"title\">\n",
      "<a href=\"/bbs/Gossiping/M.1525242201.A.603.html\">Re: [爆卦] 管中閔事件法律問題 總整理懶人包</a>\n",
      "</div>\n",
      "<div class=\"meta\">\n",
      "<div class=\"author\">mooto</div>\n",
      "<div class=\"article-menu\">\n",
      "<div class=\"trigger\">⋯</div>\n",
      "<div class=\"dropdown\">\n",
      "<div class=\"item\"><a href=\"/bbs/Gossiping/search?q=thread%3A%5B%E7%88%86%E5%8D%A6%5D+%E7%AE%A1%E4%B8%AD%E9%96%94%E4%BA%8B%E4%BB%B6%E6%B3%95%E5%BE%8B%E5%95%8F%E9%A1%8C+%E7%B8%BD%E6%95%B4%E7%90%86%E6%87%B6%E4%BA%BA%E5%8C%85\">搜尋同標題文章</a></div>\n",
      "<div class=\"item\"><a href=\"/bbs/Gossiping/search?q=author%3Amooto\">搜尋看板內 mooto 的文章</a></div>\n",
      "</div>\n",
      "</div>\n",
      "<div class=\"date\"> 5/02</div>\n",
      "<div class=\"mark\"></div>\n",
      "</div>\n",
      "</div>\n",
      "---\n",
      "<div class=\"r-ent\">\n",
      "<div class=\"nrec\"><span class=\"hl f2\">4</span></div>\n",
      "<div class=\"title\">\n",
      "<a href=\"/bbs/Gossiping/M.1525242209.A.AAB.html\">[問卦] 大家都繳多少稅啊</a>\n",
      "</div>\n",
      "<div class=\"meta\">\n",
      "<div class=\"author\">kiske011</div>\n",
      "<div class=\"article-menu\">\n",
      "<div class=\"trigger\">⋯</div>\n",
      "<div class=\"dropdown\">\n",
      "<div class=\"item\"><a href=\"/bbs/Gossiping/search?q=thread%3A%5B%E5%95%8F%E5%8D%A6%5D+%E5%A4%A7%E5%AE%B6%E9%83%BD%E7%B9%B3%E5%A4%9A%E5%B0%91%E7%A8%85%E5%95%8A\">搜尋同標題文章</a></div>\n",
      "<div class=\"item\"><a href=\"/bbs/Gossiping/search?q=author%3Akiske011\">搜尋看板內 kiske011 的文章</a></div>\n",
      "</div>\n",
      "</div>\n",
      "<div class=\"date\"> 5/02</div>\n",
      "<div class=\"mark\"></div>\n",
      "</div>\n",
      "</div>\n",
      "---\n",
      "<div class=\"r-ent\">\n",
      "<div class=\"nrec\"></div>\n",
      "<div class=\"title\">\n",
      "<a href=\"/bbs/Gossiping/M.1525242218.A.870.html\">Re: [問卦] 要怎麼殺蚊子</a>\n",
      "</div>\n",
      "<div class=\"meta\">\n",
      "<div class=\"author\">wste</div>\n",
      "<div class=\"article-menu\">\n",
      "<div class=\"trigger\">⋯</div>\n",
      "<div class=\"dropdown\">\n",
      "<div class=\"item\"><a href=\"/bbs/Gossiping/search?q=thread%3A%5B%E5%95%8F%E5%8D%A6%5D+%E8%A6%81%E6%80%8E%E9%BA%BC%E6%AE%BA%E8%9A%8A%E5%AD%90\">搜尋同標題文章</a></div>\n",
      "<div class=\"item\"><a href=\"/bbs/Gossiping/search?q=author%3Awste\">搜尋看板內 wste 的文章</a></div>\n",
      "</div>\n",
      "</div>\n",
      "<div class=\"date\"> 5/02</div>\n",
      "<div class=\"mark\"></div>\n",
      "</div>\n",
      "</div>\n",
      "---\n",
      "<div class=\"r-ent\">\n",
      "<div class=\"nrec\"><span class=\"hl f2\">5</span></div>\n",
      "<div class=\"title\">\n",
      "<a href=\"/bbs/Gossiping/M.1525242229.A.3C1.html\">Re: [新聞] 超狂！阿童不僅幫賣淫女　更願讓性專</a>\n",
      "</div>\n",
      "<div class=\"meta\">\n",
      "<div class=\"author\">qw098753</div>\n",
      "<div class=\"article-menu\">\n",
      "<div class=\"trigger\">⋯</div>\n",
      "<div class=\"dropdown\">\n",
      "<div class=\"item\"><a href=\"/bbs/Gossiping/search?q=thread%3A%5B%E6%96%B0%E8%81%9E%5D+%E8%B6%85%E7%8B%82%EF%BC%81%E9%98%BF%E7%AB%A5%E4%B8%8D%E5%83%85%E5%B9%AB%E8%B3%A3%E6%B7%AB%E5%A5%B3%E3%80%80%E6%9B%B4%E9%A1%98%E8%AE%93%E6%80%A7%E5%B0%88\">搜尋同標題文章</a></div>\n",
      "<div class=\"item\"><a href=\"/bbs/Gossiping/search?q=author%3Aqw098753\">搜尋看板內 qw098753 的文章</a></div>\n",
      "</div>\n",
      "</div>\n",
      "<div class=\"date\"> 5/02</div>\n",
      "<div class=\"mark\"></div>\n",
      "</div>\n",
      "</div>\n",
      "---\n",
      "<div class=\"r-ent\">\n",
      "<div class=\"nrec\"><span class=\"hl f2\">8</span></div>\n",
      "<div class=\"title\">\n",
      "<a href=\"/bbs/Gossiping/M.1525242251.A.157.html\">[問卦] 古代人會親親嗎？</a>\n",
      "</div>\n",
      "<div class=\"meta\">\n",
      "<div class=\"author\">ballballer</div>\n",
      "<div class=\"article-menu\">\n",
      "<div class=\"trigger\">⋯</div>\n",
      "<div class=\"dropdown\">\n",
      "<div class=\"item\"><a href=\"/bbs/Gossiping/search?q=thread%3A%5B%E5%95%8F%E5%8D%A6%5D+%E5%8F%A4%E4%BB%A3%E4%BA%BA%E6%9C%83%E8%A6%AA%E8%A6%AA%E5%97%8E%EF%BC%9F\">搜尋同標題文章</a></div>\n",
      "<div class=\"item\"><a href=\"/bbs/Gossiping/search?q=author%3Aballballer\">搜尋看板內 ballballer 的文章</a></div>\n",
      "</div>\n",
      "</div>\n",
      "<div class=\"date\"> 5/02</div>\n",
      "<div class=\"mark\"></div>\n",
      "</div>\n",
      "</div>\n",
      "---\n",
      "<div class=\"r-ent\">\n",
      "<div class=\"nrec\"><span class=\"hl f2\">4</span></div>\n",
      "<div class=\"title\">\n",
      "<a href=\"/bbs/Gossiping/M.1525242268.A.59C.html\">Re: [新聞] 無神論父親能否上天堂 教宗暖心慰男童</a>\n",
      "</div>\n",
      "<div class=\"meta\">\n",
      "<div class=\"author\">catwalk456</div>\n",
      "<div class=\"article-menu\">\n",
      "<div class=\"trigger\">⋯</div>\n",
      "<div class=\"dropdown\">\n",
      "<div class=\"item\"><a href=\"/bbs/Gossiping/search?q=thread%3A%5B%E6%96%B0%E8%81%9E%5D+%E7%84%A1%E7%A5%9E%E8%AB%96%E7%88%B6%E8%A6%AA%E8%83%BD%E5%90%A6%E4%B8%8A%E5%A4%A9%E5%A0%82+%E6%95%99%E5%AE%97%E6%9A%96%E5%BF%83%E6%85%B0%E7%94%B7%E7%AB%A5\">搜尋同標題文章</a></div>\n",
      "<div class=\"item\"><a href=\"/bbs/Gossiping/search?q=author%3Acatwalk456\">搜尋看板內 catwalk456 的文章</a></div>\n",
      "</div>\n",
      "</div>\n",
      "<div class=\"date\"> 5/02</div>\n",
      "<div class=\"mark\"></div>\n",
      "</div>\n",
      "</div>\n",
      "---\n",
      "<div class=\"r-ent\">\n",
      "<div class=\"nrec\"><span class=\"hl f2\">3</span></div>\n",
      "<div class=\"title\">\n",
      "<a href=\"/bbs/Gossiping/M.1525242278.A.CF9.html\">Re: [ＦＢ] 挺管拔管爭議 白話說明</a>\n",
      "</div>\n",
      "<div class=\"meta\">\n",
      "<div class=\"author\">wfelix</div>\n",
      "<div class=\"article-menu\">\n",
      "<div class=\"trigger\">⋯</div>\n",
      "<div class=\"dropdown\">\n",
      "<div class=\"item\"><a href=\"/bbs/Gossiping/search?q=thread%3A%5B%EF%BC%A6%EF%BC%A2%5D+%E6%8C%BA%E7%AE%A1%E6%8B%94%E7%AE%A1%E7%88%AD%E8%AD%B0+%E7%99%BD%E8%A9%B1%E8%AA%AA%E6%98%8E\">搜尋同標題文章</a></div>\n",
      "<div class=\"item\"><a href=\"/bbs/Gossiping/search?q=author%3Awfelix\">搜尋看板內 wfelix 的文章</a></div>\n",
      "</div>\n",
      "</div>\n",
      "<div class=\"date\"> 5/02</div>\n",
      "<div class=\"mark\"></div>\n",
      "</div>\n",
      "</div>\n",
      "---\n",
      "<div class=\"r-ent\">\n",
      "<div class=\"nrec\"></div>\n",
      "<div class=\"title\">\n",
      "<a href=\"/bbs/Gossiping/M.1525242334.A.72F.html\">Re: [新聞] 民進黨決定不禮讓柯文哲？ 周玉蔻爆</a>\n",
      "</div>\n",
      "<div class=\"meta\">\n",
      "<div class=\"author\">middlebear</div>\n",
      "<div class=\"article-menu\">\n",
      "<div class=\"trigger\">⋯</div>\n",
      "<div class=\"dropdown\">\n",
      "<div class=\"item\"><a href=\"/bbs/Gossiping/search?q=thread%3A%5B%E6%96%B0%E8%81%9E%5D+%E6%B0%91%E9%80%B2%E9%BB%A8%E6%B1%BA%E5%AE%9A%E4%B8%8D%E7%A6%AE%E8%AE%93%E6%9F%AF%E6%96%87%E5%93%B2%EF%BC%9F+%E5%91%A8%E7%8E%89%E8%94%BB%E7%88%86\">搜尋同標題文章</a></div>\n",
      "<div class=\"item\"><a href=\"/bbs/Gossiping/search?q=author%3Amiddlebear\">搜尋看板內 middlebear 的文章</a></div>\n",
      "</div>\n",
      "</div>\n",
      "<div class=\"date\"> 5/02</div>\n",
      "<div class=\"mark\"></div>\n",
      "</div>\n",
      "</div>\n",
      "---\n",
      "<div class=\"r-ent\">\n",
      "<div class=\"nrec\"></div>\n",
      "<div class=\"title\">\n",
      "<a href=\"/bbs/Gossiping/M.1525242376.A.402.html\">Re: [新聞] 要求學生「吃掉親養半年的小雞」日本生</a>\n",
      "</div>\n",
      "<div class=\"meta\">\n",
      "<div class=\"author\">jfw616</div>\n",
      "<div class=\"article-menu\">\n",
      "<div class=\"trigger\">⋯</div>\n",
      "<div class=\"dropdown\">\n",
      "<div class=\"item\"><a href=\"/bbs/Gossiping/search?q=thread%3A%5B%E6%96%B0%E8%81%9E%5D+%E8%A6%81%E6%B1%82%E5%AD%B8%E7%94%9F%E3%80%8C%E5%90%83%E6%8E%89%E8%A6%AA%E9%A4%8A%E5%8D%8A%E5%B9%B4%E7%9A%84%E5%B0%8F%E9%9B%9E%E3%80%8D%E6%97%A5%E6%9C%AC%E7%94%9F\">搜尋同標題文章</a></div>\n",
      "<div class=\"item\"><a href=\"/bbs/Gossiping/search?q=author%3Ajfw616\">搜尋看板內 jfw616 的文章</a></div>\n",
      "</div>\n",
      "</div>\n",
      "<div class=\"date\"> 5/02</div>\n",
      "<div class=\"mark\"></div>\n",
      "</div>\n",
      "</div>\n",
      "---\n",
      "<div class=\"r-ent\">\n",
      "<div class=\"nrec\"><span class=\"hl f2\">1</span></div>\n",
      "<div class=\"title\">\n",
      "<a href=\"/bbs/Gossiping/M.1525242398.A.AE5.html\">Re: [問卦] 假如劉禪不投降，蜀國能躲過滅亡危機嗎？</a>\n",
      "</div>\n",
      "<div class=\"meta\">\n",
      "<div class=\"author\">JokePtt</div>\n",
      "<div class=\"article-menu\">\n",
      "<div class=\"trigger\">⋯</div>\n",
      "<div class=\"dropdown\">\n",
      "<div class=\"item\"><a href=\"/bbs/Gossiping/search?q=thread%3A%5B%E5%95%8F%E5%8D%A6%5D+%E5%81%87%E5%A6%82%E5%8A%89%E7%A6%AA%E4%B8%8D%E6%8A%95%E9%99%8D%EF%BC%8C%E8%9C%80%E5%9C%8B%E8%83%BD%E8%BA%B2%E9%81%8E%E6%BB%85%E4%BA%A1%E5%8D%B1%E6%A9%9F%E5%97%8E%EF%BC%9F\">搜尋同標題文章</a></div>\n",
      "<div class=\"item\"><a href=\"/bbs/Gossiping/search?q=author%3AJokePtt\">搜尋看板內 JokePtt 的文章</a></div>\n",
      "</div>\n",
      "</div>\n",
      "<div class=\"date\"> 5/02</div>\n",
      "<div class=\"mark\"></div>\n",
      "</div>\n",
      "</div>\n",
      "---\n",
      "<div class=\"r-ent\">\n",
      "<div class=\"nrec\"></div>\n",
      "<div class=\"title\">\n",
      "<a href=\"/bbs/Gossiping/M.1525242427.A.A57.html\">Re: [新聞] 國防部：比照國機國艦 推動國車國造</a>\n",
      "</div>\n",
      "<div class=\"meta\">\n",
      "<div class=\"author\">pinkowa</div>\n",
      "<div class=\"article-menu\">\n",
      "<div class=\"trigger\">⋯</div>\n",
      "<div class=\"dropdown\">\n",
      "<div class=\"item\"><a href=\"/bbs/Gossiping/search?q=thread%3A%5B%E6%96%B0%E8%81%9E%5D+%E5%9C%8B%E9%98%B2%E9%83%A8%EF%BC%9A%E6%AF%94%E7%85%A7%E5%9C%8B%E6%A9%9F%E5%9C%8B%E8%89%A6+%E6%8E%A8%E5%8B%95%E5%9C%8B%E8%BB%8A%E5%9C%8B%E9%80%A0\">搜尋同標題文章</a></div>\n",
      "<div class=\"item\"><a href=\"/bbs/Gossiping/search?q=author%3Apinkowa\">搜尋看板內 pinkowa 的文章</a></div>\n",
      "</div>\n",
      "</div>\n",
      "<div class=\"date\"> 5/02</div>\n",
      "<div class=\"mark\"></div>\n",
      "</div>\n",
      "</div>\n",
      "---\n",
      "<div class=\"r-ent\">\n",
      "<div class=\"nrec\"></div>\n",
      "<div class=\"title\">\n",
      "<a href=\"/bbs/Gossiping/M.1525242443.A.41E.html\">[問卦] 黑寡婦是不是漫威最強角色</a>\n",
      "</div>\n",
      "<div class=\"meta\">\n",
      "<div class=\"author\">sh981215</div>\n",
      "<div class=\"article-menu\">\n",
      "<div class=\"trigger\">⋯</div>\n",
      "<div class=\"dropdown\">\n",
      "<div class=\"item\"><a href=\"/bbs/Gossiping/search?q=thread%3A%5B%E5%95%8F%E5%8D%A6%5D+%E9%BB%91%E5%AF%A1%E5%A9%A6%E6%98%AF%E4%B8%8D%E6%98%AF%E6%BC%AB%E5%A8%81%E6%9C%80%E5%BC%B7%E8%A7%92%E8%89%B2\">搜尋同標題文章</a></div>\n",
      "<div class=\"item\"><a href=\"/bbs/Gossiping/search?q=author%3Ash981215\">搜尋看板內 sh981215 的文章</a></div>\n",
      "</div>\n",
      "</div>\n",
      "<div class=\"date\"> 5/02</div>\n",
      "<div class=\"mark\"></div>\n",
      "</div>\n",
      "</div>\n",
      "---\n",
      "<div class=\"r-ent\">\n",
      "<div class=\"nrec\"><span class=\"hl f2\">9</span></div>\n",
      "<div class=\"title\">\n",
      "<a href=\"/bbs/Gossiping/M.1525242480.A.904.html\">[問卦] 去看復仇者聯盟要帶什麼零食？</a>\n",
      "</div>\n",
      "<div class=\"meta\">\n",
      "<div class=\"author\">eusebius</div>\n",
      "<div class=\"article-menu\">\n",
      "<div class=\"trigger\">⋯</div>\n",
      "<div class=\"dropdown\">\n",
      "<div class=\"item\"><a href=\"/bbs/Gossiping/search?q=thread%3A%5B%E5%95%8F%E5%8D%A6%5D+%E5%8E%BB%E7%9C%8B%E5%BE%A9%E4%BB%87%E8%80%85%E8%81%AF%E7%9B%9F%E8%A6%81%E5%B8%B6%E4%BB%80%E9%BA%BC%E9%9B%B6%E9%A3%9F%EF%BC%9F\">搜尋同標題文章</a></div>\n",
      "<div class=\"item\"><a href=\"/bbs/Gossiping/search?q=author%3Aeusebius\">搜尋看板內 eusebius 的文章</a></div>\n",
      "</div>\n",
      "</div>\n",
      "<div class=\"date\"> 5/02</div>\n",
      "<div class=\"mark\"></div>\n",
      "</div>\n",
      "</div>\n",
      "---\n",
      "<div class=\"r-ent\">\n",
      "<div class=\"nrec\"></div>\n",
      "<div class=\"title\">\n",
      "<a href=\"/bbs/Gossiping/M.1525242502.A.38B.html\">Re: [新聞] 要求學生「吃掉親養半年的小雞」日本生</a>\n",
      "</div>\n",
      "<div class=\"meta\">\n",
      "<div class=\"author\">eyesg</div>\n",
      "<div class=\"article-menu\">\n",
      "<div class=\"trigger\">⋯</div>\n",
      "<div class=\"dropdown\">\n",
      "<div class=\"item\"><a href=\"/bbs/Gossiping/search?q=thread%3A%5B%E6%96%B0%E8%81%9E%5D+%E8%A6%81%E6%B1%82%E5%AD%B8%E7%94%9F%E3%80%8C%E5%90%83%E6%8E%89%E8%A6%AA%E9%A4%8A%E5%8D%8A%E5%B9%B4%E7%9A%84%E5%B0%8F%E9%9B%9E%E3%80%8D%E6%97%A5%E6%9C%AC%E7%94%9F\">搜尋同標題文章</a></div>\n",
      "<div class=\"item\"><a href=\"/bbs/Gossiping/search?q=author%3Aeyesg\">搜尋看板內 eyesg 的文章</a></div>\n",
      "</div>\n",
      "</div>\n",
      "<div class=\"date\"> 5/02</div>\n",
      "<div class=\"mark\"></div>\n",
      "</div>\n",
      "</div>\n",
      "---\n",
      "<div class=\"r-ent\">\n",
      "<div class=\"nrec\"></div>\n",
      "<div class=\"title\">\n",
      "<a href=\"/bbs/Gossiping/M.1525242516.A.99D.html\">[問卦] tokyo D</a>\n",
      "</div>\n",
      "<div class=\"meta\">\n",
      "<div class=\"author\">puorg</div>\n",
      "<div class=\"article-menu\">\n",
      "<div class=\"trigger\">⋯</div>\n",
      "<div class=\"dropdown\">\n",
      "<div class=\"item\"><a href=\"/bbs/Gossiping/search?q=thread%3A%5B%E5%95%8F%E5%8D%A6%5D+tokyo+D\">搜尋同標題文章</a></div>\n",
      "<div class=\"item\"><a href=\"/bbs/Gossiping/search?q=author%3Apuorg\">搜尋看板內 puorg 的文章</a></div>\n",
      "</div>\n",
      "</div>\n",
      "<div class=\"date\"> 5/02</div>\n",
      "<div class=\"mark\"></div>\n",
      "</div>\n",
      "</div>\n",
      "---\n",
      "<div class=\"r-ent\">\n",
      "<div class=\"nrec\"></div>\n",
      "<div class=\"title\">\n",
      "<a href=\"/bbs/Gossiping/M.1525242534.A.844.html\">[問卦] 淡江跟文化會變成世仇嗎 ??</a>\n",
      "</div>\n",
      "<div class=\"meta\">\n",
      "<div class=\"author\">gnemail183</div>\n",
      "<div class=\"article-menu\">\n",
      "<div class=\"trigger\">⋯</div>\n",
      "<div class=\"dropdown\">\n",
      "<div class=\"item\"><a href=\"/bbs/Gossiping/search?q=thread%3A%5B%E5%95%8F%E5%8D%A6%5D+%E6%B7%A1%E6%B1%9F%E8%B7%9F%E6%96%87%E5%8C%96%E6%9C%83%E8%AE%8A%E6%88%90%E4%B8%96%E4%BB%87%E5%97%8E+%3F%3F\">搜尋同標題文章</a></div>\n",
      "<div class=\"item\"><a href=\"/bbs/Gossiping/search?q=author%3Agnemail183\">搜尋看板內 gnemail183 的文章</a></div>\n",
      "</div>\n",
      "</div>\n",
      "<div class=\"date\"> 5/02</div>\n",
      "<div class=\"mark\"></div>\n",
      "</div>\n",
      "</div>\n",
      "---\n",
      "<div class=\"r-ent\">\n",
      "<div class=\"nrec\"></div>\n",
      "<div class=\"title\">\n",
      "<a href=\"/bbs/Gossiping/M.1525242537.A.7D4.html\">Re: [新聞] 陳良基：兼職獨董生效日 校長簽了就算</a>\n",
      "</div>\n",
      "<div class=\"meta\">\n",
      "<div class=\"author\">waynedd</div>\n",
      "<div class=\"article-menu\">\n",
      "<div class=\"trigger\">⋯</div>\n",
      "<div class=\"dropdown\">\n",
      "<div class=\"item\"><a href=\"/bbs/Gossiping/search?q=thread%3A%5B%E6%96%B0%E8%81%9E%5D+%E9%99%B3%E8%89%AF%E5%9F%BA%EF%BC%9A%E5%85%BC%E8%81%B7%E7%8D%A8%E8%91%A3%E7%94%9F%E6%95%88%E6%97%A5+%E6%A0%A1%E9%95%B7%E7%B0%BD%E4%BA%86%E5%B0%B1%E7%AE%97\">搜尋同標題文章</a></div>\n",
      "<div class=\"item\"><a href=\"/bbs/Gossiping/search?q=author%3Awaynedd\">搜尋看板內 waynedd 的文章</a></div>\n",
      "</div>\n",
      "</div>\n",
      "<div class=\"date\"> 5/02</div>\n",
      "<div class=\"mark\"></div>\n",
      "</div>\n",
      "</div>\n",
      "---\n",
      "<div class=\"r-ent\">\n",
      "<div class=\"nrec\"></div>\n",
      "<div class=\"title\">\n",
      "<a href=\"/bbs/Gossiping/M.1525242587.A.749.html\">[新聞] 談侯友宜 蘇貞昌：期待還是當年的侯友宜</a>\n",
      "</div>\n",
      "<div class=\"meta\">\n",
      "<div class=\"author\">mimou5566</div>\n",
      "<div class=\"article-menu\">\n",
      "<div class=\"trigger\">⋯</div>\n",
      "<div class=\"dropdown\">\n",
      "<div class=\"item\"><a href=\"/bbs/Gossiping/search?q=thread%3A%5B%E6%96%B0%E8%81%9E%5D+%E8%AB%87%E4%BE%AF%E5%8F%8B%E5%AE%9C+%E8%98%87%E8%B2%9E%E6%98%8C%EF%BC%9A%E6%9C%9F%E5%BE%85%E9%82%84%E6%98%AF%E7%95%B6%E5%B9%B4%E7%9A%84%E4%BE%AF%E5%8F%8B%E5%AE%9C\">搜尋同標題文章</a></div>\n",
      "<div class=\"item\"><a href=\"/bbs/Gossiping/search?q=author%3Amimou5566\">搜尋看板內 mimou5566 的文章</a></div>\n",
      "</div>\n",
      "</div>\n",
      "<div class=\"date\"> 5/02</div>\n",
      "<div class=\"mark\"></div>\n",
      "</div>\n",
      "</div>\n",
      "---\n"
     ]
    }
   ],
   "source": [
    "for entry in soup.select('.r-ent')[:-5]:\n",
    "    print(entry)\n",
    "    print('---')"
   ]
  },
  {
   "cell_type": "code",
   "execution_count": 8,
   "metadata": {
    "scrolled": false
   },
   "outputs": [
    {
     "name": "stdout",
     "output_type": "stream",
     "text": [
      "---這是第1筆資料\n"
     ]
    },
    {
     "name": "stderr",
     "output_type": "stream",
     "text": [
      "/home/sopper/anaconda3/lib/python3.6/site-packages/urllib3/connectionpool.py:858: InsecureRequestWarning: Unverified HTTPS request is being made. Adding certificate verification is strongly advised. See: https://urllib3.readthedocs.io/en/latest/advanced-usage.html#ssl-warnings\n",
      "  InsecureRequestWarning)\n"
     ]
    },
    {
     "name": "stdout",
     "output_type": "stream",
     "text": [
      "噓 \n",
      "knives\n",
      "為什麼他媽的合法，還要自己出來講\n",
      "05/02 14:25\n",
      "done!\n",
      "---這是第2筆資料\n"
     ]
    },
    {
     "name": "stderr",
     "output_type": "stream",
     "text": [
      "/home/sopper/anaconda3/lib/python3.6/site-packages/urllib3/connectionpool.py:858: InsecureRequestWarning: Unverified HTTPS request is being made. Adding certificate verification is strongly advised. See: https://urllib3.readthedocs.io/en/latest/advanced-usage.html#ssl-warnings\n",
      "  InsecureRequestWarning)\n"
     ]
    },
    {
     "name": "stdout",
     "output_type": "stream",
     "text": [
      "噓 \n",
      "rriver\n",
      "0\n",
      "05/02 14:23\n",
      "done!\n",
      "---這是第3筆資料\n"
     ]
    },
    {
     "name": "stderr",
     "output_type": "stream",
     "text": [
      "/home/sopper/anaconda3/lib/python3.6/site-packages/urllib3/connectionpool.py:858: InsecureRequestWarning: Unverified HTTPS request is being made. Adding certificate verification is strongly advised. See: https://urllib3.readthedocs.io/en/latest/advanced-usage.html#ssl-warnings\n",
      "  InsecureRequestWarning)\n"
     ]
    },
    {
     "name": "stdout",
     "output_type": "stream",
     "text": [
      "噓 \n",
      "noodlesnice\n",
      "都不都不\n",
      "05/02 14:27\n",
      "done!\n",
      "---這是第4筆資料\n"
     ]
    },
    {
     "name": "stderr",
     "output_type": "stream",
     "text": [
      "/home/sopper/anaconda3/lib/python3.6/site-packages/urllib3/connectionpool.py:858: InsecureRequestWarning: Unverified HTTPS request is being made. Adding certificate verification is strongly advised. See: https://urllib3.readthedocs.io/en/latest/advanced-usage.html#ssl-warnings\n",
      "  InsecureRequestWarning)\n"
     ]
    },
    {
     "name": "stdout",
     "output_type": "stream",
     "text": [
      "→ \n",
      "scores\n",
      "我願意去中國摸奶\n",
      "5/02 14:25\n",
      "done!\n",
      "---這是第5筆資料\n"
     ]
    },
    {
     "name": "stderr",
     "output_type": "stream",
     "text": [
      "/home/sopper/anaconda3/lib/python3.6/site-packages/urllib3/connectionpool.py:858: InsecureRequestWarning: Unverified HTTPS request is being made. Adding certificate verification is strongly advised. See: https://urllib3.readthedocs.io/en/latest/advanced-usage.html#ssl-warnings\n",
      "  InsecureRequestWarning)\n"
     ]
    },
    {
     "name": "stdout",
     "output_type": "stream",
     "text": [
      "→ \n",
      "rriver\n",
      "5f都跟男生親親\n",
      "5/02 14:24\n",
      "done!\n",
      "---這是第6筆資料\n"
     ]
    },
    {
     "name": "stderr",
     "output_type": "stream",
     "text": [
      "/home/sopper/anaconda3/lib/python3.6/site-packages/urllib3/connectionpool.py:858: InsecureRequestWarning: Unverified HTTPS request is being made. Adding certificate verification is strongly advised. See: https://urllib3.readthedocs.io/en/latest/advanced-usage.html#ssl-warnings\n",
      "  InsecureRequestWarning)\n"
     ]
    },
    {
     "name": "stdout",
     "output_type": "stream",
     "text": [
      "推 \n",
      "RRADA\n",
      "如果是神父與小男童  任誰都知道接下來會發生什麼事\n",
      "05/02 14:25\n",
      "done!\n",
      "---這是第7筆資料\n"
     ]
    },
    {
     "name": "stderr",
     "output_type": "stream",
     "text": [
      "/home/sopper/anaconda3/lib/python3.6/site-packages/urllib3/connectionpool.py:858: InsecureRequestWarning: Unverified HTTPS request is being made. Adding certificate verification is strongly advised. See: https://urllib3.readthedocs.io/en/latest/advanced-usage.html#ssl-warnings\n",
      "  InsecureRequestWarning)\n"
     ]
    },
    {
     "name": "stdout",
     "output_type": "stream",
     "text": [
      "推 \n",
      "hosen\n",
      "這些黨工一直在偷換概念，他們不是要講理而是在顛倒是非\n",
      "05/02 14:27\n",
      "done!\n",
      "---這是第8筆資料\n"
     ]
    },
    {
     "name": "stderr",
     "output_type": "stream",
     "text": [
      "/home/sopper/anaconda3/lib/python3.6/site-packages/urllib3/connectionpool.py:858: InsecureRequestWarning: Unverified HTTPS request is being made. Adding certificate verification is strongly advised. See: https://urllib3.readthedocs.io/en/latest/advanced-usage.html#ssl-warnings\n",
      "  InsecureRequestWarning)\n"
     ]
    },
    {
     "name": "stdout",
     "output_type": "stream",
     "text": [
      "→ \n",
      "NinJa\n",
      "吱吱會以為你在反串\n",
      "05/02 14:26\n",
      "done!\n",
      "---這是第9筆資料\n"
     ]
    },
    {
     "name": "stderr",
     "output_type": "stream",
     "text": [
      "/home/sopper/anaconda3/lib/python3.6/site-packages/urllib3/connectionpool.py:858: InsecureRequestWarning: Unverified HTTPS request is being made. Adding certificate verification is strongly advised. See: https://urllib3.readthedocs.io/en/latest/advanced-usage.html#ssl-warnings\n",
      "  InsecureRequestWarning)\n"
     ]
    },
    {
     "name": "stdout",
     "output_type": "stream",
     "text": [
      "→ \n",
      "m21423\n",
      "還以為是雞肉  原來是蛋白質補品\n",
      "05/02 14:33\n",
      "done!\n",
      "---這是第10筆資料\n"
     ]
    },
    {
     "name": "stderr",
     "output_type": "stream",
     "text": [
      "/home/sopper/anaconda3/lib/python3.6/site-packages/urllib3/connectionpool.py:858: InsecureRequestWarning: Unverified HTTPS request is being made. Adding certificate verification is strongly advised. See: https://urllib3.readthedocs.io/en/latest/advanced-usage.html#ssl-warnings\n",
      "  InsecureRequestWarning)\n"
     ]
    },
    {
     "name": "stdout",
     "output_type": "stream",
     "text": [
      "推 \n",
      "show282\n",
      "不能這樣講，沒北伐，益州早把劉禪趕下台\n",
      "05/02 14:29\n",
      "done!\n",
      "---這是第11筆資料\n"
     ]
    },
    {
     "name": "stderr",
     "output_type": "stream",
     "text": [
      "/home/sopper/anaconda3/lib/python3.6/site-packages/urllib3/connectionpool.py:858: InsecureRequestWarning: Unverified HTTPS request is being made. Adding certificate verification is strongly advised. See: https://urllib3.readthedocs.io/en/latest/advanced-usage.html#ssl-warnings\n",
      "  InsecureRequestWarning)\n"
     ]
    },
    {
     "name": "stdout",
     "output_type": "stream",
     "text": [
      "→ \n",
      "litcurler\n",
      "是\"上上世代\"吧?\n",
      "05/02 14:28\n",
      "done!\n",
      "---這是第12筆資料\n"
     ]
    },
    {
     "name": "stderr",
     "output_type": "stream",
     "text": [
      "/home/sopper/anaconda3/lib/python3.6/site-packages/urllib3/connectionpool.py:858: InsecureRequestWarning: Unverified HTTPS request is being made. Adding certificate verification is strongly advised. See: https://urllib3.readthedocs.io/en/latest/advanced-usage.html#ssl-warnings\n",
      "  InsecureRequestWarning)\n"
     ]
    },
    {
     "name": "stdout",
     "output_type": "stream",
     "text": [
      "推 \n",
      "leoqqqoel\n",
      "我晚上問她\n",
      "05/02 14:27\n",
      "done!\n",
      "---這是第13筆資料\n"
     ]
    },
    {
     "name": "stderr",
     "output_type": "stream",
     "text": [
      "/home/sopper/anaconda3/lib/python3.6/site-packages/urllib3/connectionpool.py:858: InsecureRequestWarning: Unverified HTTPS request is being made. Adding certificate verification is strongly advised. See: https://urllib3.readthedocs.io/en/latest/advanced-usage.html#ssl-warnings\n",
      "  InsecureRequestWarning)\n"
     ]
    },
    {
     "name": "stdout",
     "output_type": "stream",
     "text": [
      "推 \n",
      "randy101021\n",
      "五樓ㄘ什麼\n",
      "05/02 14:28\n",
      "done!\n",
      "---這是第14筆資料\n"
     ]
    },
    {
     "name": "stderr",
     "output_type": "stream",
     "text": [
      "/home/sopper/anaconda3/lib/python3.6/site-packages/urllib3/connectionpool.py:858: InsecureRequestWarning: Unverified HTTPS request is being made. Adding certificate verification is strongly advised. See: https://urllib3.readthedocs.io/en/latest/advanced-usage.html#ssl-warnings\n",
      "  InsecureRequestWarning)\n"
     ]
    },
    {
     "name": "stdout",
     "output_type": "stream",
     "text": [
      "→ \n",
      "bourne5566\n",
      "都在開朝會 升降旗 早自習浪費時間\n",
      "05/02 14:30\n",
      "done!\n",
      "---這是第15筆資料\n"
     ]
    },
    {
     "name": "stderr",
     "output_type": "stream",
     "text": [
      "/home/sopper/anaconda3/lib/python3.6/site-packages/urllib3/connectionpool.py:858: InsecureRequestWarning: Unverified HTTPS request is being made. Adding certificate verification is strongly advised. See: https://urllib3.readthedocs.io/en/latest/advanced-usage.html#ssl-warnings\n",
      "  InsecureRequestWarning)\n"
     ]
    },
    {
     "name": "stdout",
     "output_type": "stream",
     "text": [
      "推 \n",
      "randy101021\n",
      "Tokyo Hot\n",
      "05/02 14:28\n",
      "done!\n",
      "---這是第16筆資料\n"
     ]
    },
    {
     "name": "stderr",
     "output_type": "stream",
     "text": [
      "/home/sopper/anaconda3/lib/python3.6/site-packages/urllib3/connectionpool.py:858: InsecureRequestWarning: Unverified HTTPS request is being made. Adding certificate verification is strongly advised. See: https://urllib3.readthedocs.io/en/latest/advanced-usage.html#ssl-warnings\n",
      "  InsecureRequestWarning)\n"
     ]
    },
    {
     "name": "stdout",
     "output_type": "stream",
     "text": [
      "→ \n",
      "rex520368\n",
      "是要問幾遍 五樓大葉\n",
      "05/02 14:29\n",
      "done!\n",
      "---這是第17筆資料\n"
     ]
    },
    {
     "name": "stderr",
     "output_type": "stream",
     "text": [
      "/home/sopper/anaconda3/lib/python3.6/site-packages/urllib3/connectionpool.py:858: InsecureRequestWarning: Unverified HTTPS request is being made. Adding certificate verification is strongly advised. See: https://urllib3.readthedocs.io/en/latest/advanced-usage.html#ssl-warnings\n",
      "  InsecureRequestWarning)\n"
     ]
    },
    {
     "name": "stdout",
     "output_type": "stream",
     "text": [
      "→ \n",
      "WizZ\n",
      "好 黨校我信你\n",
      "05/02 14:29\n",
      "done!\n",
      "---這是第18筆資料\n"
     ]
    },
    {
     "name": "stderr",
     "output_type": "stream",
     "text": [
      "/home/sopper/anaconda3/lib/python3.6/site-packages/urllib3/connectionpool.py:858: InsecureRequestWarning: Unverified HTTPS request is being made. Adding certificate verification is strongly advised. See: https://urllib3.readthedocs.io/en/latest/advanced-usage.html#ssl-warnings\n",
      "  InsecureRequestWarning)\n"
     ]
    },
    {
     "name": "stdout",
     "output_type": "stream",
     "text": [
      "→ \n",
      "MrXD\n",
      "當年頭頂還茂盛\n",
      "05/02 14:30\n",
      "done!\n"
     ]
    }
   ],
   "source": [
    "index = 0\n",
    "for entry in soup.select('.r-ent')[:-5]:\n",
    "    index = index + 1\n",
    "    print(\"---這是第{0}筆資料\".format(index))\n",
    "    # 以tempdict暫存資料，再加入pttArticledict\n",
    "    tempdict = {}\n",
    "    # path\n",
    "    try:\n",
    "        path = pttpath + entry.select('a')[0]['href']\n",
    "        # author\n",
    "        author = entry.select('.author')[0].text\n",
    "        # title\n",
    "        title = entry.select('.title')[0].text[1:-1]\n",
    "\n",
    "        tempdict['a_連結'] = path\n",
    "        tempdict['b_作者'] = author\n",
    "        tempdict['c_標題'] = title\n",
    "# ----------------- 未完成區 -------------------\n",
    "        # 進入文章頁面\n",
    "        res1 = req.get(path, verify=False)\n",
    "        soup1 = BeautifulSoup(res1.text, \"lxml\")\n",
    "        # ip\n",
    "        ip =  soup1.find_all(text=re.compile('發信站: 批踢踢實業坊'))[0].split(':')[-1][1:-1]\n",
    "        # date\n",
    "        date = soup1.select('#main-container #main-content div.article-metaline .article-meta-value')[2].text\n",
    "        # content\n",
    "        content = soup1.find(id=\"main-content\").text.split('※ 發信站: 批踢踢實業坊(ptt.cc)')\n",
    "        content = content[0].split(date)[1].replace('\\n',' ')\n",
    "        # push state\n",
    "        push_state = soup1.select('.push span')[0].text\n",
    "        push_messenger = soup1.select('.push span')[1].text\n",
    "        push_content = soup1.select('.push span')[2].text[2:]\n",
    "        push_time = soup1.select('.push span')[3].text[1:-1]\n",
    "        print(push_state)\n",
    "        print(push_messenger)\n",
    "        print(push_content)\n",
    "        print(push_time)\n",
    "#         print(entry.select('span')[1].text)\n",
    "#         print(entry.select('span')[2].text[2:])\n",
    "#         print(entry.select('span')[3].text[1:-1])\n",
    "        \n",
    "        \n",
    "        \n",
    "        tempdict['d_日期'] = date\n",
    "        tempdict['e_ip'] = ip\n",
    "        print('done!')\n",
    "# --------------------------------------------\n",
    "    \n",
    "\n",
    "    except:\n",
    "        path = 'deleted_article'\n",
    "        \n",
    "pttArticledict[path] = tempdict\n",
    "\n",
    "\n",
    "# # h_推文總數\n",
    "# for entry in soup.select('.push'):\n",
    "#     print(entry)\n",
    "#     print('--------')\n",
    "    \n",
    "# for entry in soup.select('.push'):\n",
    "#     print(entry.select('span')[0].text)\n",
    "#     print(entry.select('span')[1].text)\n",
    "#     print(entry.select('span')[2].text[2:])\n",
    "#     print(entry.select('span')[3].text[1:-1])\n",
    "#     print('--------')"
   ]
  }
 ],
 "metadata": {
  "kernelspec": {
   "display_name": "Python 3",
   "language": "python",
   "name": "python3"
  },
  "language_info": {
   "codemirror_mode": {
    "name": "ipython",
    "version": 3
   },
   "file_extension": ".py",
   "mimetype": "text/x-python",
   "name": "python",
   "nbconvert_exporter": "python",
   "pygments_lexer": "ipython3",
   "version": "3.6.4"
  }
 },
 "nbformat": 4,
 "nbformat_minor": 2
}
