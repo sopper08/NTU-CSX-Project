{
 "cells": [
  {
   "cell_type": "code",
   "execution_count": 51,
   "metadata": {},
   "outputs": [],
   "source": [
    "data = \"<OPTGROUP LABEL='NVIDIA GTX1070 (無類比輸出)'><OPTION disabled value=133>&#x2764; 買華碩ROG XG STATION 2任搭華碩GTX1070以上顯示卡，現場拉走29吋 ROG旅行箱<OPTION disabled value=134>&#x2764; 4/27~5/31買華碩GTX1070/1070Ti顯卡,回函至service@ms1.coolpc.com.tw送Mycard 300點<OPTION  value=135>華碩 GTX1070-8G 創始版(1683MHz/26.7cm/註四年) 數量有限，售完為止, $13990 ◆ ★<OPTION  value=136>華碩 TURBO-GTX1070-8G(1683MHz/26.7cm/註四年), $16990 ◆ ★ ↓任搭790↓<OPTION  value=137 class=b>華碩 DUAL-GTX1070-O8G雪原豹(1771MHz/24cm/註四年), $17490↘$15490 ◆ ★ 熱賣 ↓任搭690↓<OPTION  value=138 class=r>華碩 ROG STRIX-GTX1070-O8G-GAMING(1835MHz/29.8cm/五年), $16890 ◆ ★ 熱賣 ↓任搭790↓<OPTION disabled value=139>&#x2764; 4/20~5/31買微星GTX1070(以上)任一款顯卡，官網登錄即送STEAM遊戲錢包代碼20美金<OPTION  value=140 class=b>微星 GTX1070 ARMOR 8G OC電競虎(1746MHz/28cm/註四年), $16500↘$14500 ◆ ★ 熱賣 ↓任搭750↓<OPTION disabled value=141>&#x2764; 5/20~6/30買技嘉GTX1070 / 1070Ti / 1080 / 1080Ti顯示卡，登錄成功送STEAM 20美金序號乙組<OPTION  value=142 class=g>技嘉 GTX1070 Mini ITX OC 8G mini版(1721MHz/16.9cm/註四年), $16390↘$14890 ◆ ★ ↓任搭740↓<OPTION  value=143 class=g>技嘉 GTX1070 WINDFORCE OC 8G威風版(1746MHz/28cm/註四年), $16990↘$15390 ◆ ★ ↓任搭740↓<OPTION  value=144 class=b>技嘉 GTX1070 G1 Gaming 8G電競版(1784MHz/28.6cm/註五年), $17390↘$15890 ◆ ★ 熱賣 ↓任搭790↓<OPTION  value=145>技嘉 AORUS GTX1070 8G鷹神版(1797MHz/28.9cm/R2.0黑/註五年), $16290 ◆ ★ ↓任搭790↓<OPTION  value=146>EVGA GTX1070 SC ACX3.0 Black Edition(1784MHz/26.7cm/5173/註五年)送Power Link理線器, $15990 ◆ ★<OPTION  value=147>EVGA GTX1070 SC BP GAMING ACX3.0(1784MHz/26.7cm/6173/註五年)送Power Link理線器, $16490 ◆ ★<OPTION  value=148>EVGA GTX1070 FTW GAMING ACX 3.0(1797MHz/26.7cm/6276/註五年)送Power Link理線器, $16990 ◆ ★<OPTION  value=149>INNO3D GTX1070 8GB GDDR5 X2-雙風扇(1683MHz/26.6cm/三年保.365天換新), $14990 ◆ ★ ↓任搭740↓<OPTION  value=150>INNO3D iChill GTX1070 8GB GDDR5 X4-四風扇(1822MHz/30.2cm/四年保.365天換新), $15990 ◆ ★ ↓任搭790↓<OPTION  value=151>ZOTAC GTX1070 Mini 8G(1708MHz/雙風扇/21cm/註四年) 來函送Mycard 1000 5/31止, $15290 ◆ ★</OPTION><OPTGROUP LABEL='NVIDIA GTX1070Ti (無類比輸出)'><OPTION disabled value=153>&#x2764; 買華碩ROG XG STATION 2任搭華碩GTX1070以上顯示卡，現場拉走29吋 ROG旅行箱<OPTION disabled value=154>&#x2764; 4/27~5/31買華碩GTX1070/1070Ti顯卡,回函至service@ms1.coolpc.com.tw送Mycard 300點<OPTION  value=155 class=g>華碩 TURBO-GTX1070TI-8G(1683MHz/26.7cm/註四年), $17990↘$16990 ◆ ★ ↓任搭790↓<OPTION  value=156 class=b>華碩 CERBERUS-GTX1070TI-A8G地獄犬(1683MHz/27cm/註四年), $17990↘$16890 ◆ ★ 熱賣 ↓任搭790↓<OPTION  value=157 class=r>華碩 ROG STRIX-GTX1070TI-A8G-GAMING(1683MHz/29.8cm/註五年), $17890 ◆ ★ 熱賣 ↓任搭890↓<OPTION disabled value=158>&#x2764; 4/20~5/31買微星GTX1070(以上)任一款顯卡，官網登錄即送STEAM遊戲錢包代碼20美金<OPTION  value=159 class=b>微星 GTX1070Ti ARMOR 8G電競虎(1683MHz/28cm/註四年), $17900↘$16500 ◆ ★ 熱賣 ↓任搭850↓<OPTION  value=160 class=g>微星 GTX1070Ti GAMING 8G(1683MHz/28cm/註四年), $18500↘$17800 ◆ ★ ↓任搭900↓<OPTION disabled value=161>&#x2764; 5/20~6/30買技嘉GTX1070 / 1070Ti / 1080 / 1080Ti顯示卡，登錄成功送STEAM 20美金序號乙組<OPTION  value=162 class=g>技嘉 GTX1070Ti WINDFORCE 8G威風版(1683MHz/28cm/註四年), $17990↘$16690 ◆ ★ ↓任搭790↓<OPTION  value=163 class=b>技嘉 GTX1070Ti GAMING 8G電競版(1683MHz/28cm/註四年), $18390↘$17190 ◆ ★ 熱賣 ↓任搭840↓<OPTION  value=164 class=g>技嘉 AORUS GTX1070Ti 8G(1683MHz/28cm/註五年), $18990↘$17190 ◆ ★ ↓任搭840↓<OPTION  value=165 class=g>EVGA GTX1070Ti SC ACX3.0 Black Edition(1683MHz/26.7cm/5671/註五年.一年換新)▼下殺到 5/31 23:59, $17690↘$15990 ◆ ★<OPTION  value=166>EVGA GTX1070Ti FTW Ultra GAMING ACX3.0(1683MHz/26.7cm/6678)送Power Link理線器, $17690 ◆ ★<OPTION  value=167>EVGA GTX1070Ti FTW2 GAMING iCX(1683MHz/26.7cm/6775/註五年)送Power Link理線器, $18990 ◆ ★<OPTION  value=168>影馳 GALAX GTX1070Ti EX 8G(1683MHz/29.6cm/三年保.365天換新), $16590 ◆ ★<OPTION  value=169>影馳 GALAX GTX1070Ti EX-SNPR WHITE 8G(1683MHz/30cm/三年保.365天換新), $17390 ◆ ★<OPTION  value=170 class=g>INNO3D GTX1070Ti 8GB GDDR5(1683MHz/X2雙風扇/26.6cm/三年保.365天換新), $16990↘$16900 ◆ ★ ↓任搭800↓<OPTION  value=171>INNO3D iChill GTX1070Ti 8GB GDDR5 X3-三風扇(1683MHz/30.2cm/四年保.365天換新), $17990 ◆ ★ ↓任搭890↓<OPTION  value=172>INNO3D iChill GTX1070Ti 8GB GDDR5 X4-四風扇(1683MHz/30.2cm/四年保.365天換新), $18990 ◆ ★ ↓任搭990↓<OPTION  value=173>ZOTAC GTX1070Ti Mini 8G(1683MHz/雙風扇/21.1cm/註四年)來函送Mycard 1000 5/31止, $16690 ◆ ★<OPTION  value=174>ZOTAC GTX1070Ti AMP Extreme 8G(1683MHz/三風扇/32.5cm/註四年)來函送Mycard 1000 5/31止, $17690 ◆ ★</OPTION><OPTGROUP LABEL='NVIDIA GTX1080 (無類比輸出)'><OPTION disabled value=176>&#x2764; 買華碩ROG XG STATION 2任搭華碩GTX1070以上顯示卡，現場拉走29吋 ROG旅行箱<OPTION disabled value=177>&#x2764; 4/27~5/31買華碩GTX1080/1080Ti顯卡,回函至service@ms1.coolpc.com.tw送Mycard 500點<OPTION  value=178>華碩 TURBO-GTX1080-8G(1733MHz/26.7cm/註四年), $20990 ◆ ★ ↓任搭990↓<OPTION  value=179 class=r>華碩 ROG STRIX-GTX1080-A8G-GAMING(1809MHz/29.8cm/註五年), $20990 ◆ ★ 熱賣 ↓任搭990↓<OPTION disabled value=180>&#x2764; 4/20~5/31買微星GTX1070(以上)任一款顯卡，官網登錄即送STEAM遊戲錢包代碼20美金<OPTION  value=181 class=r>微星 GTX1080 GAMING 8G(1759MHz/28cm/註四年)5/11~5/31現送價值1390 MSI GH10耳機, $19700 ◆ ★ 熱賣 ↓任搭900↓<OPTION  value=182 class=r>微星 GTX1080 GAMING X 8G(1822MHz/28cm/註四年)5/11~5/31現送價值1390 MSI GH10耳機, $19900 ◆ ★ 熱賣 ↓任搭900↓<OPTION disabled value=183>&#x2764; 5/20~6/30買技嘉GTX1070 / 1070Ti / 1080 / 1080Ti顯示卡，登錄成功送STEAM 20美金序號乙組<OPTION  value=184 class=g>技嘉 GTX1080 WINDFORCE OC 8G威風版(1771MHz/三風/28cm/註四年), $20490↘$19990 ◆ ★ ↓任搭990↓<OPTION  value=185>技嘉 GTX1080 G1 Gaming 8G電競版(1835MHz/28.6cm/註五年), $20990 ◆ ★ ↓任搭990↓<OPTION  value=186>EVGA GTX1080 SC GAMING ACX 3.0(1847MHz/26.7cm/6183/註五年)送Power Link理線器, $19990 ◆ ★<OPTION  value=187>EVGA GTX1080 FTW GAMING ACX3.0(1860MHz/26.7cm/6286/註五年)送Power Link理線器, $20490 ◆ ★<OPTION  value=188>影馳 GALAX GTX1080 EXOC-SNPR White 8GB(1797MHz/29.6cm/三年保.365天換), $17490 ◆ ★<OPTION  value=189>INNO3D iChill GTX1080 8GB GDDR5X X4-四風扇(1898MHz/30.2cm/四年保.365天換新), $19990 ◆ ★ ↓任搭990↓</OPTION><OPTGROUP LABEL='NVIDIA GTX1080Ti (無類比輸出)'><OPTION disabled value=191>&#x2764; 買華碩ROG XG STATION 2任搭華碩GTX1070以上顯示卡，現場拉走29吋 ROG旅行箱<OPTION disabled value=192>&#x2764; 4/27~5/31買華碩GTX1080/1080Ti顯卡,回函至service@ms1.coolpc.com.tw送Mycard 500點<OPTION  value=193>華碩 TURBO-GTX1080TI-11G(1582MHz/26.7cm/註四年), $27990 ◆ ★ ↓任搭1390↓<OPTION  value=194>華碩 ROG STRIX-GTX1080TI-O11G-GAMING(1683MHz/29.8cm/註五年), $30990 ◆ ★ ↓任搭1490↓<OPTION  value=195>華碩 ROG POSEIDON-GTX1080TI-P11G-GAMING(1708MHz/29.8cm/註五年), $31990 ◆ ★ ↓任搭1590↓<OPTION disabled value=196>&#x2764; 4/20~5/31買微星GTX1070(以上)任一款顯卡，官網登錄即送STEAM遊戲錢包代碼20美金<OPTION  value=197>微星 GTX1080Ti GAMING 11G(1607MHz/29cm/註四年), $28600 ◆ ★ ↓任搭1400↓<OPTION  value=198>微星 GTX1080Ti GAMING X 11G(1657MHz/29cm/註四年), $28900 ◆ ★ ↓任搭1400↓<OPTION  value=199>微星 GTX1080Ti GAMING TRIO 11G(1607MHz/32.5cm/註四年), $29600 ◆ ★ ↓任搭1400↓<OPTION  value=200>微星 GTX1080Ti GAMING X TRIO 11G(1657MHz/32.5cm/註四年), $29900 ◆ ★ ↓任搭1500↓<OPTION disabled value=201>&#x2764; 5/20~6/30買技嘉GTX1070 / 1070Ti / 1080 / 1080Ti顯示卡，登錄成功送STEAM 20美金序號乙組<OPTION  value=202 class=g>技嘉 GTX1080Ti GAMING OC 11G電競版(1632MHz/28cm/註四年), $30490↘$29490 ◆ ★ ↓任搭1490↓<OPTION  value=203 class=b>技嘉 AORUS GTX1080Ti 11G鷹神版(11GD)(1683MHz/29.3cm/註五年), $31990↘$30990 ◆ ★ 熱賣 ↓任搭1490↓<OPTION  value=204 class=g>技嘉 AORUS GTX1080Ti X.E.11G卡皇版(X-11GD)(1721MHz/29.3cm/註五年), $32990↘$31990 ◆ ★ ↓任搭1590↓<OPTION  value=205>技嘉 AORUS GTX1080Ti Waterforce X.E.11G 一體式水冷(1721MHz/26.7cm/註五年), $34490 ◆ ★ ↓任搭1690↓<OPTION  value=206>技嘉 AORUS GTX1080Ti Waterforce WB X.E.11G 開放式水冷(1721MHz/26.7cm/註五年), $33490 ◆ ★ ↓任搭1690↓<OPTION disabled value=207>&#x2764; 5/11~6/10買 EVGA GTX1080Ti 指定顯示卡，官網登錄送 EVGA 600W 銅牌 電源供應器<OPTION  value=208>EVGA GTX1080Ti FTW3 BP iCX 11G(1683MHz/RGB/27cm/6696/註五年.一年換新), $29900 ◆ ★<OPTION  value=209>ZOTAC GTX1080Ti AMP Edition 11G(1683MHz/雙風扇/30cm/註四年)送Mycard 1000 5/31止, $28890 ◆ ★<OPTION  value=210>ZOTAC GTX1080Ti AMP Extreme Core Edition 11G(1721MHz/32.5cm)送Mycard 1000 5/31止, $29890 ◆ ★<OPTION  value=211>ZOTAC GTX1080Ti AMP Extreme 11G(1759MHz/三風扇/32.5cm/註四年)送Mycard 1000 5/31止, $31890 ◆ ★</OPTION>\""
   ]
  },
  {
   "cell_type": "code",
   "execution_count": 53,
   "metadata": {
    "scrolled": false
   },
   "outputs": [],
   "source": [
    "from bs4 import BeautifulSoup \n",
    "import csv\n",
    "list0 = []\n",
    "list1 = []\n",
    "soup = BeautifulSoup(data, \"lxml\")\n",
    "for i in range(0,4):\n",
    "    for j in soup.select(\"optgroup\")[i].select(\"option\"):\n",
    "        list0.append(j.text.split(\",\")[0])\n",
    "        list1.append(j.text.split(\",\")[-1][0:14])\n",
    "dict0 = {\n",
    "    \"name\" : list0,\n",
    "    \"price\" : list1\n",
    "}\n",
    "import pandas as pd\n",
    "df = pd.DataFrame(dict0)\n",
    "df.head()\n",
    "\n",
    "df.to_csv('GPU.csv')"
   ]
  }
 ],
 "metadata": {
  "kernelspec": {
   "display_name": "Python 3",
   "language": "python",
   "name": "python3"
  },
  "language_info": {
   "codemirror_mode": {
    "name": "ipython",
    "version": 3
   },
   "file_extension": ".py",
   "mimetype": "text/x-python",
   "name": "python",
   "nbconvert_exporter": "python",
   "pygments_lexer": "ipython3",
   "version": "3.6.4"
  }
 },
 "nbformat": 4,
 "nbformat_minor": 2
}
