{
 "cells": [
  {
   "cell_type": "markdown",
   "metadata": {},
   "source": [
    "# shoppingBehaviorByMemberId  \n",
    "1. 僅取 MemberId.csv 中需要的部份"
   ]
  },
  {
   "cell_type": "code",
   "execution_count": 1,
   "metadata": {},
   "outputs": [
    {
     "name": "stdout",
     "output_type": "stream",
     "text": [
      "Once deleted, variables cannot be recovered. Proceed (y/[n])? y\n"
     ]
    }
   ],
   "source": [
    "reset"
   ]
  },
  {
   "cell_type": "markdown",
   "metadata": {},
   "source": [
    "## MemberId.csv 之處理"
   ]
  },
  {
   "cell_type": "code",
   "execution_count": 2,
   "metadata": {
    "scrolled": true
   },
   "outputs": [
    {
     "name": "stderr",
     "output_type": "stream",
     "text": [
      "/home/sopper/anaconda3/lib/python3.6/site-packages/IPython/core/interactiveshell.py:2728: DtypeWarning: Columns (8) have mixed types. Specify dtype option on import or set low_memory=False.\n",
      "  interactivity=interactivity, compiler=compiler, result=result)\n"
     ]
    },
    {
     "data": {
      "text/html": [
       "<div>\n",
       "<style scoped>\n",
       "    .dataframe tbody tr th:only-of-type {\n",
       "        vertical-align: middle;\n",
       "    }\n",
       "\n",
       "    .dataframe tbody tr th {\n",
       "        vertical-align: top;\n",
       "    }\n",
       "\n",
       "    .dataframe thead th {\n",
       "        text-align: right;\n",
       "    }\n",
       "</style>\n",
       "<table border=\"1\" class=\"dataframe\">\n",
       "  <thead>\n",
       "    <tr style=\"text-align: right;\">\n",
       "      <th></th>\n",
       "      <th>MemberId</th>\n",
       "      <th>Birthday</th>\n",
       "      <th>GenderTypeDef</th>\n",
       "      <th>RegisterSourceTypeDef</th>\n",
       "      <th>RegisterDateTime</th>\n",
       "      <th>MinOrderDate</th>\n",
       "      <th>OpenCardPresent</th>\n",
       "      <th>LastBirthdayPresentYear</th>\n",
       "      <th>IsInBlackList</th>\n",
       "    </tr>\n",
       "  </thead>\n",
       "  <tbody>\n",
       "    <tr>\n",
       "      <th>0</th>\n",
       "      <td>1587633</td>\n",
       "      <td>NaN</td>\n",
       "      <td>NaN</td>\n",
       "      <td>Web</td>\n",
       "      <td>2016-08-05 19:45:59.670</td>\n",
       "      <td>NaN</td>\n",
       "      <td>0</td>\n",
       "      <td>0</td>\n",
       "      <td>NaN</td>\n",
       "    </tr>\n",
       "    <tr>\n",
       "      <th>1</th>\n",
       "      <td>1587634</td>\n",
       "      <td>NaN</td>\n",
       "      <td>NaN</td>\n",
       "      <td>Web</td>\n",
       "      <td>2016-10-27 21:25:22.907</td>\n",
       "      <td>NaN</td>\n",
       "      <td>0</td>\n",
       "      <td>0</td>\n",
       "      <td>NaN</td>\n",
       "    </tr>\n",
       "    <tr>\n",
       "      <th>2</th>\n",
       "      <td>1587658</td>\n",
       "      <td>NaN</td>\n",
       "      <td>NaN</td>\n",
       "      <td>Web</td>\n",
       "      <td>2015-08-11 19:11:09.030</td>\n",
       "      <td>NaN</td>\n",
       "      <td>0</td>\n",
       "      <td>0</td>\n",
       "      <td>NaN</td>\n",
       "    </tr>\n",
       "    <tr>\n",
       "      <th>3</th>\n",
       "      <td>1587809</td>\n",
       "      <td>NaN</td>\n",
       "      <td>NaN</td>\n",
       "      <td>Web</td>\n",
       "      <td>2015-08-11 19:53:32.397</td>\n",
       "      <td>NaN</td>\n",
       "      <td>0</td>\n",
       "      <td>0</td>\n",
       "      <td>NaN</td>\n",
       "    </tr>\n",
       "    <tr>\n",
       "      <th>4</th>\n",
       "      <td>1587830</td>\n",
       "      <td>NaN</td>\n",
       "      <td>NaN</td>\n",
       "      <td>Web</td>\n",
       "      <td>2017-06-03 17:33:03.987</td>\n",
       "      <td>NaN</td>\n",
       "      <td>0</td>\n",
       "      <td>0</td>\n",
       "      <td>NaN</td>\n",
       "    </tr>\n",
       "  </tbody>\n",
       "</table>\n",
       "</div>"
      ],
      "text/plain": [
       "   MemberId Birthday GenderTypeDef RegisterSourceTypeDef  \\\n",
       "0   1587633      NaN           NaN                   Web   \n",
       "1   1587634      NaN           NaN                   Web   \n",
       "2   1587658      NaN           NaN                   Web   \n",
       "3   1587809      NaN           NaN                   Web   \n",
       "4   1587830      NaN           NaN                   Web   \n",
       "\n",
       "          RegisterDateTime MinOrderDate  OpenCardPresent  \\\n",
       "0  2016-08-05 19:45:59.670          NaN                0   \n",
       "1  2016-10-27 21:25:22.907          NaN                0   \n",
       "2  2015-08-11 19:11:09.030          NaN                0   \n",
       "3  2015-08-11 19:53:32.397          NaN                0   \n",
       "4  2017-06-03 17:33:03.987          NaN                0   \n",
       "\n",
       "   LastBirthdayPresentYear IsInBlackList  \n",
       "0                        0           NaN  \n",
       "1                        0           NaN  \n",
       "2                        0           NaN  \n",
       "3                        0           NaN  \n",
       "4                        0           NaN  "
      ]
     },
     "execution_count": 2,
     "metadata": {},
     "output_type": "execute_result"
    }
   ],
   "source": [
    "import pandas as pd\n",
    "df_memId = pd.read_csv('data/newData/Member.csv')\n",
    "df_memId.head()"
   ]
  },
  {
   "cell_type": "markdown",
   "metadata": {},
   "source": [
    "### 資料清理  \n",
    "1. IsInBlackList: NAN -> 0"
   ]
  },
  {
   "cell_type": "code",
   "execution_count": 3,
   "metadata": {},
   "outputs": [
    {
     "data": {
      "text/plain": [
       "0    0\n",
       "1    0\n",
       "2    0\n",
       "3    0\n",
       "4    0\n",
       "Name: IsInBlackList, dtype: object"
      ]
     },
     "execution_count": 3,
     "metadata": {},
     "output_type": "execute_result"
    }
   ],
   "source": [
    "s_IsInBlackList = df_memId['IsInBlackList'].copy().fillna(0)\n",
    "s_IsInBlackList.head()"
   ]
  },
  {
   "cell_type": "markdown",
   "metadata": {},
   "source": [
    "### 缺漏值計算"
   ]
  },
  {
   "cell_type": "code",
   "execution_count": 4,
   "metadata": {},
   "outputs": [
    {
     "name": "stdout",
     "output_type": "stream",
     "text": [
      "資料總量： 859146\n",
      "-----------------\n",
      "MemberId :\n",
      "  缺失資料量：0\n",
      "  資料缺失比率：0.00%\n",
      "-------\n",
      "Birthday :\n",
      "  缺失資料量：621871\n",
      "  資料缺失比率：72.38%\n",
      "-------\n",
      "GenderTypeDef :\n",
      "  缺失資料量：621870\n",
      "  資料缺失比率：72.38%\n",
      "-------\n",
      "RegisterSourceTypeDef :\n",
      "  缺失資料量：30003\n",
      "  資料缺失比率：3.49%\n",
      "-------\n",
      "RegisterDateTime :\n",
      "  缺失資料量：0\n",
      "  資料缺失比率：0.00%\n",
      "-------\n",
      "MinOrderDate :\n",
      "  缺失資料量：296846\n",
      "  資料缺失比率：34.55%\n",
      "-------\n",
      "OpenCardPresent :\n",
      "  缺失資料量：0\n",
      "  資料缺失比率：0.00%\n",
      "-------\n",
      "LastBirthdayPresentYear :\n",
      "  缺失資料量：0\n",
      "  資料缺失比率：0.00%\n",
      "-------\n",
      "IsInBlackList :\n",
      "  缺失資料量：858142\n",
      "  資料缺失比率：99.88%\n",
      "-------\n"
     ]
    }
   ],
   "source": [
    "sumOfData = len(df_memId)\n",
    "print('資料總量：', sumOfData)\n",
    "print('-----------------')\n",
    "s = df_memId.isnull().sum()\n",
    "for i in range(len(s)):\n",
    "    print(s.index[i], ':')\n",
    "    print('  缺失資料量：{0}'.format(s[i]))\n",
    "    print('  資料缺失比率：{0:.2f}%'.format(s[i]/sumOfData*100))\n",
    "    print('-------')"
   ]
  },
  {
   "cell_type": "markdown",
   "metadata": {},
   "source": [
    "### 欄位選取\n",
    "1. MemberId\n",
    "2. RegisterSourceTypeDef\n",
    "3. IsInBlackList"
   ]
  },
  {
   "cell_type": "code",
   "execution_count": 5,
   "metadata": {},
   "outputs": [
    {
     "data": {
      "text/html": [
       "<div>\n",
       "<style scoped>\n",
       "    .dataframe tbody tr th:only-of-type {\n",
       "        vertical-align: middle;\n",
       "    }\n",
       "\n",
       "    .dataframe tbody tr th {\n",
       "        vertical-align: top;\n",
       "    }\n",
       "\n",
       "    .dataframe thead th {\n",
       "        text-align: right;\n",
       "    }\n",
       "</style>\n",
       "<table border=\"1\" class=\"dataframe\">\n",
       "  <thead>\n",
       "    <tr style=\"text-align: right;\">\n",
       "      <th></th>\n",
       "      <th>MemberId</th>\n",
       "      <th>RegisterSourceTypeDef</th>\n",
       "      <th>IsInBlackList</th>\n",
       "    </tr>\n",
       "  </thead>\n",
       "  <tbody>\n",
       "    <tr>\n",
       "      <th>0</th>\n",
       "      <td>1587633</td>\n",
       "      <td>Web</td>\n",
       "      <td>0</td>\n",
       "    </tr>\n",
       "    <tr>\n",
       "      <th>1</th>\n",
       "      <td>1587634</td>\n",
       "      <td>Web</td>\n",
       "      <td>0</td>\n",
       "    </tr>\n",
       "    <tr>\n",
       "      <th>2</th>\n",
       "      <td>1587658</td>\n",
       "      <td>Web</td>\n",
       "      <td>0</td>\n",
       "    </tr>\n",
       "    <tr>\n",
       "      <th>3</th>\n",
       "      <td>1587809</td>\n",
       "      <td>Web</td>\n",
       "      <td>0</td>\n",
       "    </tr>\n",
       "    <tr>\n",
       "      <th>4</th>\n",
       "      <td>1587830</td>\n",
       "      <td>Web</td>\n",
       "      <td>0</td>\n",
       "    </tr>\n",
       "  </tbody>\n",
       "</table>\n",
       "</div>"
      ],
      "text/plain": [
       "   MemberId RegisterSourceTypeDef IsInBlackList\n",
       "0   1587633                   Web             0\n",
       "1   1587634                   Web             0\n",
       "2   1587658                   Web             0\n",
       "3   1587809                   Web             0\n",
       "4   1587830                   Web             0"
      ]
     },
     "execution_count": 5,
     "metadata": {},
     "output_type": "execute_result"
    }
   ],
   "source": [
    "df_result = pd.DataFrame()\n",
    "df_result['MemberId'] = df_memId['MemberId'].copy()\n",
    "df_result['RegisterSourceTypeDef'] = df_memId['RegisterSourceTypeDef'].copy()\n",
    "df_result['IsInBlackList'] = s_IsInBlackList.copy()\n",
    "df_result.head()"
   ]
  },
  {
   "cell_type": "markdown",
   "metadata": {},
   "source": [
    "## Orders.csv"
   ]
  },
  {
   "cell_type": "code",
   "execution_count": 6,
   "metadata": {},
   "outputs": [
    {
     "name": "stderr",
     "output_type": "stream",
     "text": [
      "/home/sopper/anaconda3/lib/python3.6/site-packages/IPython/core/interactiveshell.py:2728: DtypeWarning: Columns (23) have mixed types. Specify dtype option on import or set low_memory=False.\n",
      "  interactivity=interactivity, compiler=compiler, result=result)\n"
     ]
    },
    {
     "data": {
      "text/plain": [
       "(2745854, 28)"
      ]
     },
     "execution_count": 6,
     "metadata": {},
     "output_type": "execute_result"
    }
   ],
   "source": [
    "df_orders = pd.read_csv('data/proData/order_train.csv', index_col=False)\n",
    "df_orders.shape"
   ]
  },
  {
   "cell_type": "markdown",
   "metadata": {},
   "source": [
    "### 計算缺漏值"
   ]
  },
  {
   "cell_type": "code",
   "execution_count": 7,
   "metadata": {
    "scrolled": false
   },
   "outputs": [
    {
     "name": "stdout",
     "output_type": "stream",
     "text": [
      "資料總量： 2745854\n",
      "-----------------\n",
      "DateId :\n",
      "  缺失資料量：0\n",
      "  缺失比率：0.00%\n",
      "-------\n",
      "MemberId :\n",
      "  缺失資料量：0\n",
      "  缺失比率：0.00%\n",
      "-------\n",
      "OrderGroupCode :\n",
      "  缺失資料量：0\n",
      "  缺失比率：0.00%\n",
      "-------\n",
      "TrackSourceTypeDef :\n",
      "  缺失資料量：0\n",
      "  缺失比率：0.00%\n",
      "-------\n",
      "TrackDeviceTypeDef :\n",
      "  缺失資料量：0\n",
      "  缺失比率：0.00%\n",
      "-------\n",
      "PayProfileTypeDef :\n",
      "  缺失資料量：0\n",
      "  缺失比率：0.00%\n",
      "-------\n",
      "SalesOrderSlaveId :\n",
      "  缺失資料量：0\n",
      "  缺失比率：0.00%\n",
      "-------\n",
      "SalePageId :\n",
      "  缺失資料量：0\n",
      "  缺失比率：0.00%\n",
      "-------\n",
      "IsMajor :\n",
      "  缺失資料量：0\n",
      "  缺失比率：0.00%\n",
      "-------\n",
      "IsGift :\n",
      "  缺失資料量：0\n",
      "  缺失比率：0.00%\n",
      "-------\n",
      "IsSalePageGift :\n",
      "  缺失資料量：0\n",
      "  缺失比率：0.00%\n",
      "-------\n",
      "Quantity :\n",
      "  缺失資料量：0\n",
      "  缺失比率：0.00%\n",
      "-------\n",
      "UnitPrice :\n",
      "  缺失資料量：0\n",
      "  缺失比率：0.00%\n",
      "-------\n",
      "PromotionDiscount :\n",
      "  缺失資料量：0\n",
      "  缺失比率：0.00%\n",
      "-------\n",
      "ECouponId :\n",
      "  缺失資料量：0\n",
      "  缺失比率：0.00%\n",
      "-------\n",
      "ECouponDiscount :\n",
      "  缺失資料量：0\n",
      "  缺失比率：0.00%\n",
      "-------\n",
      "SalesOrderSlaveTotalPayment :\n",
      "  缺失資料量：0\n",
      "  缺失比率：0.00%\n",
      "-------\n",
      "SalesOrderSlaveDateTime :\n",
      "  缺失資料量：0\n",
      "  缺失比率：0.00%\n",
      "-------\n",
      "SalesOrderReceiverId :\n",
      "  缺失資料量：0\n",
      "  缺失比率：0.00%\n",
      "-------\n",
      "City :\n",
      "  缺失資料量：5\n",
      "  缺失比率：0.00%\n",
      "-------\n",
      "District :\n",
      "  缺失資料量：663453\n",
      "  缺失比率：24.16%\n",
      "-------\n",
      "ZipCode :\n",
      "  缺失資料量：5\n",
      "  缺失比率：0.00%\n",
      "-------\n",
      "StoreName :\n",
      "  缺失資料量：248621\n",
      "  缺失比率：9.05%\n",
      "-------\n",
      "StoreId :\n",
      "  缺失資料量：248621\n",
      "  缺失比率：9.05%\n",
      "-------\n",
      "DeliverTypeDef :\n",
      "  缺失資料量：0\n",
      "  缺失比率：0.00%\n",
      "-------\n",
      "StatusDef :\n",
      "  缺失資料量：0\n",
      "  缺失比率：0.00%\n",
      "-------\n",
      "ReturnGoodsDateId :\n",
      "  缺失資料量：2604579\n",
      "  缺失比率：94.85%\n",
      "-------\n",
      "CauseDef :\n",
      "  缺失資料量：2604579\n",
      "  缺失比率：94.85%\n",
      "-------\n"
     ]
    }
   ],
   "source": [
    "sumOfData = len(df_orders)\n",
    "print('資料總量：', sumOfData)\n",
    "print('-----------------')\n",
    "s = df_orders.isnull().sum()\n",
    "for i in range(len(s)):\n",
    "    print(s.index[i], ':')\n",
    "    print('  缺失資料量：{0}'.format(s[i]))\n",
    "    print('  缺失比率：{0:.2f}%'.format(s[i]/sumOfData*100))\n",
    "    print('-------')"
   ]
  },
  {
   "cell_type": "markdown",
   "metadata": {},
   "source": [
    "### 將 City 轉換"
   ]
  },
  {
   "cell_type": "markdown",
   "metadata": {},
   "source": [
    "#### 查看City種類"
   ]
  },
  {
   "cell_type": "code",
   "execution_count": 8,
   "metadata": {},
   "outputs": [
    {
     "name": "stdout",
     "output_type": "stream",
     "text": [
      "嘉義縣  :  33122\n",
      "桃園市  :  293781\n",
      "台南市  :  199102\n",
      "新北市  :  586398\n",
      "新竹市  :  72752\n",
      "台北市  :  346845\n",
      "苗栗縣  :  53119\n",
      "台中市  :  398822\n",
      "高雄市  :  283934\n",
      "彰化縣  :  98326\n",
      "屏東縣  :  61228\n",
      "新竹縣  :  63504\n",
      "宜蘭縣  :  42671\n",
      "花蓮縣  :  33682\n",
      "台東縣  :  17075\n",
      "基隆市  :  43860\n",
      "雲林縣  :  43296\n",
      "南投縣  :  36523\n",
      "嘉義市  :  27167\n",
      "台東市  :  218\n",
      "澎湖縣  :  9894\n",
      "屏東市  :  381\n",
      "New  :  17\n",
      "<fo  :  18\n",
      "Kao  :  3\n",
      "Kot  :  2\n",
      "Tao  :  10\n",
      "Hy   :  3\n",
      "nan  :  0\n",
      "25   :  3\n",
      "Keb  :  1\n",
      "1st  :  16\n",
      "Ins  :  2\n",
      "Tai  :  4\n",
      "桃園縣  :  45\n",
      "Đại  :  1\n",
      "Cha  :  1\n",
      "Xin  :  4\n",
      "Quậ  :  2\n",
      "Nan  :  8\n",
      "No.  :  3\n",
      "Hsi  :  2\n",
      "Daf  :  1\n",
      "Aya  :  1\n",
      "Jia  :  2\n"
     ]
    }
   ],
   "source": [
    "cityData = df_orders['City'].copy().drop_duplicates()\n",
    "for value in cityData.values:\n",
    "    print(value, \" : \", len(df_orders[df_orders['City'] == value]))"
   ]
  },
  {
   "cell_type": "markdown",
   "metadata": {},
   "source": [
    "#### 清除混雜的資料\n",
    "* New -> 新北市\n",
    "* fo  -> NAN\n",
    "* Kao -> 高雄市\n",
    "* Kot -> NAN\n",
    "* Tao -> 桃園市\n",
    "* Hy  -> NAN\n",
    "* nan -> NAN\n",
    "* 25  -> NAN\n",
    "* Keb -> NAN\n",
    "* 1st -> NAN\n",
    "* Tai -> NAN\n",
    "* Ins -> NAN\n",
    "* 桃園縣 -> 桃園市\n",
    "* Đại -> NAN\n",
    "* Cha -> 彰化縣\n",
    "* Xin -> NAN\n",
    "* Quậ -> NAN\n",
    "* Nan -> NAN\n",
    "* No. -> NAN\n",
    "* Hsi -> 新竹市\n",
    "* Daf -> NAN\n",
    "* Aya -> NAN\n",
    "* Jia -> 嘉義縣"
   ]
  },
  {
   "cell_type": "code",
   "execution_count": 9,
   "metadata": {},
   "outputs": [],
   "source": [
    "import numpy as np"
   ]
  },
  {
   "cell_type": "code",
   "execution_count": 10,
   "metadata": {},
   "outputs": [
    {
     "data": {
      "text/plain": [
       "{'1st': nan,\n",
       " '25 ': nan,\n",
       " '<fo': nan,\n",
       " 'Aya': nan,\n",
       " 'Cha': '彰化縣',\n",
       " 'Daf': nan,\n",
       " 'Hsi': '新竹市',\n",
       " 'Hy ': nan,\n",
       " 'Ins': nan,\n",
       " 'Jia': '嘉義縣',\n",
       " 'Kao': '高雄市',\n",
       " 'Keb': nan,\n",
       " 'Kot': nan,\n",
       " 'Nan': nan,\n",
       " 'New': '新北市',\n",
       " 'No.': nan,\n",
       " 'Quậ': nan,\n",
       " 'Tai': nan,\n",
       " 'Tao': '桃園市',\n",
       " 'Xin': nan,\n",
       " 'nan': nan,\n",
       " 'Đại': nan,\n",
       " '桃園縣': '桃園市'}"
      ]
     },
     "execution_count": 10,
     "metadata": {},
     "output_type": "execute_result"
    }
   ],
   "source": [
    "cityCl_dict = {\n",
    "    \"New\" : \"新北市\",\n",
    "    \"<fo\" : np.NAN,\n",
    "    \"Kao\" : \"高雄市\",\n",
    "    \"Kot\" : np.NAN,\n",
    "    \"Tao\" : \"桃園市\",\n",
    "    \"Hy \" : np.NAN,\n",
    "    \"nan\" : np.NAN,\n",
    "    \"25 \" : np.NAN,\n",
    "    \"Keb\" : np.NAN,\n",
    "    \"1st\" : np.NAN,\n",
    "    \"Tai\" : np.NAN,\n",
    "    \"Ins\" : np.NAN,\n",
    "    \"桃園縣\" : \"桃園市\",\n",
    "    \"Đại\" : np.NAN,\n",
    "    \"Cha\" : \"彰化縣\",\n",
    "    \"Xin\" : np.NAN,\n",
    "    \"Quậ\" : np.NAN,\n",
    "    \"Nan\" : np.NAN,\n",
    "    \"No.\" : np.NAN,\n",
    "    \"Hsi\" : \"新竹市\",\n",
    "    \"Daf\" : np.NAN,\n",
    "    \"Aya\" : np.NAN,\n",
    "    \"Jia\" : \"嘉義縣\"\n",
    "}\n",
    "cityCl_dict"
   ]
  },
  {
   "cell_type": "code",
   "execution_count": 11,
   "metadata": {},
   "outputs": [],
   "source": [
    "s = df_orders['City'].copy()\n",
    "for i in cityCl_dict:\n",
    "    s[s==i]=cityCl_dict[i]\n",
    "df_orders['City'] = s"
   ]
  },
  {
   "cell_type": "markdown",
   "metadata": {},
   "source": [
    "#### 檢查"
   ]
  },
  {
   "cell_type": "code",
   "execution_count": 12,
   "metadata": {
    "scrolled": false
   },
   "outputs": [
    {
     "name": "stdout",
     "output_type": "stream",
     "text": [
      "嘉義縣  :  33124\n",
      "桃園市  :  293836\n",
      "台南市  :  199102\n",
      "新北市  :  586415\n",
      "新竹市  :  72754\n",
      "台北市  :  346845\n",
      "苗栗縣  :  53119\n",
      "台中市  :  398822\n",
      "高雄市  :  283937\n",
      "彰化縣  :  98327\n",
      "屏東縣  :  61228\n",
      "新竹縣  :  63504\n",
      "宜蘭縣  :  42671\n",
      "花蓮縣  :  33682\n",
      "台東縣  :  17075\n",
      "基隆市  :  43860\n",
      "雲林縣  :  43296\n",
      "南投縣  :  36523\n",
      "嘉義市  :  27167\n",
      "台東市  :  218\n",
      "澎湖縣  :  9894\n",
      "屏東市  :  381\n",
      "nan  :  0\n",
      "NAN:  74\n"
     ]
    }
   ],
   "source": [
    "cityData = df_orders['City'].copy().drop_duplicates()\n",
    "s = df_orders['City'].isnull().sum()\n",
    "for value in cityData.values:\n",
    "    print(value, \" : \", len(df_orders[df_orders['City'] == value]))\n",
    "print(\"NAN: \", s) "
   ]
  },
  {
   "cell_type": "markdown",
   "metadata": {},
   "source": [
    "(暫不做)\n",
    "#### 縣市對應\n",
    "* 嘉義縣  :  city01\n",
    "* 桃園市  :  city02\n",
    "* 台南市  :  city03\n",
    "* 新北市  :  city04\n",
    "* 新竹市  :  city05\n",
    "* 台北市  :  city06\n",
    "* 苗栗縣  :  city07\n",
    "* 台中市  :  city08\n",
    "* 高雄市  :  city09\n",
    "* 彰化縣  :  city10\n",
    "* 屏東縣  :  city11\n",
    "* 新竹縣  :  city12\n",
    "* 宜蘭縣  :  city13\n",
    "* 花蓮縣  :  city14\n",
    "* 雲林縣  :  city15\n",
    "* 台東縣  :  city16\n",
    "* 基隆市  :  city17\n",
    "* 南投縣  :  city18\n",
    "* 嘉義市  :  city19\n",
    "* 台東市  :  city20\n",
    "* 澎湖縣  :  city21\n",
    "* 屏東市  :  city22"
   ]
  }
 ],
 "metadata": {
  "kernelspec": {
   "display_name": "Python 3",
   "language": "python",
   "name": "python3"
  },
  "language_info": {
   "codemirror_mode": {
    "name": "ipython",
    "version": 3
   },
   "file_extension": ".py",
   "mimetype": "text/x-python",
   "name": "python",
   "nbconvert_exporter": "python",
   "pygments_lexer": "ipython3",
   "version": "3.6.4"
  }
 },
 "nbformat": 4,
 "nbformat_minor": 2
}
