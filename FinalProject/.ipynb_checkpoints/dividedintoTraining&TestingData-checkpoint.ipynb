{
 "cells": [
  {
   "cell_type": "code",
   "execution_count": 9,
   "metadata": {},
   "outputs": [
    {
     "name": "stdout",
     "output_type": "stream",
     "text": [
      "Once deleted, variables cannot be recovered. Proceed (y/[n])? y\n"
     ]
    }
   ],
   "source": [
    "reset"
   ]
  },
  {
   "cell_type": "code",
   "execution_count": 10,
   "metadata": {},
   "outputs": [],
   "source": [
    "import pandas as pd\n",
    "import numpy as np\n",
    "\n",
    "def div(a):\n",
    "    print(\"Running seg{0} ... \".format(a))\n",
    "    df = pd.read_csv(\"./data/segData/df_seg%s.csv\"%a)\n",
    "    df.drop([\"Unnamed: 0\", \"MemberId\"], axis=1, inplace=True)\n",
    "    print(\"Sum of data(for this seg): {0} \".format(len(df)))\n",
    "    msk = np.random.rand(len(df)) < 0.1\n",
    "    train = df[msk]\n",
    "    test = df[~msk]\n",
    "    \n",
    "#     print(train[\"SalesOrderSlaveTotalPayment\"].max())\n",
    "#     print(train[\"SalesOrderSlaveTotalPayment\"].min())\n",
    "    \n",
    "    train[\"SalesOrderSlaveTotalPayment\"] = norm(train[\"SalesOrderSlaveTotalPayment\"])\n",
    "#     print(train[\"SalesOrderSlaveTotalPayment\"])\n",
    "    test[\"SalesOrderSlaveTotalPayment\"] = norm(test[\"SalesOrderSlaveTotalPayment\"])\n",
    "    print(\"Sum of training data(for this seg): {0}\".format(len(train)))\n",
    "    print(\"Sum of testing data(for this seg): {0}\".format(len(test)))\n",
    "    print(\"...\")\n",
    "    return train, test\n",
    "\n",
    "def norm(s):\n",
    "    result = (s - s.min())/(s.max()-s.min())\n",
    "    return(result)"
   ]
  },
  {
   "cell_type": "code",
   "execution_count": 11,
   "metadata": {
    "scrolled": false
   },
   "outputs": [
    {
     "name": "stdout",
     "output_type": "stream",
     "text": [
      "Running seg1 ... \n",
      "Sum of data(for this seg): 562298 \n",
      "Sum of training data(for this seg): 56321\n",
      "Sum of testing data(for this seg): 505977\n",
      "...\n",
      "Running seg2 ... \n"
     ]
    },
    {
     "name": "stderr",
     "output_type": "stream",
     "text": [
      "/home/sopper08/anaconda3/lib/python3.6/site-packages/ipykernel_launcher.py:16: SettingWithCopyWarning: \n",
      "A value is trying to be set on a copy of a slice from a DataFrame.\n",
      "Try using .loc[row_indexer,col_indexer] = value instead\n",
      "\n",
      "See the caveats in the documentation: http://pandas.pydata.org/pandas-docs/stable/indexing.html#indexing-view-versus-copy\n",
      "  app.launch_new_instance()\n",
      "/home/sopper08/anaconda3/lib/python3.6/site-packages/ipykernel_launcher.py:18: SettingWithCopyWarning: \n",
      "A value is trying to be set on a copy of a slice from a DataFrame.\n",
      "Try using .loc[row_indexer,col_indexer] = value instead\n",
      "\n",
      "See the caveats in the documentation: http://pandas.pydata.org/pandas-docs/stable/indexing.html#indexing-view-versus-copy\n"
     ]
    },
    {
     "name": "stdout",
     "output_type": "stream",
     "text": [
      "Sum of data(for this seg): 257057 \n",
      "Sum of training data(for this seg): 25851\n",
      "Sum of testing data(for this seg): 231206\n",
      "...\n",
      "Running seg3 ... \n",
      "Sum of data(for this seg): 145944 \n",
      "Sum of training data(for this seg): 14491\n",
      "Sum of testing data(for this seg): 131453\n",
      "...\n",
      "Running seg4 ... \n",
      "Sum of data(for this seg): 92588 \n",
      "Sum of training data(for this seg): 9316\n",
      "Sum of testing data(for this seg): 83272\n",
      "...\n",
      "Running seg5 ... \n",
      "Sum of data(for this seg): 62856 \n",
      "Sum of training data(for this seg): 6309\n",
      "Sum of testing data(for this seg): 56547\n",
      "...\n",
      "Running seg6 ... \n",
      "Sum of data(for this seg): 44684 \n",
      "Sum of training data(for this seg): 4472\n",
      "Sum of testing data(for this seg): 40212\n",
      "...\n",
      "Running seg7 ... \n",
      "Sum of data(for this seg): 32636 \n",
      "Sum of training data(for this seg): 3218\n",
      "Sum of testing data(for this seg): 29418\n",
      "...\n",
      "Running seg8 ... \n",
      "Sum of data(for this seg): 24620 \n",
      "Sum of training data(for this seg): 2437\n",
      "Sum of testing data(for this seg): 22183\n",
      "...\n",
      "Running seg9 ... \n",
      "Sum of data(for this seg): 18907 \n",
      "Sum of training data(for this seg): 1949\n",
      "Sum of testing data(for this seg): 16958\n",
      "...\n",
      "Running seg10 ... \n",
      "Sum of data(for this seg): 14763 \n",
      "Sum of training data(for this seg): 1467\n",
      "Sum of testing data(for this seg): 13296\n",
      "...\n",
      "Running seg11 ... \n",
      "Sum of data(for this seg): 11771 \n",
      "Sum of training data(for this seg): 1171\n",
      "Sum of testing data(for this seg): 10600\n",
      "...\n",
      "Running seg12 ... \n",
      "Sum of data(for this seg): 9514 \n",
      "Sum of training data(for this seg): 964\n",
      "Sum of testing data(for this seg): 8550\n",
      "...\n",
      "Running seg13 ... \n",
      "Sum of data(for this seg): 7836 \n",
      "Sum of training data(for this seg): 749\n",
      "Sum of testing data(for this seg): 7087\n",
      "...\n",
      "Running seg14 ... \n",
      "Sum of data(for this seg): 6468 \n",
      "Sum of training data(for this seg): 637\n",
      "Sum of testing data(for this seg): 5831\n",
      "...\n",
      "Running seg15 ... \n",
      "Sum of data(for this seg): 5439 \n",
      "Sum of training data(for this seg): 555\n",
      "Sum of testing data(for this seg): 4884\n",
      "...\n",
      "Running seg16 ... \n",
      "Sum of data(for this seg): 4580 \n",
      "Sum of training data(for this seg): 470\n",
      "Sum of testing data(for this seg): 4110\n",
      "...\n",
      "Running seg17 ... \n",
      "Sum of data(for this seg): 3921 \n",
      "Sum of training data(for this seg): 419\n",
      "Sum of testing data(for this seg): 3502\n",
      "...\n",
      "Running seg18 ... \n",
      "Sum of data(for this seg): 3370 \n",
      "Sum of training data(for this seg): 365\n",
      "Sum of testing data(for this seg): 3005\n",
      "...\n",
      "Running seg19 ... \n",
      "Sum of data(for this seg): 2934 \n",
      "Sum of training data(for this seg): 328\n",
      "Sum of testing data(for this seg): 2606\n",
      "...\n",
      "Running seg20 ... \n",
      "Sum of data(for this seg): 2562 \n",
      "Sum of training data(for this seg): 222\n",
      "Sum of testing data(for this seg): 2340\n",
      "...\n",
      "Sum of training data: 56321\n",
      "Sum of testing data: 505977\n"
     ]
    }
   ],
   "source": [
    "trainingData, testingData = div(1)\n",
    "\n",
    "for i in range(2,21):\n",
    "    df0, df1 = div(i)\n",
    "    trainingData.append(df0)\n",
    "    testingData.append(df1)\n",
    "print(\"Sum of training data: {0}\".format(len(trainingData)))\n",
    "print(\"Sum of testing data: {0}\".format(len(testingData)))\n",
    "\n",
    "trainingData.to_csv(\"data/training&testingData/trainingData.csv\", index=False)\n",
    "testingData.to_csv(\"data/training&testingData/testingData.csv\", index=False)"
   ]
  }
 ],
 "metadata": {
  "kernelspec": {
   "display_name": "Python 3",
   "language": "python",
   "name": "python3"
  },
  "language_info": {
   "codemirror_mode": {
    "name": "ipython",
    "version": 3
   },
   "file_extension": ".py",
   "mimetype": "text/x-python",
   "name": "python",
   "nbconvert_exporter": "python",
   "pygments_lexer": "ipython3",
   "version": "3.6.5"
  }
 },
 "nbformat": 4,
 "nbformat_minor": 2
}
