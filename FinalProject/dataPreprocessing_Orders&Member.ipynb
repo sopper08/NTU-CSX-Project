{
 "cells": [
  {
   "cell_type": "markdown",
   "metadata": {},
   "source": [
    "# MemberId"
   ]
  },
  {
   "cell_type": "code",
   "execution_count": 1,
   "metadata": {},
   "outputs": [
    {
     "name": "stdout",
     "output_type": "stream",
     "text": [
      "Once deleted, variables cannot be recovered. Proceed (y/[n])? y\n"
     ]
    }
   ],
   "source": [
    "reset"
   ]
  },
  {
   "cell_type": "code",
   "execution_count": 2,
   "metadata": {},
   "outputs": [
    {
     "name": "stderr",
     "output_type": "stream",
     "text": [
      "/home/sopper/anaconda3/lib/python3.6/site-packages/IPython/core/interactiveshell.py:2728: DtypeWarning: Columns (8) have mixed types. Specify dtype option on import or set low_memory=False.\n",
      "  interactivity=interactivity, compiler=compiler, result=result)\n"
     ]
    },
    {
     "data": {
      "text/html": [
       "<div>\n",
       "<style scoped>\n",
       "    .dataframe tbody tr th:only-of-type {\n",
       "        vertical-align: middle;\n",
       "    }\n",
       "\n",
       "    .dataframe tbody tr th {\n",
       "        vertical-align: top;\n",
       "    }\n",
       "\n",
       "    .dataframe thead th {\n",
       "        text-align: right;\n",
       "    }\n",
       "</style>\n",
       "<table border=\"1\" class=\"dataframe\">\n",
       "  <thead>\n",
       "    <tr style=\"text-align: right;\">\n",
       "      <th></th>\n",
       "      <th>MemberId</th>\n",
       "      <th>Birthday</th>\n",
       "      <th>GenderTypeDef</th>\n",
       "      <th>RegisterSourceTypeDef</th>\n",
       "      <th>RegisterDateTime</th>\n",
       "      <th>MinOrderDate</th>\n",
       "      <th>OpenCardPresent</th>\n",
       "      <th>LastBirthdayPresentYear</th>\n",
       "      <th>IsInBlackList</th>\n",
       "    </tr>\n",
       "  </thead>\n",
       "  <tbody>\n",
       "    <tr>\n",
       "      <th>0</th>\n",
       "      <td>1587633</td>\n",
       "      <td>NaN</td>\n",
       "      <td>NaN</td>\n",
       "      <td>Web</td>\n",
       "      <td>2016-08-05 19:45:59.670</td>\n",
       "      <td>NaN</td>\n",
       "      <td>0</td>\n",
       "      <td>0</td>\n",
       "      <td>NaN</td>\n",
       "    </tr>\n",
       "    <tr>\n",
       "      <th>1</th>\n",
       "      <td>1587634</td>\n",
       "      <td>NaN</td>\n",
       "      <td>NaN</td>\n",
       "      <td>Web</td>\n",
       "      <td>2016-10-27 21:25:22.907</td>\n",
       "      <td>NaN</td>\n",
       "      <td>0</td>\n",
       "      <td>0</td>\n",
       "      <td>NaN</td>\n",
       "    </tr>\n",
       "    <tr>\n",
       "      <th>2</th>\n",
       "      <td>1587658</td>\n",
       "      <td>NaN</td>\n",
       "      <td>NaN</td>\n",
       "      <td>Web</td>\n",
       "      <td>2015-08-11 19:11:09.030</td>\n",
       "      <td>NaN</td>\n",
       "      <td>0</td>\n",
       "      <td>0</td>\n",
       "      <td>NaN</td>\n",
       "    </tr>\n",
       "    <tr>\n",
       "      <th>3</th>\n",
       "      <td>1587809</td>\n",
       "      <td>NaN</td>\n",
       "      <td>NaN</td>\n",
       "      <td>Web</td>\n",
       "      <td>2015-08-11 19:53:32.397</td>\n",
       "      <td>NaN</td>\n",
       "      <td>0</td>\n",
       "      <td>0</td>\n",
       "      <td>NaN</td>\n",
       "    </tr>\n",
       "    <tr>\n",
       "      <th>4</th>\n",
       "      <td>1587830</td>\n",
       "      <td>NaN</td>\n",
       "      <td>NaN</td>\n",
       "      <td>Web</td>\n",
       "      <td>2017-06-03 17:33:03.987</td>\n",
       "      <td>NaN</td>\n",
       "      <td>0</td>\n",
       "      <td>0</td>\n",
       "      <td>NaN</td>\n",
       "    </tr>\n",
       "  </tbody>\n",
       "</table>\n",
       "</div>"
      ],
      "text/plain": [
       "   MemberId Birthday GenderTypeDef RegisterSourceTypeDef  \\\n",
       "0   1587633      NaN           NaN                   Web   \n",
       "1   1587634      NaN           NaN                   Web   \n",
       "2   1587658      NaN           NaN                   Web   \n",
       "3   1587809      NaN           NaN                   Web   \n",
       "4   1587830      NaN           NaN                   Web   \n",
       "\n",
       "          RegisterDateTime MinOrderDate  OpenCardPresent  \\\n",
       "0  2016-08-05 19:45:59.670          NaN                0   \n",
       "1  2016-10-27 21:25:22.907          NaN                0   \n",
       "2  2015-08-11 19:11:09.030          NaN                0   \n",
       "3  2015-08-11 19:53:32.397          NaN                0   \n",
       "4  2017-06-03 17:33:03.987          NaN                0   \n",
       "\n",
       "   LastBirthdayPresentYear IsInBlackList  \n",
       "0                        0           NaN  \n",
       "1                        0           NaN  \n",
       "2                        0           NaN  \n",
       "3                        0           NaN  \n",
       "4                        0           NaN  "
      ]
     },
     "execution_count": 2,
     "metadata": {},
     "output_type": "execute_result"
    }
   ],
   "source": [
    "import pandas as pd\n",
    "df_Mem_ori = pd.read_csv('./data/Member.csv')\n",
    "df_Mem_ori.head()"
   ]
  },
  {
   "cell_type": "code",
   "execution_count": 3,
   "metadata": {},
   "outputs": [],
   "source": [
    "df_Mem = df_Mem_ori.copy()"
   ]
  },
  {
   "cell_type": "code",
   "execution_count": 4,
   "metadata": {},
   "outputs": [
    {
     "name": "stdout",
     "output_type": "stream",
     "text": [
      "<class 'pandas.core.frame.DataFrame'>\n",
      "RangeIndex: 859146 entries, 0 to 859145\n",
      "Data columns (total 9 columns):\n",
      "MemberId                   859146 non-null int64\n",
      "Birthday                   237275 non-null object\n",
      "GenderTypeDef              237276 non-null object\n",
      "RegisterSourceTypeDef      829143 non-null object\n",
      "RegisterDateTime           859146 non-null object\n",
      "MinOrderDate               562300 non-null object\n",
      "OpenCardPresent            859146 non-null int64\n",
      "LastBirthdayPresentYear    859146 non-null int64\n",
      "IsInBlackList              1004 non-null object\n",
      "dtypes: int64(3), object(6)\n",
      "memory usage: 59.0+ MB\n"
     ]
    }
   ],
   "source": [
    "df_Mem.info()"
   ]
  },
  {
   "cell_type": "markdown",
   "metadata": {},
   "source": [
    "## 需要的欄位\n",
    "* MemberId\n",
    "* GenderTypeDef\n",
    "* RegisterSourceTypeDef\n",
    "* OpenCardPresent\n",
    "* IsInBlackList"
   ]
  },
  {
   "cell_type": "markdown",
   "metadata": {},
   "source": [
    "## 檢視各欄位內容"
   ]
  },
  {
   "cell_type": "code",
   "execution_count": 5,
   "metadata": {},
   "outputs": [
    {
     "data": {
      "text/plain": [
       "Female    234540\n",
       "Male        2736\n",
       "Name: GenderTypeDef, dtype: int64"
      ]
     },
     "execution_count": 5,
     "metadata": {},
     "output_type": "execute_result"
    }
   ],
   "source": [
    "# GT: GenderType\n",
    "df_Mem['GenderTypeDef'].value_counts()"
   ]
  },
  {
   "cell_type": "code",
   "execution_count": 6,
   "metadata": {},
   "outputs": [
    {
     "data": {
      "text/plain": [
       "Web           624375\n",
       "AndroidApp    109704\n",
       "iOSApp         95064\n",
       "Name: RegisterSourceTypeDef, dtype: int64"
      ]
     },
     "execution_count": 6,
     "metadata": {},
     "output_type": "execute_result"
    }
   ],
   "source": [
    "# RST: RegisterSourceTypeDef\n",
    "df_Mem['RegisterSourceTypeDef'].value_counts()"
   ]
  },
  {
   "cell_type": "code",
   "execution_count": 7,
   "metadata": {},
   "outputs": [
    {
     "data": {
      "text/plain": [
       "0        624888\n",
       "1078      11997\n",
       "1292      11092\n",
       "1838      10618\n",
       "630       10577\n",
       "2664      10531\n",
       "8596      10311\n",
       "544        9982\n",
       "10342      9443\n",
       "2577       9278\n",
       "467        9040\n",
       "1438       8551\n",
       "2294       8378\n",
       "2051       7922\n",
       "5489       7771\n",
       "4974       7702\n",
       "8052       6955\n",
       "1626       6950\n",
       "7693       6862\n",
       "5493       6103\n",
       "10788      5812\n",
       "4559       5701\n",
       "812        5065\n",
       "383        4986\n",
       "9175       4865\n",
       "3581       4729\n",
       "5938       4729\n",
       "7282       4265\n",
       "961        4199\n",
       "6547       3921\n",
       "6879       3314\n",
       "190        3267\n",
       "4183       3262\n",
       "318        3042\n",
       "11428      1414\n",
       "173        1168\n",
       "127         370\n",
       "98           86\n",
       "Name: OpenCardPresent, dtype: int64"
      ]
     },
     "execution_count": 7,
     "metadata": {},
     "output_type": "execute_result"
    }
   ],
   "source": [
    "# OCP: OpenCardPresent\n",
    "df_Mem['OpenCardPresent'].value_counts()"
   ]
  },
  {
   "cell_type": "code",
   "execution_count": 8,
   "metadata": {},
   "outputs": [
    {
     "data": {
      "text/plain": [
       "是    680\n",
       "否    324\n",
       "Name: IsInBlackList, dtype: int64"
      ]
     },
     "execution_count": 8,
     "metadata": {},
     "output_type": "execute_result"
    }
   ],
   "source": [
    "# Black: IsInBlackList\n",
    "df_Mem['IsInBlackList'].value_counts()"
   ]
  },
  {
   "cell_type": "markdown",
   "metadata": {},
   "source": [
    "## 選定欄位之內容\n",
    "* **MemberId**\n",
    "    * NAN: 0\n",
    "> 無須處理\n",
    "\n",
    "* **GenderTypeDef**\n",
    "    * NAN: 621870\n",
    "    * Female: 234540\n",
    "    * Male: 2736\n",
    "> 新增兩個欄位 Female, Male\n",
    "\n",
    "* **RegisterSourceTypeDef**\n",
    "    * NAN: 3\n",
    "    * Web: 624375\n",
    "    * AndroidApp: 109704\n",
    "    * iOSApp: 95064\n",
    "> 更改內容 web->1, App->0\n",
    "\n",
    "* **OpenCardPresent**\n",
    "    * NAN: 0\n",
    "    * 0: 624888\n",
    "    * others: 234258\n",
    "> 更改內容 0->1, others&NAN->0    \n",
    "\n",
    "* **IsInBlackList**\n",
    "    * NAN: 858142\n",
    "    * 是: 680\n",
    "    * 否: 324\n",
    "> 更改內容 是->1, 否&NAN->0"
   ]
  },
  {
   "cell_type": "code",
   "execution_count": 9,
   "metadata": {
    "collapsed": true
   },
   "outputs": [
    {
     "data": {
      "text/html": [
       "<div>\n",
       "<style scoped>\n",
       "    .dataframe tbody tr th:only-of-type {\n",
       "        vertical-align: middle;\n",
       "    }\n",
       "\n",
       "    .dataframe tbody tr th {\n",
       "        vertical-align: top;\n",
       "    }\n",
       "\n",
       "    .dataframe thead th {\n",
       "        text-align: right;\n",
       "    }\n",
       "</style>\n",
       "<table border=\"1\" class=\"dataframe\">\n",
       "  <thead>\n",
       "    <tr style=\"text-align: right;\">\n",
       "      <th></th>\n",
       "      <th>MemberId</th>\n",
       "      <th>GenderTypeDef</th>\n",
       "      <th>RegisterSourceTypeDef</th>\n",
       "      <th>OpenCardPresent</th>\n",
       "      <th>IsInBlackList</th>\n",
       "    </tr>\n",
       "  </thead>\n",
       "  <tbody>\n",
       "    <tr>\n",
       "      <th>0</th>\n",
       "      <td>1587633</td>\n",
       "      <td>NaN</td>\n",
       "      <td>Web</td>\n",
       "      <td>0</td>\n",
       "      <td>NaN</td>\n",
       "    </tr>\n",
       "    <tr>\n",
       "      <th>1</th>\n",
       "      <td>1587634</td>\n",
       "      <td>NaN</td>\n",
       "      <td>Web</td>\n",
       "      <td>0</td>\n",
       "      <td>NaN</td>\n",
       "    </tr>\n",
       "    <tr>\n",
       "      <th>2</th>\n",
       "      <td>1587658</td>\n",
       "      <td>NaN</td>\n",
       "      <td>Web</td>\n",
       "      <td>0</td>\n",
       "      <td>NaN</td>\n",
       "    </tr>\n",
       "    <tr>\n",
       "      <th>3</th>\n",
       "      <td>1587809</td>\n",
       "      <td>NaN</td>\n",
       "      <td>Web</td>\n",
       "      <td>0</td>\n",
       "      <td>NaN</td>\n",
       "    </tr>\n",
       "    <tr>\n",
       "      <th>4</th>\n",
       "      <td>1587830</td>\n",
       "      <td>NaN</td>\n",
       "      <td>Web</td>\n",
       "      <td>0</td>\n",
       "      <td>NaN</td>\n",
       "    </tr>\n",
       "  </tbody>\n",
       "</table>\n",
       "</div>"
      ],
      "text/plain": [
       "   MemberId GenderTypeDef RegisterSourceTypeDef  OpenCardPresent IsInBlackList\n",
       "0   1587633           NaN                   Web                0           NaN\n",
       "1   1587634           NaN                   Web                0           NaN\n",
       "2   1587658           NaN                   Web                0           NaN\n",
       "3   1587809           NaN                   Web                0           NaN\n",
       "4   1587830           NaN                   Web                0           NaN"
      ]
     },
     "execution_count": 9,
     "metadata": {},
     "output_type": "execute_result"
    }
   ],
   "source": [
    "df_Mem.drop([\"Birthday\", \"RegisterDateTime\", \"MinOrderDate\", \"LastBirthdayPresentYear\"], axis=1, inplace=True)\n",
    "df_Mem.head()"
   ]
  },
  {
   "cell_type": "markdown",
   "metadata": {},
   "source": [
    "## GenderTypeDef"
   ]
  },
  {
   "cell_type": "code",
   "execution_count": 10,
   "metadata": {
    "collapsed": true
   },
   "outputs": [
    {
     "name": "stdout",
     "output_type": "stream",
     "text": [
      "Female: \n",
      " 0    624606\n",
      "1    234540\n",
      "Name: Female, dtype: int64\n",
      "Male: \n",
      " 0    856410\n",
      "1      2736\n",
      "Name: Male, dtype: int64\n"
     ]
    },
    {
     "name": "stderr",
     "output_type": "stream",
     "text": [
      "/home/sopper/anaconda3/lib/python3.6/site-packages/ipykernel_launcher.py:6: SettingWithCopyWarning: \n",
      "A value is trying to be set on a copy of a slice from a DataFrame\n",
      "\n",
      "See the caveats in the documentation: http://pandas.pydata.org/pandas-docs/stable/indexing.html#indexing-view-versus-copy\n",
      "  \n",
      "/home/sopper/anaconda3/lib/python3.6/site-packages/ipykernel_launcher.py:7: SettingWithCopyWarning: \n",
      "A value is trying to be set on a copy of a slice from a DataFrame\n",
      "\n",
      "See the caveats in the documentation: http://pandas.pydata.org/pandas-docs/stable/indexing.html#indexing-view-versus-copy\n",
      "  import sys\n"
     ]
    }
   ],
   "source": [
    "# 新增 Female, Male 兩個欄位\n",
    "df_Mem[\"Female\"] = 0\n",
    "df_Mem[\"Male\"] = 0\n",
    "\n",
    "# 欄位轉換\n",
    "df_Mem[\"Female\"][df_Mem[\"GenderTypeDef\"] == \"Female\"] = 1\n",
    "df_Mem[\"Male\"][df_Mem[\"GenderTypeDef\"] == \"Male\"] = 1\n",
    "# 踢掉舊欄位\n",
    "df_Mem.drop(\"GenderTypeDef\", axis=1, inplace=True)\n",
    "\n",
    "# 結果檢驗\n",
    "print(\"Female: \\n\", df_Mem['Female'].value_counts())\n",
    "print(\"Male: \\n\", df_Mem['Male'].value_counts())"
   ]
  },
  {
   "cell_type": "markdown",
   "metadata": {},
   "source": [
    "## RegisterSourceTypeDef"
   ]
  },
  {
   "cell_type": "code",
   "execution_count": 11,
   "metadata": {
    "collapsed": true
   },
   "outputs": [
    {
     "name": "stderr",
     "output_type": "stream",
     "text": [
      "/home/sopper/anaconda3/lib/python3.6/site-packages/ipykernel_launcher.py:1: SettingWithCopyWarning: \n",
      "A value is trying to be set on a copy of a slice from a DataFrame\n",
      "\n",
      "See the caveats in the documentation: http://pandas.pydata.org/pandas-docs/stable/indexing.html#indexing-view-versus-copy\n",
      "  \"\"\"Entry point for launching an IPython kernel.\n",
      "/home/sopper/anaconda3/lib/python3.6/site-packages/ipykernel_launcher.py:2: SettingWithCopyWarning: \n",
      "A value is trying to be set on a copy of a slice from a DataFrame\n",
      "\n",
      "See the caveats in the documentation: http://pandas.pydata.org/pandas-docs/stable/indexing.html#indexing-view-versus-copy\n",
      "  \n"
     ]
    },
    {
     "data": {
      "text/plain": [
       "1    624375\n",
       "0    234771\n",
       "Name: RegisterSourceTypeDef, dtype: int64"
      ]
     },
     "execution_count": 11,
     "metadata": {},
     "output_type": "execute_result"
    }
   ],
   "source": [
    "df_Mem[\"RegisterSourceTypeDef\"][df_Mem[\"RegisterSourceTypeDef\"] == \"Web\"] = 1\n",
    "df_Mem[\"RegisterSourceTypeDef\"][df_Mem[\"RegisterSourceTypeDef\"] != 1] = 0\n",
    "\n",
    "df_Mem[\"RegisterSourceTypeDef\"].value_counts()"
   ]
  },
  {
   "cell_type": "markdown",
   "metadata": {},
   "source": [
    "## OpenCardPresent"
   ]
  },
  {
   "cell_type": "code",
   "execution_count": 12,
   "metadata": {
    "collapsed": true
   },
   "outputs": [
    {
     "name": "stderr",
     "output_type": "stream",
     "text": [
      "/home/sopper/anaconda3/lib/python3.6/site-packages/ipykernel_launcher.py:1: SettingWithCopyWarning: \n",
      "A value is trying to be set on a copy of a slice from a DataFrame\n",
      "\n",
      "See the caveats in the documentation: http://pandas.pydata.org/pandas-docs/stable/indexing.html#indexing-view-versus-copy\n",
      "  \"\"\"Entry point for launching an IPython kernel.\n",
      "/home/sopper/anaconda3/lib/python3.6/site-packages/ipykernel_launcher.py:2: SettingWithCopyWarning: \n",
      "A value is trying to be set on a copy of a slice from a DataFrame\n",
      "\n",
      "See the caveats in the documentation: http://pandas.pydata.org/pandas-docs/stable/indexing.html#indexing-view-versus-copy\n",
      "  \n"
     ]
    },
    {
     "data": {
      "text/plain": [
       "1    624888\n",
       "0    234258\n",
       "Name: OpenCardPresent, dtype: int64"
      ]
     },
     "execution_count": 12,
     "metadata": {},
     "output_type": "execute_result"
    }
   ],
   "source": [
    "df_Mem[\"OpenCardPresent\"][df_Mem[\"OpenCardPresent\"] == 0] = 1\n",
    "df_Mem[\"OpenCardPresent\"][df_Mem[\"OpenCardPresent\"] != 1] = 0\n",
    "\n",
    "df_Mem[\"OpenCardPresent\"].value_counts()"
   ]
  },
  {
   "cell_type": "markdown",
   "metadata": {},
   "source": [
    "## IsInBlackList"
   ]
  },
  {
   "cell_type": "code",
   "execution_count": 13,
   "metadata": {
    "collapsed": true
   },
   "outputs": [
    {
     "name": "stderr",
     "output_type": "stream",
     "text": [
      "/home/sopper/anaconda3/lib/python3.6/site-packages/ipykernel_launcher.py:1: SettingWithCopyWarning: \n",
      "A value is trying to be set on a copy of a slice from a DataFrame\n",
      "\n",
      "See the caveats in the documentation: http://pandas.pydata.org/pandas-docs/stable/indexing.html#indexing-view-versus-copy\n",
      "  \"\"\"Entry point for launching an IPython kernel.\n",
      "/home/sopper/anaconda3/lib/python3.6/site-packages/ipykernel_launcher.py:2: SettingWithCopyWarning: \n",
      "A value is trying to be set on a copy of a slice from a DataFrame\n",
      "\n",
      "See the caveats in the documentation: http://pandas.pydata.org/pandas-docs/stable/indexing.html#indexing-view-versus-copy\n",
      "  \n"
     ]
    },
    {
     "data": {
      "text/plain": [
       "0    858466\n",
       "1       680\n",
       "Name: IsInBlackList, dtype: int64"
      ]
     },
     "execution_count": 13,
     "metadata": {},
     "output_type": "execute_result"
    }
   ],
   "source": [
    "df_Mem[\"IsInBlackList\"][df_Mem[\"IsInBlackList\"] == \"是\"] = 1\n",
    "df_Mem[\"IsInBlackList\"][df_Mem[\"IsInBlackList\"] != 1] = 0\n",
    "\n",
    "df_Mem[\"IsInBlackList\"].value_counts()"
   ]
  },
  {
   "cell_type": "code",
   "execution_count": 14,
   "metadata": {
    "collapsed": true
   },
   "outputs": [
    {
     "data": {
      "text/html": [
       "<div>\n",
       "<style scoped>\n",
       "    .dataframe tbody tr th:only-of-type {\n",
       "        vertical-align: middle;\n",
       "    }\n",
       "\n",
       "    .dataframe tbody tr th {\n",
       "        vertical-align: top;\n",
       "    }\n",
       "\n",
       "    .dataframe thead th {\n",
       "        text-align: right;\n",
       "    }\n",
       "</style>\n",
       "<table border=\"1\" class=\"dataframe\">\n",
       "  <thead>\n",
       "    <tr style=\"text-align: right;\">\n",
       "      <th></th>\n",
       "      <th>MemberId</th>\n",
       "      <th>RegisterSourceTypeDef</th>\n",
       "      <th>OpenCardPresent</th>\n",
       "      <th>IsInBlackList</th>\n",
       "      <th>Female</th>\n",
       "      <th>Male</th>\n",
       "    </tr>\n",
       "  </thead>\n",
       "  <tbody>\n",
       "    <tr>\n",
       "      <th>0</th>\n",
       "      <td>1587633</td>\n",
       "      <td>1</td>\n",
       "      <td>1</td>\n",
       "      <td>0</td>\n",
       "      <td>0</td>\n",
       "      <td>0</td>\n",
       "    </tr>\n",
       "    <tr>\n",
       "      <th>1</th>\n",
       "      <td>1587634</td>\n",
       "      <td>1</td>\n",
       "      <td>1</td>\n",
       "      <td>0</td>\n",
       "      <td>0</td>\n",
       "      <td>0</td>\n",
       "    </tr>\n",
       "    <tr>\n",
       "      <th>2</th>\n",
       "      <td>1587658</td>\n",
       "      <td>1</td>\n",
       "      <td>1</td>\n",
       "      <td>0</td>\n",
       "      <td>0</td>\n",
       "      <td>0</td>\n",
       "    </tr>\n",
       "    <tr>\n",
       "      <th>3</th>\n",
       "      <td>1587809</td>\n",
       "      <td>1</td>\n",
       "      <td>1</td>\n",
       "      <td>0</td>\n",
       "      <td>0</td>\n",
       "      <td>0</td>\n",
       "    </tr>\n",
       "    <tr>\n",
       "      <th>4</th>\n",
       "      <td>1587830</td>\n",
       "      <td>1</td>\n",
       "      <td>1</td>\n",
       "      <td>0</td>\n",
       "      <td>0</td>\n",
       "      <td>0</td>\n",
       "    </tr>\n",
       "  </tbody>\n",
       "</table>\n",
       "</div>"
      ],
      "text/plain": [
       "   MemberId RegisterSourceTypeDef  OpenCardPresent IsInBlackList  Female  Male\n",
       "0   1587633                     1                1             0       0     0\n",
       "1   1587634                     1                1             0       0     0\n",
       "2   1587658                     1                1             0       0     0\n",
       "3   1587809                     1                1             0       0     0\n",
       "4   1587830                     1                1             0       0     0"
      ]
     },
     "execution_count": 14,
     "metadata": {},
     "output_type": "execute_result"
    }
   ],
   "source": [
    "df_Mem.head()"
   ]
  },
  {
   "cell_type": "code",
   "execution_count": 16,
   "metadata": {},
   "outputs": [],
   "source": [
    "df_Mem.to_csv(\"./data/proData/df_Mem.csv\", index=False)"
   ]
  },
  {
   "cell_type": "markdown",
   "metadata": {},
   "source": [
    "# Order"
   ]
  },
  {
   "cell_type": "code",
   "execution_count": 14,
   "metadata": {
    "scrolled": false
   },
   "outputs": [
    {
     "name": "stdout",
     "output_type": "stream",
     "text": [
      "Once deleted, variables cannot be recovered. Proceed (y/[n])? y\n"
     ]
    }
   ],
   "source": [
    "reset"
   ]
  },
  {
   "cell_type": "code",
   "execution_count": 15,
   "metadata": {},
   "outputs": [
    {
     "name": "stderr",
     "output_type": "stream",
     "text": [
      "/home/sopper/anaconda3/lib/python3.6/site-packages/IPython/core/interactiveshell.py:2728: DtypeWarning: Columns (23) have mixed types. Specify dtype option on import or set low_memory=False.\n",
      "  interactivity=interactivity, compiler=compiler, result=result)\n"
     ]
    },
    {
     "data": {
      "text/html": [
       "<div>\n",
       "<style scoped>\n",
       "    .dataframe tbody tr th:only-of-type {\n",
       "        vertical-align: middle;\n",
       "    }\n",
       "\n",
       "    .dataframe tbody tr th {\n",
       "        vertical-align: top;\n",
       "    }\n",
       "\n",
       "    .dataframe thead th {\n",
       "        text-align: right;\n",
       "    }\n",
       "</style>\n",
       "<table border=\"1\" class=\"dataframe\">\n",
       "  <thead>\n",
       "    <tr style=\"text-align: right;\">\n",
       "      <th></th>\n",
       "      <th>DateId</th>\n",
       "      <th>MemberId</th>\n",
       "      <th>OrderGroupCode</th>\n",
       "      <th>TrackSourceTypeDef</th>\n",
       "      <th>TrackDeviceTypeDef</th>\n",
       "      <th>PayProfileTypeDef</th>\n",
       "      <th>SalesOrderSlaveId</th>\n",
       "      <th>SalePageId</th>\n",
       "      <th>IsMajor</th>\n",
       "      <th>IsGift</th>\n",
       "      <th>...</th>\n",
       "      <th>SalesOrderReceiverId</th>\n",
       "      <th>City</th>\n",
       "      <th>District</th>\n",
       "      <th>ZipCode</th>\n",
       "      <th>StoreName</th>\n",
       "      <th>StoreId</th>\n",
       "      <th>DeliverTypeDef</th>\n",
       "      <th>StatusDef</th>\n",
       "      <th>ReturnGoodsDateId</th>\n",
       "      <th>CauseDef</th>\n",
       "    </tr>\n",
       "  </thead>\n",
       "  <tbody>\n",
       "    <tr>\n",
       "      <th>0</th>\n",
       "      <td>20150703</td>\n",
       "      <td>1388133</td>\n",
       "      <td>b'\\xd0_\\x8eby\\xe8\\x88\\xa5\\x85\\xe4\\x15\\nMC\\xeaO...</td>\n",
       "      <td>Web</td>\n",
       "      <td>Mobile</td>\n",
       "      <td>SevenEleven</td>\n",
       "      <td>4457777</td>\n",
       "      <td>1242871</td>\n",
       "      <td>True</td>\n",
       "      <td>False</td>\n",
       "      <td>...</td>\n",
       "      <td>1480890</td>\n",
       "      <td>嘉義縣</td>\n",
       "      <td>水上鄉</td>\n",
       "      <td>608.0</td>\n",
       "      <td>中庄門市</td>\n",
       "      <td>910828</td>\n",
       "      <td>SevenEleven</td>\n",
       "      <td>Finish</td>\n",
       "      <td>NaN</td>\n",
       "      <td>NaN</td>\n",
       "    </tr>\n",
       "    <tr>\n",
       "      <th>1</th>\n",
       "      <td>20150703</td>\n",
       "      <td>1388133</td>\n",
       "      <td>b'\\xd0_\\x8eby\\xe8\\x88\\xa5\\x85\\xe4\\x15\\nMC\\xeaO...</td>\n",
       "      <td>Web</td>\n",
       "      <td>Mobile</td>\n",
       "      <td>SevenEleven</td>\n",
       "      <td>4457778</td>\n",
       "      <td>1242880</td>\n",
       "      <td>True</td>\n",
       "      <td>False</td>\n",
       "      <td>...</td>\n",
       "      <td>1480890</td>\n",
       "      <td>嘉義縣</td>\n",
       "      <td>水上鄉</td>\n",
       "      <td>608.0</td>\n",
       "      <td>中庄門市</td>\n",
       "      <td>910828</td>\n",
       "      <td>SevenEleven</td>\n",
       "      <td>Finish</td>\n",
       "      <td>NaN</td>\n",
       "      <td>NaN</td>\n",
       "    </tr>\n",
       "    <tr>\n",
       "      <th>2</th>\n",
       "      <td>20150703</td>\n",
       "      <td>1388133</td>\n",
       "      <td>b'\\xd0_\\x8eby\\xe8\\x88\\xa5\\x85\\xe4\\x15\\nMC\\xeaO...</td>\n",
       "      <td>Web</td>\n",
       "      <td>Mobile</td>\n",
       "      <td>SevenEleven</td>\n",
       "      <td>4457779</td>\n",
       "      <td>1242880</td>\n",
       "      <td>True</td>\n",
       "      <td>False</td>\n",
       "      <td>...</td>\n",
       "      <td>1480890</td>\n",
       "      <td>嘉義縣</td>\n",
       "      <td>水上鄉</td>\n",
       "      <td>608.0</td>\n",
       "      <td>中庄門市</td>\n",
       "      <td>910828</td>\n",
       "      <td>SevenEleven</td>\n",
       "      <td>Finish</td>\n",
       "      <td>NaN</td>\n",
       "      <td>NaN</td>\n",
       "    </tr>\n",
       "    <tr>\n",
       "      <th>3</th>\n",
       "      <td>20150703</td>\n",
       "      <td>1388133</td>\n",
       "      <td>b'\\xd0_\\x8eby\\xe8\\x88\\xa5\\x85\\xe4\\x15\\nMC\\xeaO...</td>\n",
       "      <td>Web</td>\n",
       "      <td>Mobile</td>\n",
       "      <td>SevenEleven</td>\n",
       "      <td>4457780</td>\n",
       "      <td>1175574</td>\n",
       "      <td>True</td>\n",
       "      <td>False</td>\n",
       "      <td>...</td>\n",
       "      <td>1480890</td>\n",
       "      <td>嘉義縣</td>\n",
       "      <td>水上鄉</td>\n",
       "      <td>608.0</td>\n",
       "      <td>中庄門市</td>\n",
       "      <td>910828</td>\n",
       "      <td>SevenEleven</td>\n",
       "      <td>Finish</td>\n",
       "      <td>NaN</td>\n",
       "      <td>NaN</td>\n",
       "    </tr>\n",
       "    <tr>\n",
       "      <th>4</th>\n",
       "      <td>20150703</td>\n",
       "      <td>365787</td>\n",
       "      <td>b\"\\x04?}pe$m\\x7f\\x85\\xa0y\\x81'e5\\xca\\xbb\\xf9\\x...</td>\n",
       "      <td>Web</td>\n",
       "      <td>Mobile</td>\n",
       "      <td>SevenEleven</td>\n",
       "      <td>4457791</td>\n",
       "      <td>1194488</td>\n",
       "      <td>True</td>\n",
       "      <td>False</td>\n",
       "      <td>...</td>\n",
       "      <td>1480896</td>\n",
       "      <td>桃園市</td>\n",
       "      <td>中壢區</td>\n",
       "      <td>320.0</td>\n",
       "      <td>復華門市</td>\n",
       "      <td>114071</td>\n",
       "      <td>SevenEleven</td>\n",
       "      <td>Finish</td>\n",
       "      <td>NaN</td>\n",
       "      <td>NaN</td>\n",
       "    </tr>\n",
       "  </tbody>\n",
       "</table>\n",
       "<p>5 rows × 28 columns</p>\n",
       "</div>"
      ],
      "text/plain": [
       "     DateId  MemberId                                     OrderGroupCode  \\\n",
       "0  20150703   1388133  b'\\xd0_\\x8eby\\xe8\\x88\\xa5\\x85\\xe4\\x15\\nMC\\xeaO...   \n",
       "1  20150703   1388133  b'\\xd0_\\x8eby\\xe8\\x88\\xa5\\x85\\xe4\\x15\\nMC\\xeaO...   \n",
       "2  20150703   1388133  b'\\xd0_\\x8eby\\xe8\\x88\\xa5\\x85\\xe4\\x15\\nMC\\xeaO...   \n",
       "3  20150703   1388133  b'\\xd0_\\x8eby\\xe8\\x88\\xa5\\x85\\xe4\\x15\\nMC\\xeaO...   \n",
       "4  20150703    365787  b\"\\x04?}pe$m\\x7f\\x85\\xa0y\\x81'e5\\xca\\xbb\\xf9\\x...   \n",
       "\n",
       "  TrackSourceTypeDef TrackDeviceTypeDef PayProfileTypeDef  SalesOrderSlaveId  \\\n",
       "0                Web             Mobile       SevenEleven            4457777   \n",
       "1                Web             Mobile       SevenEleven            4457778   \n",
       "2                Web             Mobile       SevenEleven            4457779   \n",
       "3                Web             Mobile       SevenEleven            4457780   \n",
       "4                Web             Mobile       SevenEleven            4457791   \n",
       "\n",
       "   SalePageId  IsMajor  IsGift   ...     SalesOrderReceiverId  City  District  \\\n",
       "0     1242871     True   False   ...                  1480890   嘉義縣       水上鄉   \n",
       "1     1242880     True   False   ...                  1480890   嘉義縣       水上鄉   \n",
       "2     1242880     True   False   ...                  1480890   嘉義縣       水上鄉   \n",
       "3     1175574     True   False   ...                  1480890   嘉義縣       水上鄉   \n",
       "4     1194488     True   False   ...                  1480896   桃園市       中壢區   \n",
       "\n",
       "   ZipCode  StoreName  StoreId  DeliverTypeDef StatusDef  ReturnGoodsDateId  \\\n",
       "0    608.0       中庄門市   910828     SevenEleven    Finish                NaN   \n",
       "1    608.0       中庄門市   910828     SevenEleven    Finish                NaN   \n",
       "2    608.0       中庄門市   910828     SevenEleven    Finish                NaN   \n",
       "3    608.0       中庄門市   910828     SevenEleven    Finish                NaN   \n",
       "4    320.0       復華門市   114071     SevenEleven    Finish                NaN   \n",
       "\n",
       "  CauseDef  \n",
       "0      NaN  \n",
       "1      NaN  \n",
       "2      NaN  \n",
       "3      NaN  \n",
       "4      NaN  \n",
       "\n",
       "[5 rows x 28 columns]"
      ]
     },
     "execution_count": 15,
     "metadata": {},
     "output_type": "execute_result"
    }
   ],
   "source": [
    "import pandas as pd\n",
    "# O: Order\n",
    "df_O = pd.read_csv('./data/Orders.csv')\n",
    "df_O.head()"
   ]
  },
  {
   "cell_type": "code",
   "execution_count": 16,
   "metadata": {},
   "outputs": [
    {
     "name": "stdout",
     "output_type": "stream",
     "text": [
      "<class 'pandas.core.frame.DataFrame'>\n",
      "RangeIndex: 5495276 entries, 0 to 5495275\n",
      "Data columns (total 28 columns):\n",
      "DateId                         int64\n",
      "MemberId                       int64\n",
      "OrderGroupCode                 object\n",
      "TrackSourceTypeDef             object\n",
      "TrackDeviceTypeDef             object\n",
      "PayProfileTypeDef              object\n",
      "SalesOrderSlaveId              int64\n",
      "SalePageId                     int64\n",
      "IsMajor                        bool\n",
      "IsGift                         bool\n",
      "IsSalePageGift                 bool\n",
      "Quantity                       int64\n",
      "UnitPrice                      float64\n",
      "PromotionDiscount              float64\n",
      "ECouponId                      int64\n",
      "ECouponDiscount                float64\n",
      "SalesOrderSlaveTotalPayment    float64\n",
      "SalesOrderSlaveDateTime        object\n",
      "SalesOrderReceiverId           int64\n",
      "City                           object\n",
      "District                       object\n",
      "ZipCode                        float64\n",
      "StoreName                      object\n",
      "StoreId                        object\n",
      "DeliverTypeDef                 object\n",
      "StatusDef                      object\n",
      "ReturnGoodsDateId              float64\n",
      "CauseDef                       object\n",
      "dtypes: bool(3), float64(6), int64(7), object(12)\n",
      "memory usage: 1.0+ GB\n"
     ]
    }
   ],
   "source": [
    "df_O.info()"
   ]
  },
  {
   "cell_type": "markdown",
   "metadata": {},
   "source": [
    "## 聚合運算\n",
    "### 聚合方式\n",
    "* by\n",
    "    * MemberId\n",
    "    * OrderGroupCode\n",
    "* Item\n",
    "    * DateId: first\n",
    "    * TrackSourceTypeDef: first\n",
    "    * TrackDeviceTypeDef: first\n",
    "    * PromotionDiscount: sum\n",
    "    * ECouponId: first\n",
    "    * ECouponDiscount: sum\n",
    "    * SalesOrderSlaveTotalPayment: sum\n",
    "    * SalesOrderSlaveDateTime: first\n",
    "    * City: first\n",
    "    * StatusDef: first"
   ]
  },
  {
   "cell_type": "code",
   "execution_count": 17,
   "metadata": {},
   "outputs": [],
   "source": [
    "# 將不需要的欄位拿掉\n",
    "df_O.drop([\"DateId\", \"PayProfileTypeDef\", \"SalesOrderSlaveId\", \"SalePageId\", \\\n",
    "            \"IsMajor\", \"IsGift\", \"IsSalePageGift\", \"Quantity\", \"UnitPrice\", \\\n",
    "            \"District\", \"ZipCode\", \"StoreName\", \"StoreId\", \"DeliverTypeDef\", \\\n",
    "            \"ReturnGoodsDateId\", \"CauseDef\", \"SalesOrderReceiverId\"], axis=1, inplace=True)"
   ]
  },
  {
   "cell_type": "code",
   "execution_count": 18,
   "metadata": {
    "scrolled": false
   },
   "outputs": [],
   "source": [
    "# 定義各欄位需要的聚合方式\n",
    "groupby_dict = {\n",
    "    \"TrackSourceTypeDef\": \"first\",\n",
    "    \"TrackDeviceTypeDef\": \"first\",\n",
    "    \"PromotionDiscount\": \"sum\",\n",
    "    \"ECouponId\": \"first\",\n",
    "    \"ECouponDiscount\": \"sum\",\n",
    "    \"SalesOrderSlaveTotalPayment\": \"sum\",\n",
    "    \"SalesOrderSlaveDateTime\": \"first\",\n",
    "    \"City\": \"first\",\n",
    "    \"StatusDef\": \"first\"\n",
    "}\n",
    "data = df_O.groupby([\"MemberId\", \"OrderGroupCode\"]).aggregate(groupby_dict)"
   ]
  },
  {
   "cell_type": "code",
   "execution_count": 19,
   "metadata": {},
   "outputs": [
    {
     "data": {
      "text/html": [
       "<div>\n",
       "<style scoped>\n",
       "    .dataframe tbody tr th:only-of-type {\n",
       "        vertical-align: middle;\n",
       "    }\n",
       "\n",
       "    .dataframe tbody tr th {\n",
       "        vertical-align: top;\n",
       "    }\n",
       "\n",
       "    .dataframe thead th {\n",
       "        text-align: right;\n",
       "    }\n",
       "</style>\n",
       "<table border=\"1\" class=\"dataframe\">\n",
       "  <thead>\n",
       "    <tr style=\"text-align: right;\">\n",
       "      <th></th>\n",
       "      <th>MemberId</th>\n",
       "      <th>OrderGroupCode</th>\n",
       "      <th>TrackSourceTypeDef</th>\n",
       "      <th>TrackDeviceTypeDef</th>\n",
       "      <th>PromotionDiscount</th>\n",
       "      <th>ECouponId</th>\n",
       "      <th>ECouponDiscount</th>\n",
       "      <th>SalesOrderSlaveTotalPayment</th>\n",
       "      <th>SalesOrderSlaveDateTime</th>\n",
       "      <th>City</th>\n",
       "      <th>StatusDef</th>\n",
       "    </tr>\n",
       "  </thead>\n",
       "  <tbody>\n",
       "    <tr>\n",
       "      <th>0</th>\n",
       "      <td>1326</td>\n",
       "      <td>b's\\xc2 \\xc2\\x9bS\\x91\\xfe\\x00l[\\x95\\x18\\xca\\x8...</td>\n",
       "      <td>Web</td>\n",
       "      <td>PC</td>\n",
       "      <td>0.0</td>\n",
       "      <td>0</td>\n",
       "      <td>0.0</td>\n",
       "      <td>249.0</td>\n",
       "      <td>2016-07-15 12:04:25.547</td>\n",
       "      <td>台北市</td>\n",
       "      <td>Cancel</td>\n",
       "    </tr>\n",
       "    <tr>\n",
       "      <th>1</th>\n",
       "      <td>1329</td>\n",
       "      <td>b'\\x1b\\xe9E\\xdc\\x8a0\\xf5\\xce\\xaa\\xf6\\x99L\\xa1?...</td>\n",
       "      <td>Web</td>\n",
       "      <td>PC</td>\n",
       "      <td>0.0</td>\n",
       "      <td>0</td>\n",
       "      <td>0.0</td>\n",
       "      <td>420.0</td>\n",
       "      <td>2015-08-26 14:24:09.020</td>\n",
       "      <td>台北市</td>\n",
       "      <td>Cancel</td>\n",
       "    </tr>\n",
       "    <tr>\n",
       "      <th>2</th>\n",
       "      <td>1329</td>\n",
       "      <td>b'\\x9a\\xdc\\xaa\\x1c\\xedC1\\xd5\\x83k(\\xfd\\xc8\\x9d...</td>\n",
       "      <td>Web</td>\n",
       "      <td>PC</td>\n",
       "      <td>0.0</td>\n",
       "      <td>0</td>\n",
       "      <td>0.0</td>\n",
       "      <td>299.0</td>\n",
       "      <td>2015-08-31 18:32:54.320</td>\n",
       "      <td>台北市</td>\n",
       "      <td>Cancel</td>\n",
       "    </tr>\n",
       "    <tr>\n",
       "      <th>3</th>\n",
       "      <td>1329</td>\n",
       "      <td>b'f\\x02\\xc2\\xbbB\\xd7}\\\\uXe\\x14D4\\xa2\\x07&gt;O\\xfa...</td>\n",
       "      <td>Web</td>\n",
       "      <td>PC</td>\n",
       "      <td>0.0</td>\n",
       "      <td>0</td>\n",
       "      <td>0.0</td>\n",
       "      <td>199.0</td>\n",
       "      <td>2015-09-03 18:07:48.750</td>\n",
       "      <td>台北市</td>\n",
       "      <td>Cancel</td>\n",
       "    </tr>\n",
       "    <tr>\n",
       "      <th>4</th>\n",
       "      <td>1334</td>\n",
       "      <td>b'(\\x87V\\xea\\x92Z\\xc1\\xca\\xbd\\x1b-\\xb6\\x80\\xc3...</td>\n",
       "      <td>Web</td>\n",
       "      <td>Mobile</td>\n",
       "      <td>0.0</td>\n",
       "      <td>0</td>\n",
       "      <td>0.0</td>\n",
       "      <td>280.0</td>\n",
       "      <td>2015-11-18 18:42:51.193</td>\n",
       "      <td>台北市</td>\n",
       "      <td>Cancel</td>\n",
       "    </tr>\n",
       "  </tbody>\n",
       "</table>\n",
       "</div>"
      ],
      "text/plain": [
       "   MemberId                                     OrderGroupCode  \\\n",
       "0      1326  b's\\xc2 \\xc2\\x9bS\\x91\\xfe\\x00l[\\x95\\x18\\xca\\x8...   \n",
       "1      1329  b'\\x1b\\xe9E\\xdc\\x8a0\\xf5\\xce\\xaa\\xf6\\x99L\\xa1?...   \n",
       "2      1329  b'\\x9a\\xdc\\xaa\\x1c\\xedC1\\xd5\\x83k(\\xfd\\xc8\\x9d...   \n",
       "3      1329  b'f\\x02\\xc2\\xbbB\\xd7}\\\\uXe\\x14D4\\xa2\\x07>O\\xfa...   \n",
       "4      1334  b'(\\x87V\\xea\\x92Z\\xc1\\xca\\xbd\\x1b-\\xb6\\x80\\xc3...   \n",
       "\n",
       "  TrackSourceTypeDef TrackDeviceTypeDef  PromotionDiscount  ECouponId  \\\n",
       "0                Web                 PC                0.0          0   \n",
       "1                Web                 PC                0.0          0   \n",
       "2                Web                 PC                0.0          0   \n",
       "3                Web                 PC                0.0          0   \n",
       "4                Web             Mobile                0.0          0   \n",
       "\n",
       "   ECouponDiscount  SalesOrderSlaveTotalPayment  SalesOrderSlaveDateTime City  \\\n",
       "0              0.0                        249.0  2016-07-15 12:04:25.547  台北市   \n",
       "1              0.0                        420.0  2015-08-26 14:24:09.020  台北市   \n",
       "2              0.0                        299.0  2015-08-31 18:32:54.320  台北市   \n",
       "3              0.0                        199.0  2015-09-03 18:07:48.750  台北市   \n",
       "4              0.0                        280.0  2015-11-18 18:42:51.193  台北市   \n",
       "\n",
       "  StatusDef  \n",
       "0    Cancel  \n",
       "1    Cancel  \n",
       "2    Cancel  \n",
       "3    Cancel  \n",
       "4    Cancel  "
      ]
     },
     "execution_count": 19,
     "metadata": {},
     "output_type": "execute_result"
    }
   ],
   "source": [
    "df_O_result = pd.DataFrame(data).reset_index()\n",
    "df_O_result.head()"
   ]
  },
  {
   "cell_type": "markdown",
   "metadata": {},
   "source": [
    "## 檢視各欄位內容"
   ]
  },
  {
   "cell_type": "code",
   "execution_count": 20,
   "metadata": {},
   "outputs": [
    {
     "name": "stdout",
     "output_type": "stream",
     "text": [
      "TrackSourceTypeDef \n",
      "\n",
      "Web           817281\n",
      "AndroidApp    272290\n",
      "iOSApp        254363\n",
      "Name: TrackSourceTypeDef, dtype: int64\n",
      "NAN: 0\n",
      "----------------------------------------\n",
      "TrackDeviceTypeDef \n",
      "\n",
      "Mobile    1140763\n",
      "PC         203097\n",
      "Pad            74\n",
      "Name: TrackDeviceTypeDef, dtype: int64\n",
      "NAN: 0\n",
      "----------------------------------------\n",
      "City \n",
      "\n",
      "新北市    280053\n",
      "台中市    194912\n",
      "台北市    162884\n",
      "桃園市    143239\n",
      "高雄市    142018\n",
      "台南市    100734\n",
      "彰化縣     49809\n",
      "新竹市     34922\n",
      "屏東縣     32269\n",
      "新竹縣     30720\n",
      "苗栗縣     26422\n",
      "雲林縣     22382\n",
      "基隆市     21302\n",
      "宜蘭縣     21296\n",
      "南投縣     18975\n",
      "嘉義縣     17372\n",
      "花蓮縣     17180\n",
      "嘉義市     13838\n",
      "台東縣      8797\n",
      "澎湖縣      4397\n",
      "屏東市       201\n",
      "台東市       122\n",
      "桃園縣        21\n",
      "1st        16\n",
      "New        10\n",
      "<fo         7\n",
      "Nan         5\n",
      "Tao         5\n",
      "Tai         3\n",
      "25          3\n",
      "Kot         2\n",
      "No.         2\n",
      "Daf         2\n",
      "Jia         2\n",
      "Hsi         1\n",
      "Ins         1\n",
      "Keb         1\n",
      "Hy          1\n",
      "Quậ         1\n",
      "Cha         1\n",
      "Aya         1\n",
      "Kao         1\n",
      "Đại         1\n",
      "Xin         1\n",
      "Name: City, dtype: int64\n",
      "NAN: 2\n",
      "----------------------------------------\n",
      "StatusDef \n",
      "\n",
      "Finish               1018638\n",
      "Cancel                181725\n",
      "Overdue                81454\n",
      "ReturnGoods            61766\n",
      "WaitingToShipping        200\n",
      "CreditCheckFail          151\n",
      "Name: StatusDef, dtype: int64\n",
      "NAN: 0\n",
      "----------------------------------------\n"
     ]
    }
   ],
   "source": [
    "check_list = [\"TrackSourceTypeDef\", \"TrackDeviceTypeDef\", \"City\", \"StatusDef\"]\n",
    "for i in df_O_result:\n",
    "    if i in check_list:\n",
    "        print(i, \"\\n\")\n",
    "        print(df_O_result[i].value_counts())\n",
    "        print(\"NAN:\", df_O_result[i].isnull().sum())\n",
    "        print(\"----------------------------------------\")"
   ]
  },
  {
   "cell_type": "markdown",
   "metadata": {},
   "source": [
    "## 選定欄位之內容\n",
    "* **TrackSourceTypeDef**\n",
    "    * NAN: 0\n",
    "    * Web: 817281\n",
    "    * AndroidApp: 272290\n",
    "    * iOSApp: 254363\n",
    "> 更改內容： Web->0, AndroidApp&iOSApp->1\n",
    "\n",
    "* **TrackDeviceTypeDef**\n",
    "    * Mobile: 1140763\n",
    "    * PC: 203097\n",
    "    * Pad: 74\n",
    "> 更改內容： Mobile->0, PC&Pad->1\n",
    "\n",
    "* **City**\n",
    "    * 新北市: 280053\n",
    "    * 台中市: 194912\n",
    "    * 台北市: 162884\n",
    "    * 桃園市: 143239\n",
    "    * 高雄市: 142018\n",
    "    * 台南市: 100734\n",
    "    * 彰化縣:  49809\n",
    "    * 新竹市:  34922\n",
    "    * 屏東縣:  32269\n",
    "    * 新竹縣:  30720\n",
    "    * 苗栗縣:  26422\n",
    "    * 雲林縣:  22382\n",
    "    * 基隆市:  21302\n",
    "    * 宜蘭縣:  21296\n",
    "    * 南投縣:  18975\n",
    "    * 嘉義縣:  17372\n",
    "    * 花蓮縣:  17180\n",
    "    * 嘉義市:  13838\n",
    "    * 台東縣:   8797\n",
    "    * 澎湖縣:   4397\n",
    "    * 屏東市:    201\n",
    "    * 台東市:    122\n",
    "    * 桃園縣:     21\n",
    "    * 1st: 16\n",
    "    * New: 10\n",
    "    * <fo: 7\n",
    "    * Tao: 5\n",
    "    * Nan: 5\n",
    "    * Tai: 3\n",
    "    * 25:  3\n",
    "    * No.: 2\n",
    "    * Daf: 2\n",
    "    * Jia: 2\n",
    "    * Kot: 2\n",
    "    * Aya: 1\n",
    "    * Keb: 1\n",
    "    * Cha: 1\n",
    "    * Kao: 1\n",
    "    * Đại: 1\n",
    "    * Ins: 1\n",
    "    * Hy:  1\n",
    "    * Hsi: 1\n",
    "    * Quậ: 1\n",
    "    * Xin: 1\n",
    "    * NAN: 2\n",
    "> 刪除缺失資料 \n",
    "> 新增欄位：\n",
    "        * 台北市: A\n",
    "        * 台中市: B\n",
    "        * 基隆市: C\n",
    "        * 台南市: D\n",
    "        * 高雄市: E\n",
    "        * 新北市: F\n",
    "        * 宜蘭縣: G\n",
    "        * 桃園市: H\n",
    "        * 嘉義市: I\n",
    "        * 新竹縣: J\n",
    "        * 苗栗縣: K\n",
    "        * 台中市: L\n",
    "        * 南投縣: M\n",
    "        * 彰化縣: N\n",
    "        * 新竹市: O\n",
    "        * 雲林縣: P\n",
    "        * 嘉義縣: Q\n",
    "        * 台南縣: R\n",
    "        * 高雄縣: S\n",
    "        * 屏東縣: T\n",
    "        * 花蓮縣: U\n",
    "        * 台東縣: V\n",
    "        * 金門縣: W\n",
    "        * 澎湖縣: X\n",
    "        * 陽明山: Y\n",
    "        * 連江縣: Z\n",
    "\n",
    "* **StatusDef**\n",
    "    * Finish: 1018638\n",
    "    * Cancel: 181725\n",
    "    * Overdue: 81454\n",
    "    * ReturnGoods: 61766\n",
    "    * WaitingToShipping: 200\n",
    "    * CreditCheckFail: 151\n",
    "    * NAN: 0\n",
    "> 更改內容： Finish->1, others->0"
   ]
  },
  {
   "cell_type": "markdown",
   "metadata": {},
   "source": [
    "## TrackSourceTypeDef"
   ]
  },
  {
   "cell_type": "code",
   "execution_count": 21,
   "metadata": {},
   "outputs": [
    {
     "name": "stderr",
     "output_type": "stream",
     "text": [
      "/home/sopper/anaconda3/lib/python3.6/site-packages/ipykernel_launcher.py:2: SettingWithCopyWarning: \n",
      "A value is trying to be set on a copy of a slice from a DataFrame\n",
      "\n",
      "See the caveats in the documentation: http://pandas.pydata.org/pandas-docs/stable/indexing.html#indexing-view-versus-copy\n",
      "  \n",
      "/home/sopper/anaconda3/lib/python3.6/site-packages/ipykernel_launcher.py:3: SettingWithCopyWarning: \n",
      "A value is trying to be set on a copy of a slice from a DataFrame\n",
      "\n",
      "See the caveats in the documentation: http://pandas.pydata.org/pandas-docs/stable/indexing.html#indexing-view-versus-copy\n",
      "  This is separate from the ipykernel package so we can avoid doing imports until\n"
     ]
    },
    {
     "data": {
      "text/plain": [
       "0    817281\n",
       "1    526653\n",
       "Name: TrackSourceTypeDef, dtype: int64"
      ]
     },
     "execution_count": 21,
     "metadata": {},
     "output_type": "execute_result"
    }
   ],
   "source": [
    "# Web->0, AndroidApp&iOSApp->1\n",
    "df_O_result[\"TrackSourceTypeDef\"][df_O_result[\"TrackSourceTypeDef\"] == \"Web\"] = 0\n",
    "df_O_result[\"TrackSourceTypeDef\"][df_O_result[\"TrackSourceTypeDef\"] != 0] = 1\n",
    "\n",
    "df_O_result[\"TrackSourceTypeDef\"].value_counts()"
   ]
  },
  {
   "cell_type": "markdown",
   "metadata": {},
   "source": [
    "## TrackDeviceTypeDef"
   ]
  },
  {
   "cell_type": "code",
   "execution_count": 22,
   "metadata": {},
   "outputs": [
    {
     "name": "stderr",
     "output_type": "stream",
     "text": [
      "/home/sopper/anaconda3/lib/python3.6/site-packages/ipykernel_launcher.py:2: SettingWithCopyWarning: \n",
      "A value is trying to be set on a copy of a slice from a DataFrame\n",
      "\n",
      "See the caveats in the documentation: http://pandas.pydata.org/pandas-docs/stable/indexing.html#indexing-view-versus-copy\n",
      "  \n",
      "/home/sopper/anaconda3/lib/python3.6/site-packages/ipykernel_launcher.py:3: SettingWithCopyWarning: \n",
      "A value is trying to be set on a copy of a slice from a DataFrame\n",
      "\n",
      "See the caveats in the documentation: http://pandas.pydata.org/pandas-docs/stable/indexing.html#indexing-view-versus-copy\n",
      "  This is separate from the ipykernel package so we can avoid doing imports until\n"
     ]
    },
    {
     "data": {
      "text/plain": [
       "0    1140763\n",
       "1     203171\n",
       "Name: TrackDeviceTypeDef, dtype: int64"
      ]
     },
     "execution_count": 22,
     "metadata": {},
     "output_type": "execute_result"
    }
   ],
   "source": [
    "# Mobile->0, PC&Pad->1\n",
    "df_O_result[\"TrackDeviceTypeDef\"][df_O_result[\"TrackDeviceTypeDef\"] == \"Mobile\"] = 0\n",
    "df_O_result[\"TrackDeviceTypeDef\"][df_O_result[\"TrackDeviceTypeDef\"] != 0] = 1\n",
    "\n",
    "df_O_result[\"TrackDeviceTypeDef\"].value_counts()"
   ]
  },
  {
   "cell_type": "markdown",
   "metadata": {},
   "source": [
    "## City"
   ]
  },
  {
   "cell_type": "code",
   "execution_count": 23,
   "metadata": {},
   "outputs": [
    {
     "name": "stderr",
     "output_type": "stream",
     "text": [
      "/home/sopper/anaconda3/lib/python3.6/site-packages/ipykernel_launcher.py:39: SettingWithCopyWarning: \n",
      "A value is trying to be set on a copy of a slice from a DataFrame\n",
      "\n",
      "See the caveats in the documentation: http://pandas.pydata.org/pandas-docs/stable/indexing.html#indexing-view-versus-copy\n"
     ]
    },
    {
     "data": {
      "text/plain": [
       "F      280053\n",
       "B      194912\n",
       "A      162884\n",
       "H      143239\n",
       "E      142018\n",
       "D      100734\n",
       "N       49809\n",
       "O       34922\n",
       "T       32269\n",
       "J       30720\n",
       "K       26422\n",
       "P       22382\n",
       "C       21302\n",
       "G       21296\n",
       "M       18975\n",
       "Q       17372\n",
       "U       17180\n",
       "I       13838\n",
       "V        8797\n",
       "X        4397\n",
       "L         201\n",
       "AA        122\n",
       "AB         21\n",
       "1st        16\n",
       "New        10\n",
       "<fo         7\n",
       "Tao         5\n",
       "Nan         5\n",
       "25          3\n",
       "Tai         3\n",
       "No.         2\n",
       "Kot         2\n",
       "Daf         2\n",
       "Jia         2\n",
       "Quậ         1\n",
       "Aya         1\n",
       "Đại         1\n",
       "Kao         1\n",
       "Keb         1\n",
       "Cha         1\n",
       "Hy          1\n",
       "Hsi         1\n",
       "Ins         1\n",
       "Xin         1\n",
       "Name: City, dtype: int64"
      ]
     },
     "execution_count": 23,
     "metadata": {},
     "output_type": "execute_result"
    }
   ],
   "source": [
    "# 刪除闕漏資料\n",
    "country_dict = {\n",
    "    \"台北市\": \"A\", \n",
    "    \"台中市\": \"B\", \n",
    "    \"基隆市\": \"C\", \n",
    "    \"台南市\": \"D\", \n",
    "    \"高雄市\": \"E\", \n",
    "    \"新北市\": \"F\", \n",
    "    \"宜蘭縣\": \"G\", \n",
    "    \"桃園市\": \"H\", \n",
    "    \"嘉義市\": \"I\", \n",
    "    \"新竹縣\": \"J\", \n",
    "    \"苗栗縣\": \"K\",\n",
    "    \"屏東市\": \"L\",\n",
    "    \"南投縣\": \"M\", \n",
    "    \"彰化縣\": \"N\", \n",
    "    \"新竹市\": \"O\", \n",
    "    \"雲林縣\": \"P\", \n",
    "    \"嘉義縣\": \"Q\", \n",
    "    \"台南縣\": \"R\", \n",
    "    \"高雄縣\": \"S\", \n",
    "    \"屏東縣\": \"T\", \n",
    "    \"花蓮縣\": \"U\", \n",
    "    \"台東縣\": \"V\", \n",
    "    \"金門縣\": \"W\", \n",
    "    \"澎湖縣\": \"X\", \n",
    "    \"陽明山\": \"Y\", \n",
    "    \"連江縣\": \"Z\", \n",
    "    \"台東市\": \"AA\",\n",
    "    \"桃園縣\": \"AB\"\n",
    "}\n",
    "\n",
    "# for i in df_O_result['City']:\n",
    "# #     print(i)\n",
    "#     if i in country_dict.keys():\n",
    "#         print(\"yes\")\n",
    "    \n",
    "for i in country_dict:\n",
    "    df_O_result[\"City\"][df_O_result[\"City\"] == i] = country_dict[i]\n",
    "\n",
    "df_O_result[\"City\"].value_counts()\n",
    "# if \"台市\" in country_dict.keys():\n",
    "#     print(\"yes\")"
   ]
  },
  {
   "cell_type": "code",
   "execution_count": 24,
   "metadata": {},
   "outputs": [
    {
     "name": "stderr",
     "output_type": "stream",
     "text": [
      "/home/sopper/anaconda3/lib/python3.6/site-packages/ipykernel_launcher.py:4: SettingWithCopyWarning: \n",
      "A value is trying to be set on a copy of a slice from a DataFrame\n",
      "\n",
      "See the caveats in the documentation: http://pandas.pydata.org/pandas-docs/stable/indexing.html#indexing-view-versus-copy\n",
      "  after removing the cwd from sys.path.\n"
     ]
    }
   ],
   "source": [
    "# 建立新欄位 & 欄位轉換\n",
    "for i in country_dict.values():\n",
    "    df_O_result[i] = 0\n",
    "    df_O_result[i][df_O_result[\"City\"] == i] = 1\n",
    "    \n",
    "df_O_result.drop(\"City\", axis=1, inplace=True)"
   ]
  },
  {
   "cell_type": "code",
   "execution_count": 25,
   "metadata": {
    "collapsed": true
   },
   "outputs": [
    {
     "name": "stdout",
     "output_type": "stream",
     "text": [
      "A \n",
      " 0    1181050\n",
      "1     162884\n",
      "Name: A, dtype: int64\n",
      "---------------\n",
      "B \n",
      " 0    1149022\n",
      "1     194912\n",
      "Name: B, dtype: int64\n",
      "---------------\n",
      "C \n",
      " 0    1322632\n",
      "1      21302\n",
      "Name: C, dtype: int64\n",
      "---------------\n",
      "D \n",
      " 0    1243200\n",
      "1     100734\n",
      "Name: D, dtype: int64\n",
      "---------------\n",
      "E \n",
      " 0    1201916\n",
      "1     142018\n",
      "Name: E, dtype: int64\n",
      "---------------\n",
      "F \n",
      " 0    1063881\n",
      "1     280053\n",
      "Name: F, dtype: int64\n",
      "---------------\n",
      "G \n",
      " 0    1322638\n",
      "1      21296\n",
      "Name: G, dtype: int64\n",
      "---------------\n",
      "H \n",
      " 0    1200695\n",
      "1     143239\n",
      "Name: H, dtype: int64\n",
      "---------------\n",
      "I \n",
      " 0    1330096\n",
      "1      13838\n",
      "Name: I, dtype: int64\n",
      "---------------\n",
      "J \n",
      " 0    1313214\n",
      "1      30720\n",
      "Name: J, dtype: int64\n",
      "---------------\n",
      "K \n",
      " 0    1317512\n",
      "1      26422\n",
      "Name: K, dtype: int64\n",
      "---------------\n",
      "L \n",
      " 0    1343733\n",
      "1        201\n",
      "Name: L, dtype: int64\n",
      "---------------\n",
      "M \n",
      " 0    1324959\n",
      "1      18975\n",
      "Name: M, dtype: int64\n",
      "---------------\n",
      "N \n",
      " 0    1294125\n",
      "1      49809\n",
      "Name: N, dtype: int64\n",
      "---------------\n",
      "O \n",
      " 0    1309012\n",
      "1      34922\n",
      "Name: O, dtype: int64\n",
      "---------------\n",
      "P \n",
      " 0    1321552\n",
      "1      22382\n",
      "Name: P, dtype: int64\n",
      "---------------\n",
      "Q \n",
      " 0    1326562\n",
      "1      17372\n",
      "Name: Q, dtype: int64\n",
      "---------------\n",
      "R \n",
      " 0    1343934\n",
      "Name: R, dtype: int64\n",
      "---------------\n",
      "S \n",
      " 0    1343934\n",
      "Name: S, dtype: int64\n",
      "---------------\n",
      "T \n",
      " 0    1311665\n",
      "1      32269\n",
      "Name: T, dtype: int64\n",
      "---------------\n",
      "U \n",
      " 0    1326754\n",
      "1      17180\n",
      "Name: U, dtype: int64\n",
      "---------------\n",
      "V \n",
      " 0    1335137\n",
      "1       8797\n",
      "Name: V, dtype: int64\n",
      "---------------\n",
      "W \n",
      " 0    1343934\n",
      "Name: W, dtype: int64\n",
      "---------------\n",
      "X \n",
      " 0    1339537\n",
      "1       4397\n",
      "Name: X, dtype: int64\n",
      "---------------\n",
      "Y \n",
      " 0    1343934\n",
      "Name: Y, dtype: int64\n",
      "---------------\n",
      "Z \n",
      " 0    1343934\n",
      "Name: Z, dtype: int64\n",
      "---------------\n",
      "AA \n",
      " 0    1343812\n",
      "1        122\n",
      "Name: AA, dtype: int64\n",
      "---------------\n",
      "AB \n",
      " 0    1343913\n",
      "1         21\n",
      "Name: AB, dtype: int64\n",
      "---------------\n"
     ]
    }
   ],
   "source": [
    "for i in country_dict.values():\n",
    "    print(i, \"\\n\", df_O_result[i].value_counts())\n",
    "    print(\"---------------\")"
   ]
  },
  {
   "cell_type": "markdown",
   "metadata": {},
   "source": [
    "## StatusDef"
   ]
  },
  {
   "cell_type": "code",
   "execution_count": 26,
   "metadata": {
    "collapsed": true
   },
   "outputs": [
    {
     "name": "stderr",
     "output_type": "stream",
     "text": [
      "/home/sopper/anaconda3/lib/python3.6/site-packages/ipykernel_launcher.py:2: SettingWithCopyWarning: \n",
      "A value is trying to be set on a copy of a slice from a DataFrame\n",
      "\n",
      "See the caveats in the documentation: http://pandas.pydata.org/pandas-docs/stable/indexing.html#indexing-view-versus-copy\n",
      "  \n",
      "/home/sopper/anaconda3/lib/python3.6/site-packages/ipykernel_launcher.py:3: SettingWithCopyWarning: \n",
      "A value is trying to be set on a copy of a slice from a DataFrame\n",
      "\n",
      "See the caveats in the documentation: http://pandas.pydata.org/pandas-docs/stable/indexing.html#indexing-view-versus-copy\n",
      "  This is separate from the ipykernel package so we can avoid doing imports until\n"
     ]
    },
    {
     "data": {
      "text/plain": [
       "1    1018638\n",
       "0     325296\n",
       "Name: StatusDef, dtype: int64"
      ]
     },
     "execution_count": 26,
     "metadata": {},
     "output_type": "execute_result"
    }
   ],
   "source": [
    "# Finish->1, others->0\n",
    "df_O_result[\"StatusDef\"][df_O_result[\"StatusDef\"] == \"Finish\"] = 1\n",
    "df_O_result[\"StatusDef\"][df_O_result[\"StatusDef\"] != 1] = 0\n",
    "\n",
    "df_O_result[\"StatusDef\"].value_counts()"
   ]
  },
  {
   "cell_type": "code",
   "execution_count": 27,
   "metadata": {},
   "outputs": [],
   "source": [
    "df_O_result.to_csv(\"./data/proData/df_O.csv\", index=False)"
   ]
  }
 ],
 "metadata": {
  "kernelspec": {
   "display_name": "Python 3",
   "language": "python",
   "name": "python3"
  },
  "language_info": {
   "codemirror_mode": {
    "name": "ipython",
    "version": 3
   },
   "file_extension": ".py",
   "mimetype": "text/x-python",
   "name": "python",
   "nbconvert_exporter": "python",
   "pygments_lexer": "ipython3",
   "version": "3.6.5"
  }
 },
 "nbformat": 4,
 "nbformat_minor": 2
}
