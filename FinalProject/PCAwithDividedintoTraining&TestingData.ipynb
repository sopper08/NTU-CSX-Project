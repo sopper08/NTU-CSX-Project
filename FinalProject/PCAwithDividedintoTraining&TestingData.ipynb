{
 "cells": [
  {
   "cell_type": "code",
   "execution_count": 1,
   "metadata": {},
   "outputs": [
    {
     "name": "stdout",
     "output_type": "stream",
     "text": [
      "Once deleted, variables cannot be recovered. Proceed (y/[n])? y\n"
     ]
    }
   ],
   "source": [
    "reset"
   ]
  },
  {
   "cell_type": "code",
   "execution_count": 66,
   "metadata": {
    "collapsed": true
   },
   "outputs": [
    {
     "name": "stderr",
     "output_type": "stream",
     "text": [
      "/home/sopper08/anaconda3/lib/python3.6/site-packages/ipykernel_launcher.py:19: SettingWithCopyWarning: \n",
      "A value is trying to be set on a copy of a slice from a DataFrame.\n",
      "Try using .loc[row_indexer,col_indexer] = value instead\n",
      "\n",
      "See the caveats in the documentation: http://pandas.pydata.org/pandas-docs/stable/indexing.html#indexing-view-versus-copy\n",
      "/home/sopper08/anaconda3/lib/python3.6/site-packages/ipykernel_launcher.py:21: SettingWithCopyWarning: \n",
      "A value is trying to be set on a copy of a slice from a DataFrame.\n",
      "Try using .loc[row_indexer,col_indexer] = value instead\n",
      "\n",
      "See the caveats in the documentation: http://pandas.pydata.org/pandas-docs/stable/indexing.html#indexing-view-versus-copy\n"
     ]
    }
   ],
   "source": [
    "import pandas as pd\n",
    "import numpy as np\n",
    "\n",
    "test_seg_list = []\n",
    "test_seg_list.append(0)\n",
    "\n",
    "def div(a):\n",
    "#     print(\"Running seg{0} ... \".format(a))\n",
    "    df = pd.read_csv(\"./data/segData/df_seg%s.csv\"%a)\n",
    "    df.drop([\"Unnamed: 0\", \"MemberId\"], axis=1, inplace=True)\n",
    "#     print(\"Sum of data(for this seg): {0} \".format(len(df)))\n",
    "    msk = np.random.rand(len(df)) < 0.1\n",
    "    train = df[msk]\n",
    "    test = df[~msk]\n",
    "    \n",
    "#     print(train[\"SalesOrderSlaveTotalPayment\"].max())\n",
    "#     print(train[\"SalesOrderSlaveTotalPayment\"].min())\n",
    "    \n",
    "    train[\"SalesOrderSlaveTotalPayment\"] = norm(train[\"SalesOrderSlaveTotalPayment\"])\n",
    "#     print(train[\"SalesOrderSlaveTotalPayment\"])\n",
    "    test[\"SalesOrderSlaveTotalPayment\"] = norm(test[\"SalesOrderSlaveTotalPayment\"])\n",
    "    \n",
    "#     print(\"Sum of training data(for this seg): {0}\".format(len(train)))\n",
    "#     print(\"Sum of testing data(for this seg): {0}\".format(len(test)))\n",
    "    before = test_seg_list[-1]\n",
    "    test_seg_list.append(len(test))\n",
    "    \n",
    "#     print(\"...\")\n",
    "    return train, test\n",
    "\n",
    "def norm(s):\n",
    "    result = (s - s.min())/(s.max()-s.min())\n",
    "    return(result)\n",
    "\n",
    "trainingData, testingData = div(2)\n",
    "# df0, df1 = div(2)\n",
    "# trainingData=pd.concat([trainingData,df0],ignore_index=True)  \n",
    "# print(len(trainingData))\n",
    "# testingData=pd.concat([testingData,df1],ignore_index=True)  \n",
    "# print(len(testingData))\n",
    "\n",
    "for i in range(3,21):\n",
    "    df0, df1 = div(i)\n",
    "    trainingData = pd.concat([trainingData,df0],ignore_index=True)  \n",
    "#     print(len(trainingData))\n",
    "    testingData = pd.concat([testingData,df1],ignore_index=True)  \n",
    "#     print(len(testingData))\n",
    "\n",
    "trainingData[\"num\"] = norm(trainingData[\"num\"])\n",
    "testingData[\"num\"] = norm(testingData[\"num\"])\n",
    "# print(\"Sum of training data: {0}\".format(len(trainingData)))\n",
    "# print(\"Sum of testing data: {0}\".format(len(testingData)))\n",
    "# print(test_seg_list)"
   ]
  },
  {
   "cell_type": "code",
   "execution_count": 67,
   "metadata": {},
   "outputs": [
    {
     "name": "stdout",
     "output_type": "stream",
     "text": [
      "Training set has 75446 rows and 40 columns\n",
      "Test set has 677004 rows and 40 columns\n",
      "testingLabel finish!\n",
      "all Accuracy: 65.92619836810417%\n",
      "num = 2 Accuracy: 56.67292257662769%\n",
      "num = 3 Accuracy: 63.20148246436824%\n",
      "num = 4 Accuracy: 67.57175639469922%\n",
      "num = 5 Accuracy: 70.76342504827879%\n",
      "num = 6 Accuracy: 72.72524199553239%\n",
      "num = 7 Accuracy: 75.08306774259171%\n",
      "num = 8 Accuracy: 76.60858210635328%\n",
      "num = 9 Accuracy: 77.82800117405341%\n",
      "num = 10 Accuracy: 79.47238252267105%\n",
      "num = 11 Accuracy: 80.44729640464283%\n",
      "num = 12 Accuracy: 82.13367609254499%\n",
      "num = 13 Accuracy: 82.28402032749858%\n",
      "num = 14 Accuracy: 84.00137033230558%\n",
      "num = 15 Accuracy: 83.8835349600164%\n",
      "num = 16 Accuracy: 85.44748969197187%\n",
      "num = 17 Accuracy: 85.73839662447259%\n",
      "num = 18 Accuracy: 86.95795006570303%\n",
      "num = 19 Accuracy: 87.0045731707317%\n",
      "num = 20 Accuracy: 88.32244008714596%\n"
     ]
    }
   ],
   "source": [
    "import pandas as pd\n",
    "from sklearn.decomposition import PCA\n",
    "from sklearn.preprocessing import Normalizer\n",
    "from sklearn.svm import SVC\n",
    "\n",
    "def get_testing_labels(training_samples, training_labels, testing_samples):\n",
    "    normalizer       = Normalizer().fit(training_samples)\n",
    "    training_samples = normalizer.transform(training_samples)\n",
    "    testing_samples  = normalizer.transform(testing_samples)\n",
    "\n",
    "    pca              = PCA(n_components=0.8, whiten=True).fit(training_samples)\n",
    "    training_samples = pca.transform(training_samples)\n",
    "    testing_samples  = pca.transform(testing_samples)\n",
    "\n",
    "    svm_classifier   = SVC(C=2.8).fit(training_samples, training_labels)\n",
    "    return svm_classifier.predict(testing_samples)\n",
    "\n",
    "def main():\n",
    "    # Read training and testing data\n",
    "    training_df  = trainingData\n",
    "    testing_df   = testingData\n",
    "    print(\"Training set has {0[0]} rows and {0[1]} columns\".format(training_df.shape))\n",
    "    print(\"Test set has {0[0]} rows and {0[1]} columns\".format(testing_df.shape))\n",
    "\n",
    "    # Get training samples and labels from training data\n",
    "    training_labels     = training_df['label'].values\n",
    "    training_samples    = training_df.drop(['label'], axis = 1).values\n",
    "    # Get testing samples from testing data\n",
    "    real_testing_label  = testing_df['label']\n",
    "    testing_samples     = testing_df.drop(['label'], axis = 1).values\n",
    "    testing_labels      = get_testing_labels(training_samples, training_labels, testing_samples)\n",
    "\n",
    "    # Writing testing labels to CSV\n",
    "    df_label   = pd.DataFrame(testing_labels, columns=['label'])\n",
    "    df_label.index     += 1\n",
    "    df_label.index.name = 'label'\n",
    "    df_label[\"real_testing_label\"] = real_testing_label\n",
    "    df_label.to_csv('./data/training&testingData/testing_labels_df.csv', sep=',', index = False)\n",
    "    print('testingLabel finish!')\n",
    "    \n",
    "    # 計算準確率\n",
    "    df_label['diff'] = df_label['real_testing_label']-df_label['label']\n",
    "    len_df = len(df_label)\n",
    "    accuracy = (len_df - df_label['diff'].abs().sum())/len_df*100\n",
    "    print(\"all Accuracy: {0}%\".format(accuracy))\n",
    "    \n",
    "    index0 = test_seg_list[0]\n",
    "    index1 = test_seg_list[0]-1\n",
    "    for i in range(0,19):\n",
    "        index2 = test_seg_list[i+1]\n",
    "        N = index2 + 1\n",
    "        index0 = index1 + 1\n",
    "        index1 = index1 + index2\n",
    "#         print(i, index2)\n",
    "#         print(index0, index1)\n",
    "        \n",
    "        \n",
    "        accuracy = (N - df_label.iloc[index0:index1,-1].abs().sum())/N*100\n",
    "        print(\"num = {0} Accuracy: {1}%\".format(i+2, accuracy))\n",
    "\n",
    "if __name__ == \"__main__\":\n",
    "    main()"
   ]
  }
 ],
 "metadata": {
  "kernelspec": {
   "display_name": "Python 3",
   "language": "python",
   "name": "python3"
  },
  "language_info": {
   "codemirror_mode": {
    "name": "ipython",
    "version": 3
   },
   "file_extension": ".py",
   "mimetype": "text/x-python",
   "name": "python",
   "nbconvert_exporter": "python",
   "pygments_lexer": "ipython3",
   "version": "3.6.5"
  }
 },
 "nbformat": 4,
 "nbformat_minor": 2
}
