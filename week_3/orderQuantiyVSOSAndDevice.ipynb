{
 "cells": [
  {
   "cell_type": "code",
   "execution_count": 38,
   "metadata": {
    "scrolled": true
   },
   "outputs": [
    {
     "name": "stdout",
     "output_type": "stream",
     "text": [
      "386056\n",
      "386056\n",
      "0\n",
      "0\n"
     ]
    }
   ],
   "source": [
    "import pandas as pd\n",
    "df = pd.read_csv('Ntu_Orders.csv')\n",
    "# 使用AndroidAPP\n",
    "df_AndroidApp = df[df['TrackSourceTypeDef'] == 'AndroidApp']\n",
    "df_AndroidApp_Mobile = df_AndroidApp[df_AndroidApp['TrackDeviceTypeDef'] == 'Mobile']\n",
    "df_AndroidApp_PC = df_AndroidApp[df_AndroidApp['TrackDeviceTypeDef'] == 'PC']\n",
    "df_AndroidApp_Pad = df_AndroidApp[df_AndroidApp['TrackDeviceTypeDef'] == 'Pad']\n",
    "# 以Android Source購買的物件量\n",
    "print(df_AndroidApp.shape[0])\n",
    "print(df_AndroidApp_Mobile.shape[0])\n",
    "print(df_AndroidApp_PC.shape[0])\n",
    "print(df_AndroidApp_Pad.shape[0])"
   ]
  },
  {
   "cell_type": "code",
   "execution_count": 39,
   "metadata": {},
   "outputs": [
    {
     "name": "stdout",
     "output_type": "stream",
     "text": [
      "83092\n",
      "83092\n",
      "0\n",
      "0\n"
     ]
    }
   ],
   "source": [
    "print(df_AndroidApp.groupby(\"TradesOrderGroupCode\").size().shape[0])\n",
    "print(df_AndroidApp_Mobile.groupby(\"TradesOrderGroupCode\").size().shape[0])\n",
    "print(df_AndroidApp_PC.groupby(\"TradesOrderGroupCode\").size().shape[0])\n",
    "print(df_AndroidApp_Pad.groupby(\"TradesOrderGroupCode\").size().shape[0])"
   ]
  },
  {
   "cell_type": "code",
   "execution_count": 41,
   "metadata": {},
   "outputs": [
    {
     "name": "stdout",
     "output_type": "stream",
     "text": [
      "104498\n",
      "104498\n",
      "0\n",
      "0\n"
     ]
    }
   ],
   "source": [
    "df_iOSApp = df[df['TrackSourceTypeDef'] == 'iOSApp']\n",
    "df_iOSApp_Mobile = df_iOSApp[df_iOSApp['TrackDeviceTypeDef'] == 'Mobile']\n",
    "df_iOSApp_PC = df_iOSApp[df_iOSApp['TrackDeviceTypeDef'] == 'PC']\n",
    "df_iOSApp_Pad = df_iOSApp[df_iOSApp['TrackDeviceTypeDef'] == 'Pad']\n",
    "\n",
    "print(df_iOSApp.groupby(\"TradesOrderGroupCode\").size().shape[0])\n",
    "print(df_iOSApp_Mobile.groupby(\"TradesOrderGroupCode\").size().shape[0])\n",
    "print(df_iOSApp_PC.groupby(\"TradesOrderGroupCode\").size().shape[0])\n",
    "print(df_iOSApp_Pad.groupby(\"TradesOrderGroupCode\").size().shape[0])"
   ]
  },
  {
   "cell_type": "code",
   "execution_count": 42,
   "metadata": {},
   "outputs": [
    {
     "name": "stdout",
     "output_type": "stream",
     "text": [
      "335323\n",
      "264939\n",
      "70384\n",
      "0\n"
     ]
    }
   ],
   "source": [
    "df_Web = df[df['TrackSourceTypeDef'] == 'Web']\n",
    "df_Web_Mobile = df_Web[df_Web['TrackDeviceTypeDef'] == 'Mobile']\n",
    "df_Web_PC = df_Web[df_Web['TrackDeviceTypeDef'] == 'PC']\n",
    "df_Web_Pad = df_Web[df_Web['TrackDeviceTypeDef'] == 'Pad']\n",
    "\n",
    "print(df_Web.groupby(\"TradesOrderGroupCode\").size().shape[0])\n",
    "print(df_Web_Mobile.groupby(\"TradesOrderGroupCode\").size().shape[0])\n",
    "print(df_Web_PC.groupby(\"TradesOrderGroupCode\").size().shape[0])\n",
    "print(df_Web_Pad.groupby(\"TradesOrderGroupCode\").size().shape[0])"
   ]
  },
  {
   "cell_type": "code",
   "execution_count": 34,
   "metadata": {},
   "outputs": [
    {
     "name": "stdout",
     "output_type": "stream",
     "text": [
      "1947361\n"
     ]
    }
   ],
   "source": []
  }
 ],
 "metadata": {
  "kernelspec": {
   "display_name": "Python 3",
   "language": "python",
   "name": "python3"
  },
  "language_info": {
   "codemirror_mode": {
    "name": "ipython",
    "version": 3
   },
   "file_extension": ".py",
   "mimetype": "text/x-python",
   "name": "python",
   "nbconvert_exporter": "python",
   "pygments_lexer": "ipython3",
   "version": "3.6.4"
  }
 },
 "nbformat": 4,
 "nbformat_minor": 2
}
