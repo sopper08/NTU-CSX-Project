{
 "cells": [
  {
   "cell_type": "code",
   "execution_count": null,
   "metadata": {},
   "outputs": [],
   "source": [
    "import pandas as pd\n",
    "df = pd.read_csv('Ntu_Orders.csv')\n",
    "df_AndroidAPP = df[df['TrackSourceTypeDef']=='AndroidApp']\n",
    "df_AndroidAPP\n",
    "# df_AndroidAPP_PC     = df[[df['TrackSourceTypeDef']=='AndroidApp']=='PC']\n",
    "# df_AndroidAPP_Pad = df[[df['TrackSourceTypeDef']=='AndroidApp']=='Pad'\n",
    "# df_iOSApp = df[df['TrackSourceTypeDef']=='iOSApp']\n",
    "# df_Web = df[df['TrackSourceTypeDef']=='Web']"
   ]
  }
 ],
 "metadata": {
  "kernelspec": {
   "display_name": "Python 3",
   "language": "python",
   "name": "python3"
  },
  "language_info": {
   "codemirror_mode": {
    "name": "ipython",
    "version": 3
   },
   "file_extension": ".py",
   "mimetype": "text/x-python",
   "name": "python",
   "nbconvert_exporter": "python",
   "pygments_lexer": "ipython3",
   "version": "3.6.4"
  }
 },
 "nbformat": 4,
 "nbformat_minor": 2
}
